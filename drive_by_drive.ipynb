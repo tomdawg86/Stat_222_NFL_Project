{
 "metadata": {
  "name": "drive_by_drive"
 },
 "nbformat": 3,
 "nbformat_minor": 0,
 "worksheets": [
  {
   "cells": [
    {
     "cell_type": "code",
     "collapsed": false,
     "input": [
      "import pandas as pd\n",
      "import numpy as np\n",
      "import csv\n",
      "import math"
     ],
     "language": "python",
     "metadata": {},
     "outputs": [],
     "prompt_number": 1
    },
    {
     "cell_type": "code",
     "collapsed": false,
     "input": [
      "pd.set_option('display.line_width', 300)\n",
      "pbp_data = pd.read_csv('all_season_pbp_data.csv')\n",
      "shifted_data1 = (pbp_data.shift(1)).shift(-1)\n",
      "shifted_data2 = pbp_data.shift(1)\n",
      "shifted_data2.rename(columns=lambda x: 'last_' + x, inplace=True)\n",
      "#shifted_data = shifted_data1.join(shifted_data2, how = 'outer')"
     ],
     "language": "python",
     "metadata": {},
     "outputs": [],
     "prompt_number": 2
    },
    {
     "cell_type": "code",
     "collapsed": false,
     "input": [
      "indexOfLastPlays = lastplay.loc[(shifted_data2[shifted_data1['off'] != shifted_data2['last_off']]\n",
      "                                 | shifted_data2[shifted_data1['gameid'] == shifted_data2['gameid']]\n",
      "                                 | shifted_data2[shifted_data1['qtr'] != shifted_data2['last_qtr']]\n",
      "\n",
      "offTF = shifted_data1['off'] == shifted_data2['last_off'] \n",
      "gameidTF = shifted_data1['gameid'] == shifted_data2['last_gameid'] \n",
      "firstplay = shifted_data1[offTF == False]\n",
      "firstplay = firstplay[gameidTF == True]\n",
      "lastplay = shifted_data2[offTF == False]\n",
      "lastplay = lastplay[gameidTF == True].shift(-1)\n",
      "indexOfLastPlays = lastplay.loc[(lastplay['last_qtr'].isin([3]) & lastplay['last_min'].isin([30]) & lastplay['last_sec'].isin([0])), 'last_Unnamed: 0'] = lastplay['last_Unnamed: 0'] - 1\n",
      "lastplay = pbp_data.ix[indexOfLastPlays]\n",
      "lastplay.rename(columns=lambda x: 'last_' + x, inplace=True)\n",
      "lastplay['last_Unnamed: 0'][0:50]"
     ],
     "language": "python",
     "metadata": {},
     "outputs": [
      {
       "output_type": "pyout",
       "prompt_number": 8,
       "text": [
        "3        3\n",
        "9        9\n",
        "25      25\n",
        "35      35\n",
        "44      44\n",
        "45      45\n",
        "52      52\n",
        "57      57\n",
        "61      61\n",
        "70      70\n",
        "79      79\n",
        "83      83\n",
        "90      90\n",
        "94      94\n",
        "99      99\n",
        "110    110\n",
        "119    119\n",
        "130    130\n",
        "147    147\n",
        "154    154\n",
        "156    156\n",
        "159    159\n",
        "164    164\n",
        "174    174\n",
        "186    186\n",
        "197    197\n",
        "201    201\n",
        "209    209\n",
        "216    216\n",
        "222    222\n",
        "227    227\n",
        "234    234\n",
        "251    251\n",
        "264    264\n",
        "268    268\n",
        "272    272\n",
        "282    282\n",
        "288    288\n",
        "291    291\n",
        "294    294\n",
        "301    301\n",
        "309    309\n",
        "317    317\n",
        "322    322\n",
        "335    335\n",
        "348    348\n",
        "353    353\n",
        "357    357\n",
        "373    373\n",
        "377    377\n",
        "Name: last_Unnamed: 0, dtype: float64"
       ]
      }
     ],
     "prompt_number": 8
    },
    {
     "cell_type": "code",
     "collapsed": false,
     "input": [
      "firstlastplay['down'].head(20)\n",
      "#firstlastplay['last_down'].head(20)"
     ],
     "language": "python",
     "metadata": {},
     "outputs": [
      {
       "output_type": "pyout",
       "prompt_number": 4,
       "text": [
        "1      1\n",
        "5      1\n",
        "11     1\n",
        "27     1\n",
        "37     1\n",
        "46     1\n",
        "47     1\n",
        "54     1\n",
        "59     1\n",
        "63     1\n",
        "72     1\n",
        "81     1\n",
        "85     1\n",
        "92     1\n",
        "96     1\n",
        "101    1\n",
        "112    1\n",
        "121    1\n",
        "132    1\n",
        "149    1\n",
        "Name: down, dtype: float64"
       ]
      }
     ],
     "prompt_number": 4
    },
    {
     "cell_type": "code",
     "collapsed": false,
     "input": [
      "firstlastplay.to_csv('first_last_play.csv', sep=',')"
     ],
     "language": "python",
     "metadata": {},
     "outputs": [],
     "prompt_number": 5
    },
    {
     "cell_type": "code",
     "collapsed": false,
     "input": [
      "#firstPlayOfDriveIndex = df.ix[:,[0,4]]\n",
      "#data = [{'gameid' : 0, 'off': 0}]\n",
      "#rowVec = pd.DataFrame(data)\n",
      "#firstPlayOfDriveIndexTwo = firstPlayOfDriveIndex.append(rowVec, ignore_index=True)\n",
      "#firstPlayOfDriveIndexThree = rowVec.append(firstPlayOfDriveIndex, ignore_index=True)\n",
      "#firstPlayOfDriveIndexThree.columns = ['secGameID','secOff']\n",
      "#firstPlayOfDriveIndexTwo = pd.DataFrame(firstPlayOfDriveIndexTwo)\n",
      "#firstPlayOfDriveIndexThree = pd.DataFrame(firstPlayOfDriveIndexThree)\n",
      "#firstPlayMaster = firstPlayOfDriveIndexTwo.join(firstPlayOfDriveIndexThree)\n",
      "#firstPlayMaster = pd.DataFrame(firstPlayMaster)"
     ],
     "language": "python",
     "metadata": {},
     "outputs": [],
     "prompt_number": 37
    },
    {
     "cell_type": "code",
     "collapsed": false,
     "input": [
      "#firstPlayMaster['offTF'] = firstPlayMaster['off'] == firstPlayMaster['secOff'] \n",
      "#firstPlayMaster['gameIDTF'] = firstPlayMaster['gameid']==firstPlayMaster['secGameID']\n",
      "#firstPlay = firstPlayMaster[firstPlayMaster['offTF'] == False]\n",
      "#firstPlayTwo = firstPlay[firstPlayMaster['gameIDTF'] == True]\n",
      "#indexValsFirst = firstPlayTwo.index\n",
      "#vec = [1]*len(indexValsFirst)"
     ],
     "language": "python",
     "metadata": {},
     "outputs": []
    },
    {
     "cell_type": "code",
     "collapsed": false,
     "input": [
      "#lastIndexData = pd.DataFrame({'index' : indexValsFirst, 'vec' : vec})\n",
      "#indexValsLastOne = lastIndexData['index'] - lastIndexData['vec']\n",
      "#lastEle = len(indexValsLastOne)\n",
      "#lastElement = len(df['gameid'])-1\n",
      "#indexValsLast = indexValsLastOne[1:lastEle]\n",
      "#indexValsLast = np.array(indexValsLast)\n",
      "#indexValsLastTwo = np.append(indexValsLast, lastElement)\n",
      "#firstPlay = df.ix[indexValsFirst, :]\n",
      "#lastPlay = df.ix[indexValsLastTwo, :]\n",
      "#firstPlay['mergeVar'] = np.arange(len(firstPlay))\n",
      "#lastPlay['mergeVar'] = np.arange(len(firstPlay))"
     ],
     "language": "python",
     "metadata": {},
     "outputs": []
    },
    {
     "cell_type": "code",
     "collapsed": false,
     "input": [
      "#driveByDrive = firstPlay.merge(lastPlay, on = 'mergeVar', suffixes = ('_first', '_last')) \n",
      "#print driveByDrive.head(1)\n"
     ],
     "language": "python",
     "metadata": {},
     "outputs": []
    }
   ],
   "metadata": {}
  }
 ]
}