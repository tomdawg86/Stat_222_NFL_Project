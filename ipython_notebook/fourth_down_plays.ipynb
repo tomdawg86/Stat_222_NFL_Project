{
 "metadata": {
  "name": "fourth_down_plays"
 },
 "nbformat": 3,
 "nbformat_minor": 0,
 "worksheets": [
  {
   "cells": [
    {
     "cell_type": "code",
     "collapsed": false,
     "input": [
      "import pandas as pd\n",
      "import numpy as np\n",
      "import csv\n",
      "import math"
     ],
     "language": "python",
     "metadata": {},
     "outputs": [],
     "prompt_number": 1
    },
    {
     "cell_type": "code",
     "collapsed": false,
     "input": [
      "pd.set_option('display.line_width', 300)\n",
      "df = pd.read_csv('/accounts/grad/mikeghirardo/Desktop/github/Stat_222_NFL_Project/NFL_Data_Working/all_season_data.csv')\n",
      "df.head()"
     ],
     "language": "python",
     "metadata": {},
     "outputs": [
      {
       "html": [
        "<div style=\"max-height:1000px;max-width:1500px;overflow:auto;\">\n",
        "<table border=\"1\" class=\"dataframe\">\n",
        "  <thead>\n",
        "    <tr style=\"text-align: right;\">\n",
        "      <th></th>\n",
        "      <th>gameid</th>\n",
        "      <th>qtr</th>\n",
        "      <th>min</th>\n",
        "      <th>sec</th>\n",
        "      <th>off</th>\n",
        "      <th>off rank</th>\n",
        "      <th>def</th>\n",
        "      <th>def rank</th>\n",
        "      <th>down</th>\n",
        "      <th>togo</th>\n",
        "      <th>ydline</th>\n",
        "      <th>description</th>\n",
        "      <th>offscore</th>\n",
        "      <th>defscore</th>\n",
        "      <th>season</th>\n",
        "    </tr>\n",
        "  </thead>\n",
        "  <tbody>\n",
        "    <tr>\n",
        "      <th>0</th>\n",
        "      <td> 20020905_SF@NYG</td>\n",
        "      <td> 1</td>\n",
        "      <td>NaN</td>\n",
        "      <td>  0</td>\n",
        "      <td>  SF</td>\n",
        "      <td> 13</td>\n",
        "      <td> NYG</td>\n",
        "      <td>  3</td>\n",
        "      <td>NaN</td>\n",
        "      <td>NaN</td>\n",
        "      <td>NaN</td>\n",
        "      <td> J.Cortez kicks 75 yards from SF 30 to NYG -5. ...</td>\n",
        "      <td> 0</td>\n",
        "      <td> 0</td>\n",
        "      <td> 2002</td>\n",
        "    </tr>\n",
        "    <tr>\n",
        "      <th>1</th>\n",
        "      <td> 20020905_SF@NYG</td>\n",
        "      <td> 1</td>\n",
        "      <td> 60</td>\n",
        "      <td>  0</td>\n",
        "      <td> NYG</td>\n",
        "      <td> 22</td>\n",
        "      <td>  SF</td>\n",
        "      <td> 18</td>\n",
        "      <td>  1</td>\n",
        "      <td> 10</td>\n",
        "      <td> 80</td>\n",
        "      <td> (15:00) T.Barber left end to NYG 24 for 4 yard...</td>\n",
        "      <td> 0</td>\n",
        "      <td> 0</td>\n",
        "      <td> 2002</td>\n",
        "    </tr>\n",
        "    <tr>\n",
        "      <th>2</th>\n",
        "      <td> 20020905_SF@NYG</td>\n",
        "      <td> 1</td>\n",
        "      <td> 59</td>\n",
        "      <td> 25</td>\n",
        "      <td> NYG</td>\n",
        "      <td> 22</td>\n",
        "      <td>  SF</td>\n",
        "      <td> 18</td>\n",
        "      <td>  2</td>\n",
        "      <td>  6</td>\n",
        "      <td> 76</td>\n",
        "      <td> (14:25) K.Collins pass incomplete to J.Shockey...</td>\n",
        "      <td> 0</td>\n",
        "      <td> 0</td>\n",
        "      <td> 2002</td>\n",
        "    </tr>\n",
        "    <tr>\n",
        "      <th>3</th>\n",
        "      <td> 20020905_SF@NYG</td>\n",
        "      <td> 1</td>\n",
        "      <td> 59</td>\n",
        "      <td> 20</td>\n",
        "      <td> NYG</td>\n",
        "      <td> 22</td>\n",
        "      <td>  SF</td>\n",
        "      <td> 18</td>\n",
        "      <td>  3</td>\n",
        "      <td>  6</td>\n",
        "      <td> 76</td>\n",
        "      <td> (14:20) PENALTY on NYG-J.Shockey  False Start ...</td>\n",
        "      <td> 0</td>\n",
        "      <td> 0</td>\n",
        "      <td> 2002</td>\n",
        "    </tr>\n",
        "    <tr>\n",
        "      <th>4</th>\n",
        "      <td> 20020905_SF@NYG</td>\n",
        "      <td> 1</td>\n",
        "      <td> 59</td>\n",
        "      <td> 20</td>\n",
        "      <td> NYG</td>\n",
        "      <td> 22</td>\n",
        "      <td>  SF</td>\n",
        "      <td> 18</td>\n",
        "      <td>  3</td>\n",
        "      <td> 11</td>\n",
        "      <td> 81</td>\n",
        "      <td> (14:20) (Shotgun) K.Collins pass intended for ...</td>\n",
        "      <td> 0</td>\n",
        "      <td> 0</td>\n",
        "      <td> 2002</td>\n",
        "    </tr>\n",
        "  </tbody>\n",
        "</table>\n",
        "</div>"
       ],
       "output_type": "pyout",
       "prompt_number": 4,
       "text": [
        "            gameid  qtr  min sec  off off rank  def def rank  down  togo  ydline                                        description  offscore  defscore  season\n",
        "0  20020905_SF@NYG    1  NaN   0   SF       13  NYG        3   NaN   NaN     NaN  J.Cortez kicks 75 yards from SF 30 to NYG -5. ...         0         0    2002\n",
        "1  20020905_SF@NYG    1   60   0  NYG       22   SF       18     1    10      80  (15:00) T.Barber left end to NYG 24 for 4 yard...         0         0    2002\n",
        "2  20020905_SF@NYG    1   59  25  NYG       22   SF       18     2     6      76  (14:25) K.Collins pass incomplete to J.Shockey...         0         0    2002\n",
        "3  20020905_SF@NYG    1   59  20  NYG       22   SF       18     3     6      76  (14:20) PENALTY on NYG-J.Shockey  False Start ...         0         0    2002\n",
        "4  20020905_SF@NYG    1   59  20  NYG       22   SF       18     3    11      81  (14:20) (Shotgun) K.Collins pass intended for ...         0         0    2002"
       ]
      }
     ],
     "prompt_number": 4
    },
    {
     "cell_type": "code",
     "collapsed": false,
     "input": [
      "fourthDown = df[df['down'] == 4]\n",
      "fourthDown.head()"
     ],
     "language": "python",
     "metadata": {},
     "outputs": [
      {
       "html": [
        "<div style=\"max-height:1000px;max-width:1500px;overflow:auto;\">\n",
        "<table border=\"1\" class=\"dataframe\">\n",
        "  <thead>\n",
        "    <tr style=\"text-align: right;\">\n",
        "      <th></th>\n",
        "      <th>gameid</th>\n",
        "      <th>qtr</th>\n",
        "      <th>min</th>\n",
        "      <th>sec</th>\n",
        "      <th>off</th>\n",
        "      <th>off rank</th>\n",
        "      <th>def</th>\n",
        "      <th>def rank</th>\n",
        "      <th>down</th>\n",
        "      <th>togo</th>\n",
        "      <th>ydline</th>\n",
        "      <th>description</th>\n",
        "      <th>offscore</th>\n",
        "      <th>defscore</th>\n",
        "      <th>season</th>\n",
        "    </tr>\n",
        "  </thead>\n",
        "  <tbody>\n",
        "    <tr>\n",
        "      <th>10</th>\n",
        "      <td> 20020905_SF@NYG</td>\n",
        "      <td> 1</td>\n",
        "      <td> 56</td>\n",
        "      <td> 59</td>\n",
        "      <td>  SF</td>\n",
        "      <td> 13</td>\n",
        "      <td> NYG</td>\n",
        "      <td>  3</td>\n",
        "      <td> 4</td>\n",
        "      <td> 7</td>\n",
        "      <td>  7</td>\n",
        "      <td> (11:59) J.Cortez 25 yard field goal is BLOCKED...</td>\n",
        "      <td> 0</td>\n",
        "      <td> 0</td>\n",
        "      <td> 2002</td>\n",
        "    </tr>\n",
        "    <tr>\n",
        "      <th>25</th>\n",
        "      <td> 20020905_SF@NYG</td>\n",
        "      <td> 1</td>\n",
        "      <td> 51</td>\n",
        "      <td>  4</td>\n",
        "      <td> NYG</td>\n",
        "      <td> 22</td>\n",
        "      <td>  SF</td>\n",
        "      <td> 18</td>\n",
        "      <td> 4</td>\n",
        "      <td> 8</td>\n",
        "      <td> 11</td>\n",
        "      <td> (6:04) M.Bryant 29 yard field goal is GOOD  Ce...</td>\n",
        "      <td> 0</td>\n",
        "      <td> 0</td>\n",
        "      <td> 2002</td>\n",
        "    </tr>\n",
        "    <tr>\n",
        "      <th>35</th>\n",
        "      <td> 20020905_SF@NYG</td>\n",
        "      <td> 1</td>\n",
        "      <td> 46</td>\n",
        "      <td>  3</td>\n",
        "      <td>  SF</td>\n",
        "      <td> 13</td>\n",
        "      <td> NYG</td>\n",
        "      <td>  3</td>\n",
        "      <td> 4</td>\n",
        "      <td> 5</td>\n",
        "      <td>  5</td>\n",
        "      <td> (1:03) J.Cortez 23 yard field goal is GOOD  Ce...</td>\n",
        "      <td> 0</td>\n",
        "      <td> 3</td>\n",
        "      <td> 2002</td>\n",
        "    </tr>\n",
        "    <tr>\n",
        "      <th>53</th>\n",
        "      <td> 20020905_SF@NYG</td>\n",
        "      <td> 2</td>\n",
        "      <td> 38</td>\n",
        "      <td>  6</td>\n",
        "      <td> NYG</td>\n",
        "      <td> 22</td>\n",
        "      <td>  SF</td>\n",
        "      <td> 18</td>\n",
        "      <td> 4</td>\n",
        "      <td> 1</td>\n",
        "      <td> 21</td>\n",
        "      <td> (8:06) T.Barber left tackle to SF 24 for -3 ya...</td>\n",
        "      <td> 3</td>\n",
        "      <td> 3</td>\n",
        "      <td> 2002</td>\n",
        "    </tr>\n",
        "    <tr>\n",
        "      <th>58</th>\n",
        "      <td> 20020905_SF@NYG</td>\n",
        "      <td> 2</td>\n",
        "      <td> 35</td>\n",
        "      <td> 32</td>\n",
        "      <td>  SF</td>\n",
        "      <td> 13</td>\n",
        "      <td> NYG</td>\n",
        "      <td>  3</td>\n",
        "      <td> 4</td>\n",
        "      <td> 2</td>\n",
        "      <td> 68</td>\n",
        "      <td> (5:32) J.Baker punts 47 yards to NYG 21  Cente...</td>\n",
        "      <td> 3</td>\n",
        "      <td> 3</td>\n",
        "      <td> 2002</td>\n",
        "    </tr>\n",
        "  </tbody>\n",
        "</table>\n",
        "</div>"
       ],
       "output_type": "pyout",
       "prompt_number": 49,
       "text": [
        "             gameid  qtr  min sec  off off rank  def def rank  down  togo  ydline                                        description  offscore  defscore  season\n",
        "10  20020905_SF@NYG    1   56  59   SF       13  NYG        3     4     7       7  (11:59) J.Cortez 25 yard field goal is BLOCKED...         0         0    2002\n",
        "25  20020905_SF@NYG    1   51   4  NYG       22   SF       18     4     8      11  (6:04) M.Bryant 29 yard field goal is GOOD  Ce...         0         0    2002\n",
        "35  20020905_SF@NYG    1   46   3   SF       13  NYG        3     4     5       5  (1:03) J.Cortez 23 yard field goal is GOOD  Ce...         0         3    2002\n",
        "53  20020905_SF@NYG    2   38   6  NYG       22   SF       18     4     1      21  (8:06) T.Barber left tackle to SF 24 for -3 ya...         3         3    2002\n",
        "58  20020905_SF@NYG    2   35  32   SF       13  NYG        3     4     2      68  (5:32) J.Baker punts 47 yards to NYG 21  Cente...         3         3    2002"
       ]
      }
     ],
     "prompt_number": 49
    },
    {
     "cell_type": "code",
     "collapsed": false,
     "input": [
      "fourthPlayNumbers = fourthDown.index\n",
      "fourthPlayNumbers2 = fourthPlayNumbers[1:len(fourthPlayNumbers)]\n",
      "fourthPlayNumbers2 = np.append(fourthPlayNumbers2, 0)\n",
      "#numPlaysInDrive = fourthPlayNumbers2 - fourthPlayNumbers\n",
      "\n",
      "#90=l-numPlaysInDrive[0:10]\n",
      "#yes.head()\n",
      "#fourthPlayNumbers[0:25]\n",
      "#len(fourthPlayNumbers)"
     ],
     "language": "python",
     "metadata": {},
     "outputs": [
      {
       "output_type": "pyout",
       "prompt_number": 75,
       "text": [
        "Int64Index([15, 10, 18, 5, 4, 9, 13, 7, 4, 5], dtype=int64)"
       ]
      }
     ],
     "prompt_number": 75
    },
    {
     "cell_type": "code",
     "collapsed": false,
     "input": [
      "fourthPlayNumbers2[18]"
     ],
     "language": "python",
     "metadata": {},
     "outputs": [
      {
       "output_type": "pyout",
       "prompt_number": 76,
       "text": [
        "234"
       ]
      }
     ],
     "prompt_number": 76
    },
    {
     "cell_type": "code",
     "collapsed": false,
     "input": [
      "fourthPlayNumbers[18]"
     ],
     "language": "python",
     "metadata": {},
     "outputs": [
      {
       "output_type": "pyout",
       "prompt_number": 77,
       "text": [
        "233"
       ]
      }
     ],
     "prompt_number": 77
    },
    {
     "cell_type": "code",
     "collapsed": false,
     "input": [
      "nonPenaltyFourthDown = fourthPlayNumbers[fourthPlayNumbers2 - fourthPlayNumbers != 1]\n",
      "nonPenaltyFourthDown[0:20]\n",
      "#233 is gone!"
     ],
     "language": "python",
     "metadata": {},
     "outputs": [
      {
       "output_type": "pyout",
       "prompt_number": 78,
       "text": [
        "Int64Index([10, 25, 35, 53, 58, 62, 71, 84, 91, 95, 100, 130, 154, 164, 186, 198, 223, 228, 234, 264], dtype=int64)"
       ]
      }
     ],
     "prompt_number": 78
    },
    {
     "cell_type": "code",
     "collapsed": false,
     "input": [],
     "language": "python",
     "metadata": {},
     "outputs": []
    },
    {
     "cell_type": "code",
     "collapsed": false,
     "input": [
      "fourthDown.index.shift[0:20]"
     ],
     "language": "python",
     "metadata": {},
     "outputs": [
      {
       "ename": "TypeError",
       "evalue": "'instancemethod' object has no attribute '__getitem__'",
       "output_type": "pyerr",
       "traceback": [
        "\u001b[1;31m---------------------------------------------------------------------------\u001b[0m\n\u001b[1;31mTypeError\u001b[0m                                 Traceback (most recent call last)",
        "\u001b[1;32m<ipython-input-14-870147ae0478>\u001b[0m in \u001b[0;36m<module>\u001b[1;34m()\u001b[0m\n\u001b[1;32m----> 1\u001b[1;33m \u001b[0mfourthDown\u001b[0m\u001b[1;33m.\u001b[0m\u001b[0mindex\u001b[0m\u001b[1;33m.\u001b[0m\u001b[0mshift\u001b[0m\u001b[1;33m[\u001b[0m\u001b[1;36m0\u001b[0m\u001b[1;33m:\u001b[0m\u001b[1;36m20\u001b[0m\u001b[1;33m]\u001b[0m\u001b[1;33m\u001b[0m\u001b[0m\n\u001b[0m",
        "\u001b[1;31mTypeError\u001b[0m: 'instancemethod' object has no attribute '__getitem__'"
       ]
      }
     ],
     "prompt_number": 14
    },
    {
     "cell_type": "code",
     "collapsed": false,
     "input": [],
     "language": "python",
     "metadata": {},
     "outputs": []
    }
   ],
   "metadata": {}
  }
 ]
}