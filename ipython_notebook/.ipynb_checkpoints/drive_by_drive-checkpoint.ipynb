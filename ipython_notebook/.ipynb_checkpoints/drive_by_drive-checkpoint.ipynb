{
 "metadata": {
  "name": ""
 },
 "nbformat": 3,
 "nbformat_minor": 0,
 "worksheets": [
  {
   "cells": [
    {
     "cell_type": "code",
     "collapsed": false,
     "input": [
      "import pandas as pd\n",
      "import numpy as np\n",
      "import csv\n",
      "import math"
     ],
     "language": "python",
     "metadata": {},
     "outputs": [],
     "prompt_number": 1
    },
    {
     "cell_type": "code",
     "collapsed": false,
     "input": [
      "pd.set_option('display.line_width', 300)\n",
      "pbp_data = pd.read_csv('all_season_pbp_data.csv')\n",
      "shifted_data1 = (pbp_data.shift(1)).shift(-1)\n",
      "shifted_data2 = pbp_data.shift(1)\n",
      "shifted_data2.rename(columns=lambda x: 'last_' + x, inplace=True)\n",
      "#shifted_data = shifted_data1.join(shifted_data2, how = 'outer')"
     ],
     "language": "python",
     "metadata": {},
     "outputs": [],
     "prompt_number": 40
    },
    {
     "cell_type": "code",
     "collapsed": false,
     "input": [
      "offTF = shifted_data1['off'] == shifted_data2['last_off'] \n",
      "gameidTF = shifted_data1['gameid'] == shifted_data2['last_gameid'] \n",
      "firstplay = shifted_data1[offTF == False]\n",
      "firstplay = firstplay[gameidTF == True]\n",
      "lastplay = shifted_data2[offTF == False]\n",
      "lastplay = lastplay[gameidTF == True].shift(-1)\n",
      "firstlastplay = firstplay.join(lastplay, how = 'outer')"
     ],
     "language": "python",
     "metadata": {},
     "outputs": [],
     "prompt_number": 41
    },
    {
     "cell_type": "code",
     "collapsed": false,
     "input": [
      "#firstlastplay['down'].head(20)\n",
      "#firstlastplay['last_down'].head(20)"
     ],
     "language": "python",
     "metadata": {},
     "outputs": [],
     "prompt_number": 42
    },
    {
     "cell_type": "code",
     "collapsed": false,
     "input": [
      "firstlastplay.to_csv('first_last_play.csv', sep=',')"
     ],
     "language": "python",
     "metadata": {},
     "outputs": [],
     "prompt_number": 43
    },
    {
     "cell_type": "code",
     "collapsed": false,
     "input": [
      "#firstPlayOfDriveIndex = df.ix[:,[0,4]]\n",
      "#data = [{'gameid' : 0, 'off': 0}]\n",
      "#rowVec = pd.DataFrame(data)\n",
      "#firstPlayOfDriveIndexTwo = firstPlayOfDriveIndex.append(rowVec, ignore_index=True)\n",
      "#firstPlayOfDriveIndexThree = rowVec.append(firstPlayOfDriveIndex, ignore_index=True)\n",
      "#firstPlayOfDriveIndexThree.columns = ['secGameID','secOff']\n",
      "#firstPlayOfDriveIndexTwo = pd.DataFrame(firstPlayOfDriveIndexTwo)\n",
      "#firstPlayOfDriveIndexThree = pd.DataFrame(firstPlayOfDriveIndexThree)\n",
      "#firstPlayMaster = firstPlayOfDriveIndexTwo.join(firstPlayOfDriveIndexThree)\n",
      "#firstPlayMaster = pd.DataFrame(firstPlayMaster)"
     ],
     "language": "python",
     "metadata": {},
     "outputs": [],
     "prompt_number": 37
    },
    {
     "cell_type": "code",
     "collapsed": false,
     "input": [
      "#firstPlayMaster['offTF'] = firstPlayMaster['off'] == firstPlayMaster['secOff'] \n",
      "#firstPlayMaster['gameIDTF'] = firstPlayMaster['gameid']==firstPlayMaster['secGameID']\n",
      "#firstPlay = firstPlayMaster[firstPlayMaster['offTF'] == False]\n",
      "#firstPlayTwo = firstPlay[firstPlayMaster['gameIDTF'] == True]\n",
      "#indexValsFirst = firstPlayTwo.index\n",
      "#vec = [1]*len(indexValsFirst)"
     ],
     "language": "python",
     "metadata": {},
     "outputs": []
    },
    {
     "cell_type": "code",
     "collapsed": false,
     "input": [
      "#lastIndexData = pd.DataFrame({'index' : indexValsFirst, 'vec' : vec})\n",
      "#indexValsLastOne = lastIndexData['index'] - lastIndexData['vec']\n",
      "#lastEle = len(indexValsLastOne)\n",
      "#lastElement = len(df['gameid'])-1\n",
      "#indexValsLast = indexValsLastOne[1:lastEle]\n",
      "#indexValsLast = np.array(indexValsLast)\n",
      "#indexValsLastTwo = np.append(indexValsLast, lastElement)\n",
      "#firstPlay = df.ix[indexValsFirst, :]\n",
      "#lastPlay = df.ix[indexValsLastTwo, :]\n",
      "#firstPlay['mergeVar'] = np.arange(len(firstPlay))\n",
      "#lastPlay['mergeVar'] = np.arange(len(firstPlay))"
     ],
     "language": "python",
     "metadata": {},
     "outputs": []
    },
    {
     "cell_type": "code",
     "collapsed": false,
     "input": [
      "#driveByDrive = firstPlay.merge(lastPlay, on = 'mergeVar', suffixes = ('_first', '_last')) \n",
      "#print driveByDrive.head(1)\n"
     ],
     "language": "python",
     "metadata": {},
     "outputs": []
    }
   ],
   "metadata": {}
  }
 ]
}