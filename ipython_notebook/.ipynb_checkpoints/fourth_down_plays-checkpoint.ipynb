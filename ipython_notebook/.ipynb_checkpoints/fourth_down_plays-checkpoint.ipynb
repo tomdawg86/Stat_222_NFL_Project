{
 "metadata": {
  "name": ""
 },
 "nbformat": 3,
 "nbformat_minor": 0,
 "worksheets": [
  {
   "cells": [
    {
     "cell_type": "code",
     "collapsed": false,
     "input": [
      "import pandas as pd\n",
      "import numpy as np\n",
      "import csv\n",
      "import math"
     ],
     "language": "python",
     "metadata": {},
     "outputs": [],
     "prompt_number": 1
    },
    {
     "cell_type": "code",
     "collapsed": false,
     "input": [
      "pd.set_option('display.line_width', 300)\n",
      "df = pd.read_csv('all_season_pbp_data.csv')\n",
      "df = df.drop('Unnamed: 0', 1)\n",
      "#df.head()"
     ],
     "language": "python",
     "metadata": {},
     "outputs": [],
     "prompt_number": 20
    },
    {
     "cell_type": "code",
     "collapsed": false,
     "input": [
      "fourthDown = df[df['down'] == 4]\n",
      "#fourthDown.head()"
     ],
     "language": "python",
     "metadata": {},
     "outputs": [],
     "prompt_number": 21
    },
    {
     "cell_type": "code",
     "collapsed": false,
     "input": [
      "fourthPlayNumbers = fourthDown.index\n",
      "fourthPlayNumbers2 = fourthPlayNumbers[1:len(fourthPlayNumbers)]\n",
      "fourthPlayNumbers2 = np.append(fourthPlayNumbers2, 0)\n",
      "#fourthPlayNumbers[0:10]\n",
      "#numPlaysInDrive = fourthPlayNumbers2 - fourthPlayNumbers\n",
      "\n",
      "#90=l-numPlaysInDrive[0:10]\n",
      "#yes.head()\n",
      "#fourthPlayNumbers[0:25]\n",
      "#len(fourthPlayNumbers)"
     ],
     "language": "python",
     "metadata": {},
     "outputs": [],
     "prompt_number": 22
    },
    {
     "cell_type": "code",
     "collapsed": false,
     "input": [
      "#fourthPlayNumbers2[18]"
     ],
     "language": "python",
     "metadata": {},
     "outputs": [
      {
       "metadata": {},
       "output_type": "pyout",
       "prompt_number": 6,
       "text": [
        "234"
       ]
      }
     ],
     "prompt_number": 6
    },
    {
     "cell_type": "code",
     "collapsed": false,
     "input": [
      "#fourthPlayNumbers[18]"
     ],
     "language": "python",
     "metadata": {},
     "outputs": [],
     "prompt_number": 23
    },
    {
     "cell_type": "code",
     "collapsed": false,
     "input": [
      "nonPenaltyFourthDown = fourthPlayNumbers[fourthPlayNumbers2 - fourthPlayNumbers != 1]\n",
      "#nonPenaltyFourthDown[0:20]\n",
      "#233 is gone!"
     ],
     "language": "python",
     "metadata": {},
     "outputs": [],
     "prompt_number": 25
    },
    {
     "cell_type": "code",
     "collapsed": false,
     "input": [
      "fourthDownPlays = df.ix[nonPenaltyFourthDown, :]\n",
      "#fourthDownPlays.head()"
     ],
     "language": "python",
     "metadata": {},
     "outputs": [],
     "prompt_number": 27
    },
    {
     "cell_type": "code",
     "collapsed": false,
     "input": [
      "fourthDownPlays.to_csv('FourthDownPlays.csv', sep = \",\")"
     ],
     "language": "python",
     "metadata": {},
     "outputs": [],
     "prompt_number": 28
    },
    {
     "cell_type": "code",
     "collapsed": false,
     "input": [],
     "language": "python",
     "metadata": {},
     "outputs": []
    }
   ],
   "metadata": {}
  }
 ]
}