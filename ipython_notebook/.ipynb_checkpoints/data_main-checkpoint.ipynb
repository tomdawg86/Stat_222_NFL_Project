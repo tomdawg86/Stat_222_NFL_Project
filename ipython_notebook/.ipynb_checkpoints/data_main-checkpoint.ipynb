{
 "metadata": {
  "name": ""
 },
 "nbformat": 3,
 "nbformat_minor": 0,
 "worksheets": [
  {
   "cells": [
    {
     "cell_type": "heading",
     "level": 2,
     "metadata": {},
     "source": [
      "Creating main data frame by importing play-by-play data and calculating ranks."
     ]
    },
    {
     "cell_type": "code",
     "collapsed": false,
     "input": [
      "import os\n",
      "import csv\n",
      "import pandas as pd\n",
      "import numpy as np\n",
      "import math"
     ],
     "language": "python",
     "metadata": {},
     "outputs": [],
     "prompt_number": 1
    },
    {
     "cell_type": "code",
     "collapsed": false,
     "input": [
      "os.system('curl -L -o 2002_nfl_pbp_data.csv \"https://docs.google.com/uc?id=0BxEXxf9odCnMNGQzY2YyNmUtMTlhYy00YmQyLTg3ZTUtMGI2NDhjNGU4Zjg5&export=download\"') \n",
      "os.system('curl -L -o 2003_nfl_pbp_data.csv \"https://docs.google.com/uc?id=0BxEXxf9odCnMODljMmIxNzItNzJjNy00ODJiLWJiNDItMDBlZGMwMjkwOTlk&export=download\"')\n",
      "os.system('curl -L -o 2004_nfl_pbp_data.csv \"https://docs.google.com/uc?id=0BxEXxf9odCnMMGUyNjVkMWEtOWE2YS00YzI3LWJjYjEtZWU2MTIyNmJhOTk0&export=download\"')\n",
      "os.system('curl -L -o 2005_nfl_pbp_data.csv \"https://docs.google.com/uc?id=0BxEXxf9odCnMYmIyMTdjNWItMjhiNS00NjJkLWIyYWEtZmI1ZGM4NmFmZGQy&export=download\"')\n",
      "os.system('curl -L -o 2006_nfl_pbp_data.csv \"https://docs.google.com/uc?id=0BxEXxf9odCnMN2YxNGM0MzUtYTc2Mi00YjVjLWI3N2EtMzIwMDA0Y2E5OTg1&export=download\"')\n",
      "os.system('curl -L -o 2007_nfl_pbp_data.csv \"https://docs.google.com/uc?id=0BxEXxf9odCnMYWZkOWU1YTItYTUzNS00MmM4LTk1MTktYmI3Y2E1Zjc3OTIy&export=download\"')\n",
      "os.system('curl -L -o 2008_nfl_pbp_data.csv \"https://docs.google.com/uc?id=0BxEXxf9odCnMZDJmYzIzNWQtNjIyNS00NzQzLWJiMTEtYWI5M2U0MTI4Njlk&export=download\"')\n",
      "os.system('curl -L -o 2009_nfl_pbp_data.csv \"https://docs.google.com/uc?id=0BxEXxf9odCnMMDAyOGRhMjYtMzlkMC00NGQwLTgxMWUtOWNmYWMxY2Q2ODY3&export=download\"')\n",
      "os.system('curl -L -o 2010_nfl_pbp_data.csv \"https://docs.google.com/uc?id=0BxEXxf9odCnMMWRkMDc0MDgtZDZhMi00ZGRlLTlkYjEtOTNkZjViZDI0ZGY2&export=download\"')\n",
      "os.system('curl -L -o 2011_nfl_pbp_data.csv \"https://docs.google.com/uc?id=0BxEXxf9odCnMbmZvYzE3cjBzblE&export=download\"')\n",
      "os.system('curl -L -o 2012_nfl_pbp_data.csv \"https://docs.google.com/uc?id=0BxEXxf9odCnMMC1sR3dtNEtHLW8&export=download\"')"
     ],
     "language": "python",
     "metadata": {},
     "outputs": [
      {
       "metadata": {},
       "output_type": "pyout",
       "prompt_number": 2,
       "text": [
        "0"
       ]
      }
     ],
     "prompt_number": 2
    },
    {
     "cell_type": "code",
     "collapsed": false,
     "input": [
      "pd.set_option('display.line_width', 300)\n",
      "pbp_data = pd.read_csv('2002_nfl_pbp_data.csv')\n",
      "teams = list(set(pbp_data.off))[1:]\n",
      "seasons = range(2002,2013)\n",
      "for i in seasons[1:]:\n",
      "    pbp_data = pbp_data.append(pd.read_csv('%d_nfl_pbp_data.csv' % i), ignore_index = True)"
     ],
     "language": "python",
     "metadata": {},
     "outputs": [],
     "prompt_number": 2
    },
    {
     "cell_type": "code",
     "collapsed": false,
     "input": [
      "shifted_data1 = (pbp_data.shift(1)).shift(-1)\n",
      "shifted_data2 = pbp_data.shift(1)\n",
      "shifted_data2.rename(columns=lambda x: x + '2', inplace=True)\n",
      "shifted_data = shifted_data1.join(shifted_data2, how = 'outer')"
     ],
     "language": "python",
     "metadata": {},
     "outputs": [],
     "prompt_number": 3
    },
    {
     "cell_type": "code",
     "collapsed": false,
     "input": [
      "shifted_data['offTF'] = shifted_data['off'] == shifted_data['off2']\n",
      "shifted_data['defTF'] = shifted_data['def'] == shifted_data['def2']\n",
      "shifted_data['gameIDTF'] = shifted_data['gameid'] == shifted_data['gameid2']\n",
      "first_last_play = shifted_data[shifted_data['offTF'] == False]\n",
      "first_last_play = shifted_data[shifted_data['gameIDTF'] == False]"
     ],
     "language": "python",
     "metadata": {},
     "outputs": [],
     "prompt_number": 5
    },
    {
     "cell_type": "code",
     "collapsed": false,
     "input": [
      "rank_off_off_score = pd.DataFrame(first_last_play.groupby(['season2', 'off2'])['offscore2'].sum())\n",
      "rank_off_def_score = pd.DataFrame(first_last_play.groupby(['season2', 'def2'])['defscore2'].sum())\n",
      "rank_def_def_score = pd.DataFrame(first_last_play.groupby(['season2', 'off2'])['defscore2'].sum())\n",
      "rank_def_off_score = pd.DataFrame(first_last_play.groupby(['season2', 'def2'])['offscore2'].sum())"
     ],
     "language": "python",
     "metadata": {},
     "outputs": [],
     "prompt_number": 6
    },
    {
     "cell_type": "code",
     "collapsed": false,
     "input": [
      "team_score_off_rank = rank_off_off_score.join(rank_off_def_score)\n",
      "team_score_off_rank['total'] = team_score_off_rank['offscore2'] + team_score_off_rank['defscore2']\n",
      "team_score_def_rank = rank_def_def_score.join(rank_def_off_score)\n",
      "team_score_def_rank['total'] = team_score_def_rank['offscore2'] + team_score_def_rank['defscore2']"
     ],
     "language": "python",
     "metadata": {},
     "outputs": [],
     "prompt_number": 7
    },
    {
     "cell_type": "code",
     "collapsed": false,
     "input": [
      "off_rank = [[0]*len(seasons) for x in range(len(teams))]\n",
      "def_rank = [[0]*len(seasons) for x in range(len(teams))]\n",
      "\n",
      "for i in range(len(teams)):\n",
      "    for j in range(len(seasons)):\n",
      "        off_rank[i][j] = team_score_off_rank['total'].loc[seasons[j], teams[i]]\n",
      "        def_rank[i][j] = team_score_def_rank['total'].loc[seasons[j], teams[i]]\n",
      " \n",
      "off_rank, def_rank = pd.DataFrame(off_rank, index = teams), pd.DataFrame(def_rank, index = teams)\n",
      "off_rank.rename(columns=lambda x: x + 2002, inplace=True)\n",
      "def_rank.rename(columns=lambda x: x + 2002, inplace=True)\n",
      "off_rank = off_rank.rank(axis = 0, method = 'max', ascending = False)\n",
      "def_rank = def_rank.rank(axis = 0, method = 'max', ascending = True)"
     ],
     "language": "python",
     "metadata": {},
     "outputs": [],
     "prompt_number": 8
    },
    {
     "cell_type": "code",
     "collapsed": false,
     "input": [
      "off_rank = pd.DataFrame(off_rank.stack())\n",
      "def_rank = pd.DataFrame(def_rank.stack())"
     ],
     "language": "python",
     "metadata": {},
     "outputs": [],
     "prompt_number": 9
    },
    {
     "cell_type": "code",
     "collapsed": false,
     "input": [
      "pbp_data['offrank'] = 0\n",
      "pbp_data['defrank'] = 0\n",
      "for i in range(len(pbp_data['off'])):\n",
      "    if pbp_data['off'][i] in teams and pbp_data['season'][i] in seasons:\n",
      "        pbp_data['offrank'][i] = off_rank.ix[pbp_data['off'][i]].ix[pbp_data['season'][i]]\n",
      "        pbp_data['defrank'][i] = def_rank.ix[pbp_data['off'][i]].ix[pbp_data['season'][i]]  "
     ],
     "language": "python",
     "metadata": {},
     "outputs": [],
     "prompt_number": 10
    },
    {
     "cell_type": "code",
     "collapsed": false,
     "input": [
      "pbp_data['offbucket'] = 'NA'\n",
      "pbp_data['defbucket'] = 'NA'\n",
      "pbp_data.offbucket[pbp_data['offrank'] >= 1], pbp_data.defbucket[pbp_data['defrank'] >= 1] = '(1-5)', '(1-5)'\n",
      "pbp_data.offbucket[pbp_data['offrank'] >= 6], pbp_data.defbucket[pbp_data['defrank'] >= 6] = '(6-10)', '(6-10)'\n",
      "pbp_data.offbucket[pbp_data['offrank'] >= 11], pbp_data.defbucket[pbp_data['defrank'] >= 11] = '(11-15)', '(11-15)'\n",
      "pbp_data.offbucket[pbp_data['offrank'] >= 16], pbp_data.defbucket[pbp_data['defrank'] >= 16] = '(16-20)', '(16-20)'\n",
      "pbp_data.offbucket[pbp_data['offrank'] >= 21], pbp_data.defbucket[pbp_data['defrank'] >= 21] = '(21-25)', '(21-25)'\n",
      "pbp_data.offbucket[pbp_data['offrank'] >= 26], pbp_data.defbucket[pbp_data['defrank'] >= 26] = '(26-32)', '(26-32)'"
     ],
     "language": "python",
     "metadata": {},
     "outputs": [],
     "prompt_number": 26
    },
    {
     "cell_type": "code",
     "collapsed": false,
     "input": [
      "pbp_data['togobucket'] = 'NA'\n",
      "pbp_data.togobucket[pbp_data['togo'] >= 1] = '(1-2)'\n",
      "pbp_data.togobucket[pbp_data['togo'] >= 3] = '(3-4)'\n",
      "pbp_data.togobucket[pbp_data['togo'] >= 5] = '(5-6)'\n",
      "pbp_data.togobucket[pbp_data['togo'] >= 7] = '(7-8)'\n",
      "pbp_data.togobucket[pbp_data['togo'] >= 9] = '(9-10)'\n",
      "pbp_data.togobucket[pbp_data['togo'] >= 11] = '(11-13)'\n",
      "pbp_data.togobucket[pbp_data['togo'] >= 14] = '(14-16)'\n",
      "pbp_data.togobucket[pbp_data['togo'] >= 17] = '(17-20)'\n",
      "pbp_data.togobucket[pbp_data['togo'] >= 21] = '(21-25)'\n",
      "pbp_data.togobucket[pbp_data['togo'] > 25] = '(>25)'"
     ],
     "language": "python",
     "metadata": {},
     "outputs": [],
     "prompt_number": 27
    },
    {
     "cell_type": "code",
     "collapsed": false,
     "input": [
      "pbp_data.to_csv('all_season_pbp_data.csv', sep = \",\")"
     ],
     "language": "python",
     "metadata": {},
     "outputs": [],
     "prompt_number": 25
    },
    {
     "cell_type": "code",
     "collapsed": false,
     "input": [
      "#shifted_data1 = (pbp_data.shift(1)).shift(-1)\n",
      "#shifted_data2 = pbp_data.shift(1)\n",
      "#shifted_data2.rename(columns=lambda x: x + '2', inplace=True)\n",
      "#shifted_data = shifted_data1.join(shifted_data2, how = 'outer')\n",
      "#shifted_data.to_csv('shifted_main_data.csv', sep = \",\")"
     ],
     "language": "python",
     "metadata": {},
     "outputs": [],
     "prompt_number": 29
    }
   ],
   "metadata": {}
  }
 ]
}