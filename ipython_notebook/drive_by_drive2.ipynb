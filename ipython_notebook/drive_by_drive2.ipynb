{
 "metadata": {
  "name": ""
 },
 "nbformat": 3,
 "nbformat_minor": 0,
 "worksheets": [
  {
   "cells": [
    {
     "cell_type": "heading",
     "level": 2,
     "metadata": {},
     "source": [
      "Manipulating data to get drive by drive data."
     ]
    },
    {
     "cell_type": "code",
     "collapsed": false,
     "input": [
      "import os\n",
      "import csv\n",
      "import pandas as pd\n",
      "import numpy as np\n",
      "import math"
     ],
     "language": "python",
     "metadata": {},
     "outputs": [],
     "prompt_number": 1
    },
    {
     "cell_type": "code",
     "collapsed": false,
     "input": [
      "os.chdir('/Users/apple/Desktop/')"
     ],
     "language": "python",
     "metadata": {},
     "outputs": [],
     "prompt_number": 2
    },
    {
     "cell_type": "code",
     "collapsed": false,
     "input": [
      "pd.set_option('display.line_width', 300)\n",
      "df = pd.read_csv('all_season_data.csv')"
     ],
     "language": "python",
     "metadata": {},
     "outputs": [],
     "prompt_number": 3
    },
    {
     "cell_type": "code",
     "collapsed": false,
     "input": [
      "df = df.rename(columns = {'min':'minute'})\n",
      "df.sec = df.sec.convert_objects(convert_numeric=True)\n",
      "df.minute = df.minute.convert_objects(convert_numeric=True)\n",
      "df['time_left'] = df.minute + df.sec/60\n",
      "df = df.drop(['sec', 'minute'], axis = 1)"
     ],
     "language": "python",
     "metadata": {},
     "outputs": [],
     "prompt_number": 4
    },
    {
     "cell_type": "code",
     "collapsed": false,
     "input": [
      "df1 = pd.DataFrame(df.ix[:,['gameid', 'off']])\n",
      "df1.columns = ['gameid2', 'off2']"
     ],
     "language": "python",
     "metadata": {},
     "outputs": [],
     "prompt_number": 5
    },
    {
     "cell_type": "code",
     "collapsed": false,
     "input": [
      "x = [0]*len(df.loc[0])\n",
      "x = pd.DataFrame(pd.DataFrame(x).T)\n",
      "x.columns = df.columns"
     ],
     "language": "python",
     "metadata": {},
     "outputs": [],
     "prompt_number": 6
    },
    {
     "cell_type": "code",
     "collapsed": false,
     "input": [
      "y = [0,0]\n",
      "y = pd.DataFrame(pd.DataFrame(y).T)\n",
      "y.columns = df1.columns"
     ],
     "language": "python",
     "metadata": {},
     "outputs": [],
     "prompt_number": 7
    },
    {
     "cell_type": "code",
     "collapsed": false,
     "input": [
      "df = df.append(x, ignore_index = True)\n",
      "df1 = y.append(df1, ignore_index = True)\n",
      "df = df.join(df1)"
     ],
     "language": "python",
     "metadata": {},
     "outputs": [],
     "prompt_number": 8
    },
    {
     "cell_type": "code",
     "collapsed": false,
     "input": [
      "df.head()"
     ],
     "language": "python",
     "metadata": {},
     "outputs": [
      {
       "html": [
        "<div style=\"max-height:1000px;max-width:1500px;overflow:auto;\">\n",
        "<table border=\"1\" class=\"dataframe\">\n",
        "  <thead>\n",
        "    <tr style=\"text-align: right;\">\n",
        "      <th></th>\n",
        "      <th>gameid</th>\n",
        "      <th>qtr</th>\n",
        "      <th>off</th>\n",
        "      <th>off rank</th>\n",
        "      <th>def</th>\n",
        "      <th>def rank</th>\n",
        "      <th>down</th>\n",
        "      <th>togo</th>\n",
        "      <th>ydline</th>\n",
        "      <th>description</th>\n",
        "      <th>offscore</th>\n",
        "      <th>defscore</th>\n",
        "      <th>season</th>\n",
        "      <th>time_left</th>\n",
        "      <th>gameid2</th>\n",
        "      <th>off2</th>\n",
        "    </tr>\n",
        "  </thead>\n",
        "  <tbody>\n",
        "    <tr>\n",
        "      <th>0</th>\n",
        "      <td> 20020905_SF@NYG</td>\n",
        "      <td> 1</td>\n",
        "      <td>  SF</td>\n",
        "      <td> 13</td>\n",
        "      <td> NYG</td>\n",
        "      <td>  3</td>\n",
        "      <td>NaN</td>\n",
        "      <td>NaN</td>\n",
        "      <td>NaN</td>\n",
        "      <td> J.Cortez kicks 75 yards from SF 30 to NYG -5. ...</td>\n",
        "      <td> 0</td>\n",
        "      <td> 0</td>\n",
        "      <td> 2002</td>\n",
        "      <td>       NaN</td>\n",
        "      <td>               0</td>\n",
        "      <td>   0</td>\n",
        "    </tr>\n",
        "    <tr>\n",
        "      <th>1</th>\n",
        "      <td> 20020905_SF@NYG</td>\n",
        "      <td> 1</td>\n",
        "      <td> NYG</td>\n",
        "      <td> 22</td>\n",
        "      <td>  SF</td>\n",
        "      <td> 18</td>\n",
        "      <td>  1</td>\n",
        "      <td> 10</td>\n",
        "      <td> 80</td>\n",
        "      <td> (15:00) T.Barber left end to NYG 24 for 4 yard...</td>\n",
        "      <td> 0</td>\n",
        "      <td> 0</td>\n",
        "      <td> 2002</td>\n",
        "      <td> 60.000000</td>\n",
        "      <td> 20020905_SF@NYG</td>\n",
        "      <td>  SF</td>\n",
        "    </tr>\n",
        "    <tr>\n",
        "      <th>2</th>\n",
        "      <td> 20020905_SF@NYG</td>\n",
        "      <td> 1</td>\n",
        "      <td> NYG</td>\n",
        "      <td> 22</td>\n",
        "      <td>  SF</td>\n",
        "      <td> 18</td>\n",
        "      <td>  2</td>\n",
        "      <td>  6</td>\n",
        "      <td> 76</td>\n",
        "      <td> (14:25) K.Collins pass incomplete to J.Shockey...</td>\n",
        "      <td> 0</td>\n",
        "      <td> 0</td>\n",
        "      <td> 2002</td>\n",
        "      <td> 59.416667</td>\n",
        "      <td> 20020905_SF@NYG</td>\n",
        "      <td> NYG</td>\n",
        "    </tr>\n",
        "    <tr>\n",
        "      <th>3</th>\n",
        "      <td> 20020905_SF@NYG</td>\n",
        "      <td> 1</td>\n",
        "      <td> NYG</td>\n",
        "      <td> 22</td>\n",
        "      <td>  SF</td>\n",
        "      <td> 18</td>\n",
        "      <td>  3</td>\n",
        "      <td>  6</td>\n",
        "      <td> 76</td>\n",
        "      <td> (14:20) PENALTY on NYG-J.Shockey  False Start ...</td>\n",
        "      <td> 0</td>\n",
        "      <td> 0</td>\n",
        "      <td> 2002</td>\n",
        "      <td> 59.333333</td>\n",
        "      <td> 20020905_SF@NYG</td>\n",
        "      <td> NYG</td>\n",
        "    </tr>\n",
        "    <tr>\n",
        "      <th>4</th>\n",
        "      <td> 20020905_SF@NYG</td>\n",
        "      <td> 1</td>\n",
        "      <td> NYG</td>\n",
        "      <td> 22</td>\n",
        "      <td>  SF</td>\n",
        "      <td> 18</td>\n",
        "      <td>  3</td>\n",
        "      <td> 11</td>\n",
        "      <td> 81</td>\n",
        "      <td> (14:20) (Shotgun) K.Collins pass intended for ...</td>\n",
        "      <td> 0</td>\n",
        "      <td> 0</td>\n",
        "      <td> 2002</td>\n",
        "      <td> 59.333333</td>\n",
        "      <td> 20020905_SF@NYG</td>\n",
        "      <td> NYG</td>\n",
        "    </tr>\n",
        "  </tbody>\n",
        "</table>\n",
        "</div>"
       ],
       "metadata": {},
       "output_type": "pyout",
       "prompt_number": 9,
       "text": [
        "            gameid  qtr  off off rank  def def rank  down  togo  ydline                                        description  offscore  defscore  season  time_left          gameid2 off2\n",
        "0  20020905_SF@NYG    1   SF       13  NYG        3   NaN   NaN     NaN  J.Cortez kicks 75 yards from SF 30 to NYG -5. ...         0         0    2002        NaN                0    0\n",
        "1  20020905_SF@NYG    1  NYG       22   SF       18     1    10      80  (15:00) T.Barber left end to NYG 24 for 4 yard...         0         0    2002  60.000000  20020905_SF@NYG   SF\n",
        "2  20020905_SF@NYG    1  NYG       22   SF       18     2     6      76  (14:25) K.Collins pass incomplete to J.Shockey...         0         0    2002  59.416667  20020905_SF@NYG  NYG\n",
        "3  20020905_SF@NYG    1  NYG       22   SF       18     3     6      76  (14:20) PENALTY on NYG-J.Shockey  False Start ...         0         0    2002  59.333333  20020905_SF@NYG  NYG\n",
        "4  20020905_SF@NYG    1  NYG       22   SF       18     3    11      81  (14:20) (Shotgun) K.Collins pass intended for ...         0         0    2002  59.333333  20020905_SF@NYG  NYG"
       ]
      }
     ],
     "prompt_number": 9
    },
    {
     "cell_type": "code",
     "collapsed": false,
     "input": [
      "df.to_csv('destination.csv', sep = ',')"
     ],
     "language": "python",
     "metadata": {},
     "outputs": [],
     "prompt_number": 12
    }
   ],
   "metadata": {}
  }
 ]
}