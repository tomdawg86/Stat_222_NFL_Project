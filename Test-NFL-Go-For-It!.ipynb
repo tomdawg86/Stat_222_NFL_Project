{
 "metadata": {
  "name": ""
 },
 "nbformat": 3,
 "nbformat_minor": 0,
 "worksheets": [
  {
   "cells": [
    {
     "cell_type": "heading",
     "level": 3,
     "metadata": {},
     "source": [
      "Test Suite - NFL Go For It! "
     ]
    },
    {
     "cell_type": "heading",
     "level": 4,
     "metadata": {},
     "source": [
      "by Mike Ghirardo and Thomas McCann"
     ]
    },
    {
     "cell_type": "heading",
     "level": 4,
     "metadata": {},
     "source": [
      "The functions in this testing suite are taken from NFL-Go-For-It!.ipynb. They are used in determining the fourth down decision to be made given certain relevant conditions and from the NFL play-by-play data retreived for seasons 2002 - 2012."
     ]
    },
    {
     "cell_type": "code",
     "collapsed": false,
     "input": [
      "import io\n",
      "import os\n",
      "import csv\n",
      "import math\n",
      "import numpy as np\n",
      "import pandas as pd\n",
      "import statsmodels.formula.api as sm\n",
      "import matplotlib.pyplot as plt\n",
      "from sklearn import neighbors\n",
      "import seaborn as sns\n",
      "import pylab as pl\n",
      "%load_ext rmagic\n",
      "%pylab inline\n",
      "from IPython.nbformat import current"
     ],
     "language": "python",
     "metadata": {},
     "outputs": [
      {
       "output_type": "stream",
       "stream": "stdout",
       "text": [
        "Populating the interactive namespace from numpy and matplotlib\n"
       ]
      }
     ],
     "prompt_number": 1
    },
    {
     "cell_type": "heading",
     "level": 4,
     "metadata": {},
     "source": [
      "The following downloads ipython_nose.py from github to allow the user to run nosetests within this notebook."
     ]
    },
    {
     "cell_type": "code",
     "collapsed": false,
     "input": [
      "os.system('curl -L -o  ipython_nose.py \"https://raw.githubusercontent.com/taavi/ipython_nose/master/ipython_nose.py\"')"
     ],
     "language": "python",
     "metadata": {},
     "outputs": [
      {
       "metadata": {},
       "output_type": "pyout",
       "prompt_number": 2,
       "text": [
        "0"
       ]
      }
     ],
     "prompt_number": 2
    },
    {
     "cell_type": "heading",
     "level": 4,
     "metadata": {},
     "source": [
      "If NFL-Go-For-It!.ipynb is not in the current working directory, then the following code downloads it from github."
     ]
    },
    {
     "cell_type": "code",
     "collapsed": false,
     "input": [
      "directory = !ls\n",
      "if 'NFL-Go-For-It!.ipynb' not in directory:\n",
      "    os.system('curl -L -o NFL-Go-For-It!.ipynb \"https://raw.githubusercontent.com/tomdawg86/Stat_222_NFL_Project/master/NFL-Go-For-It!.ipynb\"')"
     ],
     "language": "python",
     "metadata": {},
     "outputs": [],
     "prompt_number": 3
    },
    {
     "cell_type": "heading",
     "level": 4,
     "metadata": {},
     "source": [
      "Importing ipython_node.py"
     ]
    },
    {
     "cell_type": "code",
     "collapsed": false,
     "input": [
      "%load_ext ipython_nose"
     ],
     "language": "python",
     "metadata": {},
     "outputs": [],
     "prompt_number": 4
    },
    {
     "cell_type": "heading",
     "level": 4,
     "metadata": {},
     "source": [
      "The folowing are \"made-up\" values to use in the testing functions."
     ]
    },
    {
     "cell_type": "code",
     "collapsed": false,
     "input": [
      "Punt = [[-2.505152, -2.087459, 1.306882, -1.127434], [0.050217, 0.087383, 0.060661, 0.080226], [0.007299, -0.001777, 0.013215, -0.016401], [-0.166807, -0.942778, -0.397772, -1.485986], [0.018914, 0.028430, 0.014893, 0.038073], [0.255890, 0.602383, 0.258313, 1.120144]]\n",
      "Punt = pd.DataFrame(Punt)\n",
      "Punt.columns = [\"DefTD\",\"FG\",\"NoPoints\",\"TD\"]\n",
      "Punt.index = [\"intercept\", \"removelast_ydline\", \"offrankMid\", \"offrank31t32\", \"defrankMid\", \"defrank31t32\"]\n",
      "\n",
      "score = [[17.102051, 23.383689, 22.702956, 23.697687], [-0.189247, -0.238087, -0.204967, -0.234290], [0.006484, -0.005221, 0.007977, -0.020917], [0.023844, -0.741291, -0.249409, -1.376970], [0.010301, 0.021678, 0.010377, 0.030189], [0.458122, 0.321432, 0.048783, 0.718639]]\n",
      "score = pd.DataFrame(score)\n",
      "score.columns = [\"DefTD\",\"FG\",\"NoPoints\",\"TD\"]\n",
      "score.index = [\"intercept\", \"ydline\", \"offrankMid\", \"offrank31t32\", \"defrankMid\", \"defrank31t32\"]\n",
      "\n",
      "fg_vec = [3.603047, -0.098109]\n",
      "\n",
      "gfi_vec = [0.580768, -0.119942, -0.007568, -0.455296, 0.011190, 0.484075]"
     ],
     "language": "python",
     "metadata": {},
     "outputs": [],
     "prompt_number": 5
    },
    {
     "cell_type": "heading",
     "level": 4,
     "metadata": {},
     "source": [
      "The following function refers to NFL-Go-For-It!.ipynb and runs the desired functions to be tested in this, the current notebook. It will also print out the functions that will be tested later in this notebook."
     ]
    },
    {
     "cell_type": "code",
     "collapsed": false,
     "input": [
      "def run_notebook(fname, ncells):\n",
      "    \"\"\"This function refers to NFL-Go-For-It!.ipynb and runs the desired functions to be tested in the current notebook. It will also print out the code that is being run.\"\"\"\n",
      "    f = io.open(fname, 'r', encoding='utf-8')\n",
      "    nb = current.read(f, 'json')\n",
      "    vec = range(len(nb.worksheets[0].cells))\n",
      "    trues = np.array([0]*len(nb.worksheets[0].cells))\n",
      "    for i in vec:\n",
      "        if nb.worksheets[0].cells[i]['cell_type'] == 'code':\n",
      "            trues[i] = 1\n",
      "            \n",
      "    c = [range(len(nb.worksheets[0].cells))]*(trues == 1)\n",
      "    c = c[c > 0][ncells]\n",
      "    for i in c:\n",
      "        if nb.worksheets[0].cells[i]['cell_type'] == 'code':\n",
      "            get_ipython().run_cell(nb.worksheets[0].cells[i].input)\n",
      "            print nb.worksheets[0].cells[i].input\n",
      "\n",
      "    return"
     ],
     "language": "python",
     "metadata": {},
     "outputs": [],
     "prompt_number": 6
    },
    {
     "cell_type": "code",
     "collapsed": false,
     "input": [
      "run_notebook(\"NFL-Go-For-It!.ipynb\", range(21,29))"
     ],
     "language": "python",
     "metadata": {},
     "outputs": [
      {
       "output_type": "stream",
       "stream": "stdout",
       "text": [
        "def init(ydline, ydtogo, oorank, odrank, ddrank, dorank):\n",
        "    \"\"\"This function initiates vectors that will later be used to calculate probabilities and expections based on the information provided\"\"\"\n",
        "    oorank1 = 2 if 5 <= oorank <= 30 else 3 if 31 <= oorank <= 32 else 0\n",
        "    Ioorank = 1 if oorank1 == 0 else 1 if oorank1 == 3 else oorank\n",
        "    ddrank1 = 4 if 5 <= ddrank <= 30 else 5 if 31 <= ddrank <= 32 else 0\n",
        "    Iddrank = 1 if ddrank1 == 0 else 1 if ddrank1 == 3 else ddrank\n",
        "    odrank1 = 4 if 5 <= odrank <= 30 else 5 if 31 <= odrank <= 32 else 0\n",
        "    Iodrank = 1 if odrank1 == 0 else 1 if odrank1 == 3 else odrank\n",
        "    dorank1 = 2 if 5 <= dorank <= 30 else 3 if 31 <= dorank <= 32 else 0\n",
        "    Idorank = 1 if dorank1 == 0 else 1 if dorank1 == 3 else dorank\n",
        "    X_off = [1, ydline - ydtogo, 0, 0, 0, 0]; X_off[oorank1] = Ioorank; X_off[ddrank1] = Iddrank\n",
        "    X_def_score = [1, 100 - (ydline - ydtogo)*(2/5), 0, 0, 0, 0]; X_def_score[dorank1] = Idorank; X_def_score[odrank1] = Iodrank\n",
        "    X_def_gfi_fail = [1, 100 - ydline, 0, 0, 0, 0]; X_def_gfi_fail[dorank1] = Idorank; X_def_gfi_fail[odrank1] = Iodrank\n",
        "    X_def_20 = [1, 80, 0, 0, 0, 0]; X_def_20[dorank1] = Idorank; X_def_20[odrank1] = Iodrank\n",
        "    X_def_fg_fail = [1, 93 - ydline, 0, 0, 0, 0]; X_def_fg_fail[dorank1] = Idorank; X_def_fg_fail[odrank1] = Iodrank\n",
        "    X_punt = [1, ydline, 0, 0, 0, 0]; X_punt[dorank1] = Idorank; X_punt[odrank1] = Iodrank\n",
        "    X = {'off': X_off, 'def_score': X_def_score, 'gfi_fail': X_def_gfi_fail, '20': X_def_20, 'fg_fail': X_def_fg_fail, 'punt': X_punt}   \n",
        "    return X\n",
        "def prob(ydline, ydtogo, oorank, odrank, ddrank, dorank):\n",
        "    \"\"\"This function finds the probability of converting a first down and converting a field goal under certain conditions\"\"\"\n",
        "    oorank1 = 2 if 5 <= oorank <= 30 else 3 if 31 <= oorank <= 32 else 0\n",
        "    Ioorank = 1 if oorank1 == 0 else 1 if oorank1 == 3 else oorank\n",
        "    ddrank1 = 4 if 5 <= ddrank <= 30 else 5 if 31 <= ddrank <= 32 else 0\n",
        "    Iddrank = 1 if ddrank1 == 0 else 1 if ddrank1 == 3 else ddrank\n",
        "    oorank_gfi = 2 if 5 <= oorank <= 30 else 3 if 31 <= oorank <= 32 else 0\n",
        "    ddrank_gfi = 4 if 5 <= ddrank <= 30 else 5 if 31 <= ddrank <= 32 else 0\n",
        "    vec = [1, ydtogo, 0, 0, 0, 0]; vec[oorank_gfi] = Ioorank; vec[ddrank_gfi] = Iddrank\n",
        "    fg = exp((fg_vec[0] + ydline*(fg_vec[1])))/(1 + exp((fg_vec[0] + ydline*(fg_vec[1]))))\n",
        "    gfi = exp((vec[0]*gfi_vec[0] + vec[1]*(gfi_vec[1]) + vec[2]*(gfi_vec[2]) * vec[3]*(gfi_vec[3]) + vec[4]*(gfi_vec[4]) + vec[5]*(gfi_vec[5])))/(1 + exp(vec[0]*gfi_vec[0] + vec[1]*(gfi_vec[1]) + vec[2]*(gfi_vec[2]) + vec[3]*(gfi_vec[3]) + vec[4]*(gfi_vec[4]) + vec[5]*(gfi_vec[5])))\n",
        "    X = {'fg': fg, 'gfi': gfi}\n",
        "    return X\n",
        "def log_score(ydline, ydtogo, oorank, odrank, ddrank, dorank, vec):\n",
        "    \"\"\"Using the results of one of the logistic regressions from above, values are calculated that will be used later to help in determining the expectation of points given go for it, punt or field goal decision.\"\"\"\n",
        "    Xsum = (1 + exp(sum(vec*score.ix[:,0])) + exp(sum(vec*score.ix[:,1])) + exp(sum(vec*score.ix[:,2])) + exp(sum(vec*score.ix[:,3])))\n",
        "    DefTD = exp(sum(vec*score.ix[:,0]))/Xsum\n",
        "    FG = exp(sum(vec*score.ix[:,1]))/Xsum\n",
        "    NoPoints = exp(sum(vec*score.ix[:,2]))/Xsum\n",
        "    TD = exp(sum(vec*score.ix[:,3]))/Xsum\n",
        "    DefSafety = 1/Xsum\n",
        "    X = {'DefTD': DefTD, 'FG': FG, 'NoPoints': NoPoints, 'TD': TD, 'DefSafety': DefSafety}\n",
        "    return X\n",
        "def log_punt(ydline, ydtogo, oorank, odrank, ddrank, dorank, vec):\n",
        "    \"\"\"Using the results of one of the logistic regressions from above, values are calculated that will be used later to help in determining the expectation of points given go for it, punt or field goal decision.\"\"\"\n",
        "    Xsum = (1 + exp(sum(vec*Punt.ix[:,0])) + exp(sum(vec*Punt.ix[:,1])) + exp(sum(vec*Punt.ix[:,2])) + exp(sum(vec*Punt.ix[:,3])))\n",
        "    DefTD = exp(sum(vec*Punt.ix[:,0]))/Xsum\n",
        "    FG = exp(sum(vec*Punt.ix[:,1]))/Xsum\n",
        "    NoPoints = exp(sum(vec*Punt.ix[:,2]))/Xsum\n",
        "    TD = exp(sum(vec*Punt.ix[:,3]))/Xsum\n",
        "    DefSafety = 1/Xsum\n",
        "    X = {'DefTD': DefTD, 'FG': FG, 'NoPoints': NoPoints, 'TD': TD, 'DefSafety': DefSafety}\n",
        "    return X\n",
        "def gfi_expect(ydline, ydtogo, oorank, odrank, ddrank, dorank):\n",
        "    \"\"\"Calculates the point expectation given the offensive team goes for the first down.\"\"\"\n",
        "    x = init(ydline, ydtogo, oorank, odrank, ddrank, dorank)\n",
        "    y = prob(ydline, ydtogo, oorank, odrank, ddrank, dorank)\n",
        "    X20 = log_score(ydline, ydtogo, oorank, odrank, ddrank, dorank, x['20'])\n",
        "    XDS = log_score(ydline, ydtogo, oorank, odrank, ddrank, dorank, x['def_score'])\n",
        "    XGFI = log_score(ydline, ydtogo, oorank, odrank, ddrank, dorank, x['gfi_fail'])\n",
        "    XOFF = log_score(ydline, ydtogo, oorank, odrank, ddrank, dorank, x['off'])\n",
        "\n",
        "    if ydline <= ydtogo:\n",
        "        E_gfi = y['gfi']*(7 - (X20['DefTD']*(-7) + X20['FG']*(3) + X20['TD']*(7) + X20['DefSafety']*(-2))) - (1 - y['gfi'])*(XGFI['DefTD']*(-7) + XGFI['FG']*(3) + XGFI['TD']*(7) + XGFI['DefSafety']*(-2))\n",
        "    else:\n",
        "        E_gfi = y['gfi']*((XOFF['FG']*(3) + XOFF['TD']*(7) + XOFF['DefSafety']*(-2) + XOFF['DefTD']*(-7)) - (XOFF['FG'] + XOFF['TD'] + XOFF['DefSafety'])*(X20['DefTD']*(-7) + X20['FG']*(3) + X20['TD']*(7) + X20['DefSafety']*(-2)) - XOFF['NoPoints']*(XDS['FG']*(3) + XDS['TD']*(7) + XDS['DefSafety']*(-2) + XDS['DefTD']*(-7))) - (1 - y['gfi'])*(XGFI['DefTD']*(-7) + XGFI['FG']*(3) + XGFI['TD']*(7) + XGFI['DefSafety']*(-2))\n",
        "    return E_gfi"
       ]
      },
      {
       "output_type": "stream",
       "stream": "stdout",
       "text": [
        "\n",
        "def fg_expect(ydline, ydtogo, oorank, odrank, ddrank, dorank):\n",
        "    \"\"\"Calculates the point expectation given the offensive team goes for a field goal.\"\"\"\n",
        "    x = init(ydline, ydtogo, oorank, odrank, ddrank, dorank)\n",
        "    y = prob(ydline, ydtogo, oorank, odrank, ddrank, dorank)\n",
        "    X20 = log_score(ydline, ydtogo, oorank, odrank, ddrank, dorank, x['20'])\n",
        "    XFG = log_score(ydline, ydtogo, oorank, odrank, ddrank, dorank, x['fg_fail'])\n",
        "   \n",
        "    E_fg = y['fg']*(3 - (X20['DefTD']*(-7) + X20['FG']*(3) + X20['TD']*(7) + X20['DefSafety']*(-2))) - (1 - y['fg'])*(XFG['DefTD']*(-7) + XFG['FG']*(3) + XFG['TD']*(7) + XFG['DefSafety']*(-2))\n",
        "    return E_fg\n",
        "def punt_expect(ydline, ydtogo, oorank, odrank, ddrank, dorank):\n",
        "    \"\"\"Calculates the point expectation given the offensive team punts.\"\"\"\n",
        "    x = init(ydline, ydtogo, oorank, odrank, ddrank, dorank)\n",
        "    XP = log_punt(ydline, ydtogo, oorank, odrank, ddrank, dorank, x['punt'])\n",
        "    E_punt = - (XP['DefTD']*(-7) + XP['FG']*(3) + XP['TD']*(7) + XP['DefSafety']*(-2))\n",
        "    return E_punt\n",
        "def decision(ydline, ydtogo, oorank, odrank, ddrank, dorank):\n",
        "    \"\"\"Returns the three expectations calculated above to help the user determine which decision is best.\"\"\"\n",
        "    gfi = gfi_expect(ydline, ydtogo, oorank, odrank, ddrank, dorank)\n",
        "    fg = fg_expect(ydline, ydtogo, oorank, odrank, ddrank, dorank)\n",
        "    punt = punt_expect(ydline, ydtogo, oorank, odrank, ddrank, dorank)\n",
        "    dec = {'Go For It': gfi, 'Field Goal': fg, 'Punt': punt}\n",
        "    return dec\n"
       ]
      }
     ],
     "prompt_number": 7
    },
    {
     "cell_type": "heading",
     "level": 4,
     "metadata": {},
     "source": [
      "The following is the testing portion of the notebook. These are the test functions used to test the functions created in NFL-Go-For-It!.ipynb shown above."
     ]
    },
    {
     "cell_type": "code",
     "collapsed": false,
     "input": [
      "def test_init():\n",
      "    result = init(50, 10, 5, 5, 6, 6)\n",
      "    print 'This is a test; the value of result is', result\n",
      "    assert result == {'20': [1, 80, 6, 0, 5, 0], 'def_score': [1, 100, 6, 0, 5, 0], 'fg_fail': [1, 43, 6, 0, 5, 0], 'gfi_fail': [1, 50, 6, 0, 5, 0],'off': [1, 40, 5, 0, 6, 0], 'punt': [1, 50, 6, 0, 5, 0]} \n",
      "    \n",
      "def test_prob():\n",
      "    result = prob(50, 10, 5, 5, 6, 6)\n",
      "    print 'hello, this is a test; the value of result is', result\n",
      "    assert result == {'fg': 0.2137608737772787, 'gfi': 0.37054292453220239}\n",
      "    \n",
      "def test_log_score():\n",
      "    result = log_score(50, 10, 5, 5, 6, 6, [1, 10, 5, 0, 6, 0])\n",
      "    print 'hello, this is a test; the value of result is', result\n",
      "    assert result == {'DefSafety': 2.2052541609623836e-10, 'DefTD': 0.00097682683621591582, 'FG': 0.32360677361954143, 'NoPoints': 0.22773441808312658, 'TD': 0.44768198124059067}\n",
      "\n",
      "def test_log_punt():\n",
      "    result = log_punt(50, 10, 5, 5, 6, 6, [1, 10, 5, 0, 6, 0])\n",
      "    print 'hello, this is a test; the value of result is', result\n",
      "    assert result == {'DefSafety': 0.097478634178799317, 'DefTD': 0.015281305481536707, 'FG': 0.034045546032633892, 'NoPoints': 0.77167094133367564, 'TD': 0.081523572973354372}\n",
      "    \n",
      "def test_gfi():\n",
      "    result = gfi_expect(50, 10, 5, 5, 6, 6)\n",
      "    print 'hello, this is a test; the value of result is', result\n",
      "    assert result == -0.90330920543553173\n",
      "    \n",
      "def test_fg():\n",
      "    result = fg_expect(50, 10, 5, 5, 6, 6)\n",
      "    print 'hello, this is a test; the value of result is', result\n",
      "    assert result == -1.9430718453559772\n",
      "    \n",
      "def test_punt():\n",
      "    result = punt_expect(50, 10, 5, 5, 6, 6)\n",
      "    print 'hello, this is a test; the value of result is', result\n",
      "    assert result == -1.312820991036932\n",
      "    \n",
      "def test_decision():\n",
      "    result = decision(50, 10, 5, 5, 6, 6)\n",
      "    print 'hello, this is a test; the value of result is', result\n",
      "    assert result == {'Field Goal': -1.9430718453559772, 'Go For It': -0.90330920543553173, 'Punt': -1.312820991036932}"
     ],
     "language": "python",
     "metadata": {},
     "outputs": [],
     "prompt_number": 8
    },
    {
     "cell_type": "code",
     "collapsed": false,
     "input": [
      "%nose"
     ],
     "language": "python",
     "metadata": {},
     "outputs": [
      {
       "html": [
        "<div id=\"ipython_nose_c6f66a94a2684743b01eede7bf93c100\"></div>"
       ],
       "metadata": {},
       "output_type": "display_data"
      },
      {
       "javascript": [
        "document.ipython_nose_c6f66a94a2684743b01eede7bf93c100 = $(\"#ipython_nose_c6f66a94a2684743b01eede7bf93c100\");"
       ],
       "metadata": {},
       "output_type": "display_data"
      },
      {
       "javascript": [
        "document.ipython_nose_c6f66a94a2684743b01eede7bf93c100.append($(\"<span>.</span>\"));"
       ],
       "metadata": {},
       "output_type": "display_data"
      },
      {
       "javascript": [
        "document.ipython_nose_c6f66a94a2684743b01eede7bf93c100.append($(\"<span>.</span>\"));"
       ],
       "metadata": {},
       "output_type": "display_data"
      },
      {
       "javascript": [
        "document.ipython_nose_c6f66a94a2684743b01eede7bf93c100.append($(\"<span>.</span>\"));"
       ],
       "metadata": {},
       "output_type": "display_data"
      },
      {
       "javascript": [
        "document.ipython_nose_c6f66a94a2684743b01eede7bf93c100.append($(\"<span>.</span>\"));"
       ],
       "metadata": {},
       "output_type": "display_data"
      },
      {
       "javascript": [
        "document.ipython_nose_c6f66a94a2684743b01eede7bf93c100.append($(\"<span>.</span>\"));"
       ],
       "metadata": {},
       "output_type": "display_data"
      },
      {
       "javascript": [
        "document.ipython_nose_c6f66a94a2684743b01eede7bf93c100.append($(\"<span>.</span>\"));"
       ],
       "metadata": {},
       "output_type": "display_data"
      },
      {
       "javascript": [
        "document.ipython_nose_c6f66a94a2684743b01eede7bf93c100.append($(\"<span>.</span>\"));"
       ],
       "metadata": {},
       "output_type": "display_data"
      },
      {
       "javascript": [
        "document.ipython_nose_c6f66a94a2684743b01eede7bf93c100.append($(\"<span>.</span>\"));"
       ],
       "metadata": {},
       "output_type": "display_data"
      },
      {
       "javascript": [
        "delete document.ipython_nose_c6f66a94a2684743b01eede7bf93c100;"
       ],
       "metadata": {},
       "output_type": "display_data"
      },
      {
       "html": [
        "    <style type=\"text/css\">\n",
        "        span.nosefailedfunc {\n",
        "            font-family: monospace;\n",
        "            font-weight: bold;\n",
        "        }\n",
        "        div.noseresults {\n",
        "            width: 100%;\n",
        "        }\n",
        "        div.nosebar {\n",
        "            float: left;\n",
        "            padding: 1ex 0px 1ex 0px;\n",
        "        }\n",
        "        div.nosebar.fail {\n",
        "            background: #ff3019; /* Old browsers */\n",
        "            /* FF3.6+ */\n",
        "            background: -moz-linear-gradient(top, #ff3019 0%, #cf0404 100%);\n",
        "            /* Chrome,Safari4+ */\n",
        "            background: -webkit-gradient(linear, left top, left bottom,\n",
        "                                         color-stop(0%,#ff3019),\n",
        "                                         color-stop(100%,#cf0404));\n",
        "            /* Chrome10+,Safari5.1+ */\n",
        "            background: -webkit-linear-gradient(top, #ff3019 0%,#cf0404 100%);\n",
        "            /* Opera 11.10+ */\n",
        "            background: -o-linear-gradient(top, #ff3019 0%,#cf0404 100%);\n",
        "            /* IE10+ */\n",
        "            background: -ms-linear-gradient(top, #ff3019 0%,#cf0404 100%);\n",
        "            /* W3C */\n",
        "            background: linear-gradient(to bottom, #ff3019 0%,#cf0404 100%);\n",
        "        }\n",
        "        div.nosebar.pass {\n",
        "            background: #52b152;\n",
        "            background: -moz-linear-gradient(top, #52b152 1%, #008a00 100%);\n",
        "            background: -webkit-gradient(linear, left top, left bottom,\n",
        "                                         color-stop(1%,#52b152),\n",
        "                                         color-stop(100%,#008a00));\n",
        "            background: -webkit-linear-gradient(top, #52b152 1%,#008a00 100%);\n",
        "            background: -o-linear-gradient(top, #52b152 1%,#008a00 100%);\n",
        "            background: -ms-linear-gradient(top, #52b152 1%,#008a00 100%);\n",
        "            background: linear-gradient(to bottom, #52b152 1%,#008a00 100%);\n",
        "        }\n",
        "        div.nosebar.skip {\n",
        "            background: #f1e767;\n",
        "            background: -moz-linear-gradient(top, #f1e767 0%, #feb645 100%);\n",
        "            background: -webkit-gradient(linear, left top, left bottom,\n",
        "                                         color-stop(0%,#f1e767),\n",
        "                                         color-stop(100%,#feb645));\n",
        "            background: -webkit-linear-gradient(top, #f1e767 0%,#feb645 100%);\n",
        "            background: -o-linear-gradient(top, #f1e767 0%,#feb645 100%);\n",
        "            background: -ms-linear-gradient(top, #f1e767 0%,#feb645 100%);\n",
        "            background: linear-gradient(to bottom, #f1e767 0%,#feb645 100%);\n",
        "        }\n",
        "        div.nosebar.leftmost {\n",
        "            border-radius: 4px 0 0 4px;\n",
        "        }\n",
        "        div.nosebar.rightmost {\n",
        "            border-radius: 0 4px 4px 0;\n",
        "        }\n",
        "        div.nosefailbanner {\n",
        "            border-radius: 4px 0 0 4px;\n",
        "            border-left: 10px solid #cf0404;\n",
        "            padding: 0.5ex 0em 0.5ex 1em;\n",
        "            margin-top: 1ex;\n",
        "            margin-bottom: 0px;\n",
        "        }\n",
        "        div.nosefailbanner.expanded {\n",
        "            border-radius: 4px 4px 0 0;\n",
        "            border-top: 10px solid #cf0404;\n",
        "        }\n",
        "        pre.nosetraceback {\n",
        "            border-radius: 0 4px 4px 4px;\n",
        "            border-left: 10px solid #cf0404;\n",
        "            padding: 1em;\n",
        "            margin-left: 0px;\n",
        "            margin-top: 0px;\n",
        "            display: none;\n",
        "        }\n",
        "    </style>\n",
        "    \n",
        "    <script>\n",
        "        setTimeout(function () {\n",
        "            $('.nosefailtoggle').bind(\n",
        "                'click',\n",
        "                function () {\n",
        "                    $(\n",
        "                        $(this)\n",
        "                            .parent().toggleClass('expanded')\n",
        "                            .parent()\n",
        "                            .children()\n",
        "                            .filter('.nosetraceback')\n",
        "                    ).toggle();\n",
        "                }\n",
        "            );},\n",
        "            0);\n",
        "    </script>\n",
        "    \n",
        "    <div class=\"noseresults\">\n",
        "      <div class=\"nosebar fail leftmost\" style=\"width: 0%\">\n",
        "          &nbsp;\n",
        "      </div>\n",
        "      <div class=\"nosebar skip\" style=\"width: 0%\">\n",
        "          &nbsp;\n",
        "      </div>\n",
        "      <div class=\"nosebar pass rightmost\" style=\"width: 100%\">\n",
        "          &nbsp;\n",
        "      </div>\n",
        "      8/8 tests passed\n",
        "    </div>\n",
        "    "
       ],
       "metadata": {},
       "output_type": "pyout",
       "prompt_number": 9,
       "text": [
        "8/8 tests passed\n"
       ]
      }
     ],
     "prompt_number": 9
    }
   ],
   "metadata": {}
  }
 ]
}