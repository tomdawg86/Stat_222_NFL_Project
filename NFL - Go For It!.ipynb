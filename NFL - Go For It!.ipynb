{
 "metadata": {
  "name": ""
 },
 "nbformat": 3,
 "nbformat_minor": 0,
 "worksheets": [
  {
   "cells": [
    {
     "cell_type": "heading",
     "level": 2,
     "metadata": {},
     "source": [
      "NFL Go For It!"
     ]
    },
    {
     "cell_type": "markdown",
     "metadata": {},
     "source": [
      "In football there are many decisions a team needs to make in order win the game. In this project we focus on the decision that needs to be made on the 4th down of any given play. There are three decisions to be made on the fourth down.<br/>\n",
      "1. Punt the ball<br/>\n",
      "2. Kick a field goal<br/>\n",
      "3. Go for a first down<br/>\n",
      "In this project we try to determine which decision should be made under certain conditions. The following are the conditions which we take into account in determining the decision.<br/>\n",
      "1. Offensive and defensive rank of the offensive team.<br/>\n",
      "2. Offensive and defensive rank of the defensive team.<br/>\n",
      "3. The number of yards to convert for a first down.<br/>\n",
      "4. The field position started from.<br/>\n",
      "With this information from the data we were able to estimate the expected points scored for each of the of three decisions.<br/>\n",
      "Finally, with this information a decision can be made."
     ]
    },
    {
     "cell_type": "code",
     "collapsed": false,
     "input": [
      "from matplotlib.backends.backend_pdf import PdfPages\n",
      "from mpl_toolkits.mplot3d.axes3d import Axes3D\n",
      "import statsmodels.formula.api as sm\n",
      "import matplotlib.pyplot as plt\n",
      "from sklearn import neighbors\n",
      "from mayavi.mlab import *\n",
      "from mayavi import mlab\n",
      "import seaborn as sns\n",
      "import pandas as pd\n",
      "from pylab import *\n",
      "import numpy as np\n",
      "%pylab inline\n",
      "import math\n",
      "import csv\n",
      "import os"
     ],
     "language": "python",
     "metadata": {},
     "outputs": [
      {
       "output_type": "stream",
       "stream": "stdout",
       "text": [
        "Populating the interactive namespace from numpy and matplotlib\n"
       ]
      },
      {
       "output_type": "stream",
       "stream": "stderr",
       "text": [
        "WARNING: pylab import has clobbered these variables: ['power', 'draw_if_interactive', 'random', 'fft', 'linalg', 'info']\n",
        "`%pylab --no-import-all` prevents importing * from pylab and numpy\n"
       ]
      }
     ],
     "prompt_number": 73
    },
    {
     "cell_type": "heading",
     "level": 4,
     "metadata": {},
     "source": [
      "Importing NFL play-by-play data from years 2002 to 2012."
     ]
    },
    {
     "cell_type": "code",
     "collapsed": false,
     "input": [
      "os.system('curl -L -o 2002_nfl_pbp_data.csv \"https://docs.google.com/uc?id=0BxEXxf9odCnMNGQzY2YyNmUtMTlhYy00YmQyLTg3ZTUtMGI2NDhjNGU4Zjg5&export=download\"') \n",
      "os.system('curl -L -o 2003_nfl_pbp_data.csv \"https://docs.google.com/uc?id=0BxEXxf9odCnMODljMmIxNzItNzJjNy00ODJiLWJiNDItMDBlZGMwMjkwOTlk&export=download\"')\n",
      "os.system('curl -L -o 2004_nfl_pbp_data.csv \"https://docs.google.com/uc?id=0BxEXxf9odCnMMGUyNjVkMWEtOWE2YS00YzI3LWJjYjEtZWU2MTIyNmJhOTk0&export=download\"')\n",
      "os.system('curl -L -o 2005_nfl_pbp_data.csv \"https://docs.google.com/uc?id=0BxEXxf9odCnMYmIyMTdjNWItMjhiNS00NjJkLWIyYWEtZmI1ZGM4NmFmZGQy&export=download\"')\n",
      "os.system('curl -L -o 2006_nfl_pbp_data.csv \"https://docs.google.com/uc?id=0BxEXxf9odCnMN2YxNGM0MzUtYTc2Mi00YjVjLWI3N2EtMzIwMDA0Y2E5OTg1&export=download\"')\n",
      "os.system('curl -L -o 2007_nfl_pbp_data.csv \"https://docs.google.com/uc?id=0BxEXxf9odCnMYWZkOWU1YTItYTUzNS00MmM4LTk1MTktYmI3Y2E1Zjc3OTIy&export=download\"')\n",
      "os.system('curl -L -o 2008_nfl_pbp_data.csv \"https://docs.google.com/uc?id=0BxEXxf9odCnMZDJmYzIzNWQtNjIyNS00NzQzLWJiMTEtYWI5M2U0MTI4Njlk&export=download\"')\n",
      "os.system('curl -L -o 2009_nfl_pbp_data.csv \"https://docs.google.com/uc?id=0BxEXxf9odCnMMDAyOGRhMjYtMzlkMC00NGQwLTgxMWUtOWNmYWMxY2Q2ODY3&export=download\"')\n",
      "os.system('curl -L -o 2010_nfl_pbp_data.csv \"https://docs.google.com/uc?id=0BxEXxf9odCnMMWRkMDc0MDgtZDZhMi00ZGRlLTlkYjEtOTNkZjViZDI0ZGY2&export=download\"')\n",
      "os.system('curl -L -o 2011_nfl_pbp_data.csv \"https://docs.google.com/uc?id=0BxEXxf9odCnMbmZvYzE3cjBzblE&export=download\"')\n",
      "os.system('curl -L -o 2012_nfl_pbp_data.csv \"https://docs.google.com/uc?id=0BxEXxf9odCnMMC1sR3dtNEtHLW8&export=download\"')"
     ],
     "language": "python",
     "metadata": {},
     "outputs": [
      {
       "metadata": {},
       "output_type": "pyout",
       "prompt_number": 2,
       "text": [
        "0"
       ]
      }
     ],
     "prompt_number": 2
    },
    {
     "cell_type": "heading",
     "level": 4,
     "metadata": {},
     "source": [
      "Joining data sets together to get one long dataset of play-by-play data accross all 11 years."
     ]
    },
    {
     "cell_type": "code",
     "collapsed": false,
     "input": [
      "pd.set_option('display.line_width', 300)\n",
      "pbp_data = pd.read_csv('2002_nfl_pbp_data.csv')\n",
      "teams = list(set(pbp_data.off))[1:]\n",
      "seasons = range(2002,2013)\n",
      "for i in seasons[1:]:\n",
      "    pbp_data = pbp_data.append(pd.read_csv('%d_nfl_pbp_data.csv' % i), ignore_index = True)"
     ],
     "language": "python",
     "metadata": {},
     "outputs": [
      {
       "output_type": "stream",
       "stream": "stderr",
       "text": [
        "//anaconda/lib/python2.7/site-packages/pandas/core/config.py:570: DeprecationWarning: line_width has been deprecated, use display.width instead (currently both are\n",
        "identical)\n",
        "\n",
        "  warnings.warn(d.msg, DeprecationWarning)\n"
       ]
      }
     ],
     "prompt_number": 2
    },
    {
     "cell_type": "heading",
     "level": 4,
     "metadata": {},
     "source": [
      "Taking out post-season games to get a more accurate ranking of teams."
     ]
    },
    {
     "cell_type": "code",
     "collapsed": false,
     "input": [
      "pbp_dataTF = pbp_data['gameid'].map(lambda x: str(x).endswith(('01', '02'), 4, 6)) == False\n",
      "pbp_dataTF[pbp_data['gameid'].map(lambda x: str(x).endswith(('20050102', '20060101', '20100103', '20110102', '20120101'), 0, 8)) == True] = True\n",
      "pbp_dataT = pbp_dataTF[pbp_dataTF == True]"
     ],
     "language": "python",
     "metadata": {},
     "outputs": [],
     "prompt_number": 3
    },
    {
     "cell_type": "code",
     "collapsed": false,
     "input": [
      "pbp_data = pbp_data.loc[pbp_dataT.index]\n",
      "pbp_data = pbp_data.reset_index(range(len(pbp_data)))\n",
      "pbp_data = pbp_data.drop(['index'], 1)\n",
      "#len(set(pbp_data['gameid']))"
     ],
     "language": "python",
     "metadata": {},
     "outputs": [],
     "prompt_number": 4
    },
    {
     "cell_type": "heading",
     "level": 4,
     "metadata": {},
     "source": [
      "Shifting dataset down by one row and appending it to the original."
     ]
    },
    {
     "cell_type": "code",
     "collapsed": false,
     "input": [
      "shifted_data1 = (pbp_data.shift(1)).shift(-1)\n",
      "shifted_data2 = pbp_data.shift(1)\n",
      "shifted_data2.rename(columns=lambda x: 'last' + x, inplace=True)\n",
      "shifted_data = shifted_data1.join(shifted_data2, how = 'outer')"
     ],
     "language": "python",
     "metadata": {},
     "outputs": [],
     "prompt_number": 5
    },
    {
     "cell_type": "heading",
     "level": 4,
     "metadata": {},
     "source": [
      "Getting the first and last plays of each game. This will be useful in helping us determine team ranks by how many points scored per game and how many points let go per game."
     ]
    },
    {
     "cell_type": "code",
     "collapsed": false,
     "input": [
      "offTF = shifted_data['off'] == shifted_data['lastoff']\n",
      "defTF = shifted_data['def'] == shifted_data['lastdef']\n",
      "gameIDTF = shifted_data['gameid'] == shifted_data['lastgameid']\n",
      "first_last_play = shifted_data[offTF == False]\n",
      "first_last_play = shifted_data[gameIDTF == False]"
     ],
     "language": "python",
     "metadata": {},
     "outputs": [],
     "prompt_number": 6
    },
    {
     "cell_type": "heading",
     "level": 4,
     "metadata": {},
     "source": [
      "Summing points gained per game per team per season."
     ]
    },
    {
     "cell_type": "code",
     "collapsed": false,
     "input": [
      "rank_off_off_score = pd.DataFrame(first_last_play.groupby(['lastseason', 'lastoff'])['lastoffscore'].sum())\n",
      "rank_off_def_score = pd.DataFrame(first_last_play.groupby(['lastseason', 'lastdef'])['lastdefscore'].sum())\n",
      "rank_def_def_score = pd.DataFrame(first_last_play.groupby(['lastseason', 'lastoff'])['lastdefscore'].sum())\n",
      "rank_def_off_score = pd.DataFrame(first_last_play.groupby(['lastseason', 'lastdef'])['lastoffscore'].sum())\n",
      "team_score_off_rank = rank_off_off_score.join(rank_off_def_score)\n",
      "team_score_off_rank['total'] = team_score_off_rank['lastoffscore'] + team_score_off_rank['lastdefscore']\n",
      "team_score_def_rank = rank_def_def_score.join(rank_def_off_score)\n",
      "team_score_def_rank['total'] = team_score_def_rank['lastoffscore'] + team_score_def_rank['lastdefscore']"
     ],
     "language": "python",
     "metadata": {},
     "outputs": [],
     "prompt_number": 7
    },
    {
     "cell_type": "heading",
     "level": 4,
     "metadata": {},
     "source": [
      "Creating a two matrices of the total points scored and total points let go with the season as the column and the team as the row, and then ranking them to get the offensive and defensive ranks."
     ]
    },
    {
     "cell_type": "code",
     "collapsed": false,
     "input": [
      "off_rank = [[0]*len(seasons) for x in range(len(teams))]\n",
      "def_rank = [[0]*len(seasons) for x in range(len(teams))]\n",
      "\n",
      "for i in range(len(teams)):\n",
      "    for j in range(len(seasons)):\n",
      "        off_rank[i][j] = team_score_off_rank['total'].loc[seasons[j], teams[i]]\n",
      "        def_rank[i][j] = team_score_def_rank['total'].loc[seasons[j], teams[i]]\n",
      " \n",
      "off_rank, def_rank = pd.DataFrame(off_rank, index = teams), pd.DataFrame(def_rank, index = teams)\n",
      "off_rank.rename(columns=lambda x: x + 2002, inplace=True)\n",
      "def_rank.rename(columns=lambda x: x + 2002, inplace=True)\n",
      "off_rank = off_rank.rank(axis = 0, method = 'max', ascending = False)\n",
      "def_rank = def_rank.rank(axis = 0, method = 'max', ascending = True)"
     ],
     "language": "python",
     "metadata": {},
     "outputs": [],
     "prompt_number": 8
    },
    {
     "cell_type": "code",
     "collapsed": false,
     "input": [
      "#off_rank"
     ],
     "language": "python",
     "metadata": {},
     "outputs": [],
     "prompt_number": 9
    },
    {
     "cell_type": "code",
     "collapsed": false,
     "input": [
      "#def_rank"
     ],
     "language": "python",
     "metadata": {},
     "outputs": [],
     "prompt_number": 10
    },
    {
     "cell_type": "heading",
     "level": 4,
     "metadata": {},
     "source": [
      "Inserting offensive and defensive ranking columns into the main data frame."
     ]
    },
    {
     "cell_type": "code",
     "collapsed": false,
     "input": [
      "off_rank = pd.DataFrame(off_rank.stack())\n",
      "def_rank = pd.DataFrame(def_rank.stack())\n",
      "off_rank.columns = ['offrank']\n",
      "def_rank.columns = ['defrank']\n",
      "pbp_data = pbp_data.join(off_rank, on = ['off', 'season'], how = 'left')\n",
      "pbp_data = pbp_data.join(def_rank, on = ['def', 'season'], how = 'left')"
     ],
     "language": "python",
     "metadata": {},
     "outputs": [],
     "prompt_number": 11
    },
    {
     "cell_type": "heading",
     "level": 4,
     "metadata": {},
     "source": [
      "Binning the rankings into buckets of size mostly 5, with the last of size 7."
     ]
    },
    {
     "cell_type": "code",
     "collapsed": false,
     "input": [
      "pbp_data['offrankbucket'] = 'NA'\n",
      "pbp_data['defrankbucket'] = 'NA'\n",
      "pbp_data['offrank1t5'] = 0\n",
      "pbp_data['offrank6t10'] = 0\n",
      "pbp_data['offrank11t15'] = 0\n",
      "pbp_data['offrank16t20'] = 0\n",
      "pbp_data['offrank21t25'] = 0\n",
      "pbp_data['offrank26t32'] = 0\n",
      "pbp_data['defrank1t5'] = 0\n",
      "pbp_data['defrank6t10'] = 0\n",
      "pbp_data['defrank11t15'] = 0\n",
      "pbp_data['defrank16t20'] = 0\n",
      "pbp_data['defrank21t25'] = 0\n",
      "pbp_data['defrank26t32'] = 0\n",
      "pbp_data.offrankbucket[pbp_data.offrank >= 1], pbp_data.defrankbucket[pbp_data.defrank >= 1] = '(1-5)', '(1-5)'\n",
      "pbp_data.offrankbucket[pbp_data.offrank >= 6], pbp_data.defrankbucket[pbp_data.defrank >= 6] = '(6-10)', '(6-10)'\n",
      "pbp_data.offrankbucket[pbp_data.offrank >= 11], pbp_data.defrankbucket[pbp_data.defrank >= 11] = '(11-15)', '(11-15)'\n",
      "pbp_data.offrankbucket[pbp_data.offrank >= 16], pbp_data.defrankbucket[pbp_data.defrank >= 16] = '(16-20)', '(16-20)'\n",
      "pbp_data.offrankbucket[pbp_data.offrank >= 21], pbp_data.defrankbucket[pbp_data.defrank >= 21] = '(21-25)', '(21-25)'\n",
      "pbp_data.offrankbucket[pbp_data.offrank >= 26], pbp_data.defrankbucket[pbp_data.defrank >= 26] = '(26-32)', '(26-32)'\n",
      "pbp_data.offrank1t5[pbp_data.offrankbucket == '(1-5)'], pbp_data.defrank1t5[pbp_data.defrankbucket == '(1-5)'] = 1, 1\n",
      "pbp_data.offrank6t10[pbp_data.offrankbucket == '(6-10)'], pbp_data.defrank6t10[pbp_data.defrankbucket == '(6-10)'] = 1, 1\n",
      "pbp_data.offrank11t15[pbp_data.offrankbucket == '(11-15)'], pbp_data.defrank11t15[pbp_data.defrankbucket == '(11-15)'] = 1, 1\n",
      "pbp_data.offrank16t20[pbp_data.offrankbucket == '(16-20)'], pbp_data.defrank16t20[pbp_data.defrankbucket == '(16-20)'] = 1, 1\n",
      "pbp_data.offrank21t25[pbp_data.offrankbucket == '(21-25)'], pbp_data.defrank21t25[pbp_data.defrankbucket == '(21-25)'] = 1, 1"
     ],
     "language": "python",
     "metadata": {},
     "outputs": [],
     "prompt_number": 12
    },
    {
     "cell_type": "heading",
     "level": 4,
     "metadata": {},
     "source": [
      "Binning the yards togo per down in buckets of varying lengths with the larger bins corresponding more yards to go, because the affect of the difference in yardage changes depending the quantity of yards to be gained."
     ]
    },
    {
     "cell_type": "code",
     "collapsed": false,
     "input": [
      "pbp_data['togobucket'] = 'NA'\n",
      "pbp_data['togo0t1'] = 0\n",
      "pbp_data['togo2t3'] = 0\n",
      "pbp_data['togo4t5'] = 0\n",
      "pbp_data['togo6t7'] = 0\n",
      "pbp_data['togo8t10'] = 0\n",
      "pbp_data['togo11t13'] = 0\n",
      "pbp_data['togo14t16'] = 0\n",
      "pbp_data['togo17t20'] = 0\n",
      "pbp_data['togo21t25'] = 0\n",
      "pbp_data.togobucket[pbp_data.togo >= 0] = '(0-1)'\n",
      "pbp_data.togobucket[pbp_data.togo >= 2] = '(2-3)'\n",
      "pbp_data.togobucket[pbp_data.togo >= 4] = '(4-5)'\n",
      "pbp_data.togobucket[pbp_data.togo >= 6] = '(6-7)'\n",
      "pbp_data.togobucket[pbp_data.togo >= 8] = '(8-10)'\n",
      "pbp_data.togobucket[pbp_data.togo >= 11] = '(11-13)'\n",
      "pbp_data.togobucket[pbp_data.togo >= 14] = '(14-16)'\n",
      "pbp_data.togobucket[pbp_data.togo >= 17] = '(17-20)'\n",
      "pbp_data.togobucket[pbp_data.togo >= 21] = '(21-25)'\n",
      "pbp_data.togobucket[pbp_data.togo > 25] = '(>25)'\n",
      "pbp_data.togo0t1[pbp_data.togobucket == '(0-1)'] = 1\n",
      "pbp_data.togo2t3[pbp_data.togobucket == '(2-3)'] = 1\n",
      "pbp_data.togo4t5[pbp_data.togobucket == '(4-5)'] = 1\n",
      "pbp_data.togo6t7[pbp_data.togobucket == '(6-7)'] = 1\n",
      "pbp_data.togo8t10[pbp_data.togobucket == '(8-10)'] = 1\n",
      "pbp_data.togo11t13[pbp_data.togobucket == '(11-13)'] = 1\n",
      "pbp_data.togo14t16[pbp_data.togobucket == '(14-16)'] = 1\n",
      "pbp_data.togo17t20[pbp_data.togobucket == '(17-20)'] = 1\n",
      "pbp_data.togo21t25[pbp_data.togobucket == '(21-25)'] = 1\n",
      "pbp_data = pbp_data.drop(['togobucket', 'offrankbucket', 'defrankbucket'], 1)\n",
      "#pbp_data.head()"
     ],
     "language": "python",
     "metadata": {},
     "outputs": [],
     "prompt_number": 13
    },
    {
     "cell_type": "heading",
     "level": 4,
     "metadata": {},
     "source": []
    },
    {
     "cell_type": "code",
     "collapsed": false,
     "input": [
      "shifted_data1 = (pbp_data.shift(1)).shift(-1)\n",
      "shifted_data2 = pbp_data.shift(1)\n",
      "shifted_data2.rename(columns=lambda x: 'last' + x, inplace=True)\n",
      "shifted_data = shifted_data1.join(shifted_data2, how = 'outer')"
     ],
     "language": "python",
     "metadata": {},
     "outputs": [],
     "prompt_number": 14
    },
    {
     "cell_type": "code",
     "collapsed": false,
     "input": [
      "offTF = shifted_data['off'] == shifted_data['lastoff']\n",
      "defTF = shifted_data['def'] == shifted_data['lastdef']\n",
      "down1 = shifted_data[offTF == False]\n",
      "#down1[['description', 'down', 'qtr', 'gameid']].head(4)"
     ],
     "language": "python",
     "metadata": {},
     "outputs": [],
     "prompt_number": 15
    },
    {
     "cell_type": "code",
     "collapsed": false,
     "input": [
      "firstPlay = down1.index.values\n",
      "firstPlay = np.array(firstPlay)\n",
      "lastPlay = firstPlay - 1\n",
      "lastPlay1 = lastPlay[1:len(lastPlay)]\n",
      "lastPlay2 = np.append(lastPlay1, (len(pbp_data)-1))\n",
      "lastPlays = pbp_data.ix[lastPlay2]\n",
      "#len(down1) ==len(lastPlays)"
     ],
     "language": "python",
     "metadata": {},
     "outputs": [],
     "prompt_number": 16
    },
    {
     "cell_type": "code",
     "collapsed": false,
     "input": [
      "lastPlays.rename(columns=lambda x: 'last_' + x, inplace=True)\n",
      "down1['mergeVals'] = np.arange(len(firstPlay))\n",
      "lastPlays['mergeVals'] = np.arange(len(firstPlay))\n",
      "driveByDrive = down1.merge(lastPlays, on = 'mergeVals') \n",
      "#driveByDrive.ix[:,[0,8,81,9,82,10,83,11,84]].head()"
     ],
     "language": "python",
     "metadata": {},
     "outputs": [],
     "prompt_number": 17
    },
    {
     "cell_type": "code",
     "collapsed": false,
     "input": [
      "driveByDrive['pointsScored'] = driveByDrive['last_offscore'] - driveByDrive['offscore']\n",
      "pureKickoffs = driveByDrive.description.str.contains('kicks') & driveByDrive.last_description.str.contains('kicks') #& driveByDrive['last_min'].isin([60]) & driveByDrive['last_sec'].isin([0])\n",
      "driveByDrive = driveByDrive.ix[pureKickoffs == False]\n",
      "regPointVals = driveByDrive.pointsScored.isin((0,2,3,5,6,7,8,9,10))\n",
      "driveByDrive = driveByDrive.ix[regPointVals == True]\n",
      "#driveByDrive.ix[0:10,[0,8,81,9,82,10,83,11,84,109]]"
     ],
     "language": "python",
     "metadata": {},
     "outputs": [],
     "prompt_number": 18
    },
    {
     "cell_type": "heading",
     "level": 4,
     "metadata": {},
     "source": [
      "yard is a vector containing all 100 yards on the field. This vector will be useful in determining probabilies of conversion and expected number of points from different yard lines."
     ]
    },
    {
     "cell_type": "code",
     "collapsed": false,
     "input": [
      "yard = range(0,100)"
     ],
     "language": "python",
     "metadata": {},
     "outputs": [],
     "prompt_number": 19
    },
    {
     "cell_type": "code",
     "collapsed": false,
     "input": [
      "#knn = neighbors.KNeighborsRegressor(50, weights = 'distance')\n",
      "#data = driveByDrive[['ydline', 'offrank', 'defrank', 'pointsScored']]\n",
      "#data = data.dropna(axis = 0, how = \"any\")\n",
      "#X = data[['ydline', 'offrank', 'defrank']]\n",
      "#y = data[['pointsScored']]"
     ],
     "language": "python",
     "metadata": {},
     "outputs": [],
     "prompt_number": 20
    },
    {
     "cell_type": "code",
     "collapsed": false,
     "input": [
      "#knn.fit(X,y).predict([50, 32, 1])"
     ],
     "language": "python",
     "metadata": {},
     "outputs": [],
     "prompt_number": 21
    },
    {
     "cell_type": "code",
     "collapsed": false,
     "input": [
      "#points_exp = np.ndarray(shape = (32, 32, 100))\n",
      "#for i in range(len(teams)):\n",
      "#    for j in range(len(teams)):\n",
      "#       points_exp[i][j] =  [knn.fit(X,y).predict([x, i+1 ,j+1]) for x in yard]"
     ],
     "language": "python",
     "metadata": {},
     "outputs": [],
     "prompt_number": 22
    },
    {
     "cell_type": "code",
     "collapsed": false,
     "input": [
      "#points_exp[3]"
     ],
     "language": "python",
     "metadata": {},
     "outputs": [],
     "prompt_number": 23
    },
    {
     "cell_type": "code",
     "collapsed": false,
     "input": [
      "secondDrive = (driveByDrive.shift(1)).shift(-1)\n",
      "firstDrive = driveByDrive.shift(1)\n",
      "secondDrive.rename(columns=lambda x: 'second' + x, inplace=True)\n",
      "twoDriveByTwoDrive = firstDrive.join(secondDrive, how = 'outer')\n",
      "#twoDriveByTwoDrive.ix[:,[0,1,2,3,4,110,111,112,113,114]].head()"
     ],
     "language": "python",
     "metadata": {},
     "outputs": [],
     "prompt_number": 24
    },
    {
     "cell_type": "code",
     "collapsed": false,
     "input": [
      "twoDriveByTwoDrive['point_differential'] = twoDriveByTwoDrive['secondlast_offscore'] - twoDriveByTwoDrive['defscore'] - (twoDriveByTwoDrive['secondlast_defscore'] - twoDriveByTwoDrive['offscore'])\n",
      "twoDriveByTwoDrive = twoDriveByTwoDrive[twoDriveByTwoDrive.point_differential.isin((-10,-9,-8,-7,-6,-5,-4,-3,-2,-1,0,1,2,3,4,5,6,7,8,9,10)) == True]\n",
      "twoDriveByTwoDrive = twoDriveByTwoDrive[(twoDriveByTwoDrive.qtr.isin([2]) & twoDriveByTwoDrive.secondqtr.isin([3])) == False]\n",
      "sameGame = twoDriveByTwoDrive['gameid'] == twoDriveByTwoDrive['secondgameid']\n",
      "twoDriveByTwoDrive = twoDriveByTwoDrive[sameGame == True] \n",
      "#twoDriveByTwoDrive.ix[61:100,['gameid','point_differential','ydline','offrank','defrank','secondoffrank','seconddefrank']]"
     ],
     "language": "python",
     "metadata": {},
     "outputs": [],
     "prompt_number": 25
    },
    {
     "cell_type": "heading",
     "level": 4,
     "metadata": {},
     "source": [
      "Expected number of points given you turn the ball over at a particular yardline."
     ]
    },
    {
     "cell_type": "code",
     "collapsed": false,
     "input": [
      "knn = neighbors.KNeighborsRegressor(50, weights = 'distance')\n",
      "data = twoDriveByTwoDrive[['ydline', 'offrank', 'defrank','secondoffrank', 'seconddefrank', 'point_differential']]\n",
      "data = data.dropna(axis = 0, how = \"any\")\n",
      "data.columns = ['otherTeamsYardsUntilEndzone', 'otherTeamsOffRank', 'defRank', 'offRank', 'otherTeamsDefRank', 'point_differential']\n",
      "X = data[['otherTeamsYardsUntilEndzone', 'offRank', 'defRank', 'otherTeamsOffRank', 'otherTeamsDefRank']]\n",
      "y = data[['point_differential']]\n",
      "knn.fit(X,y).predict([20, 10, 16, 2, 2])"
     ],
     "language": "python",
     "metadata": {},
     "outputs": [
      {
       "metadata": {},
       "output_type": "pyout",
       "prompt_number": 26,
       "text": [
        "array([[-3.41447609]])"
       ]
      }
     ],
     "prompt_number": 26
    },
    {
     "cell_type": "code",
     "collapsed": false,
     "input": [
      "puntDecision = twoDriveByTwoDrive.last_description.str.contains('punt' or 'PUNT' or 'Punt')\n",
      "twoDriveByTwoDrive['puntDecision'] = puntDecision.shift(1)\n",
      "twoDriveByTwoDrive['puntYardLine'] = twoDriveByTwoDrive['last_ydline'].shift(1)\n",
      "twoDriveByTwoDrivePunt = twoDriveByTwoDrive[twoDriveByTwoDrive['puntDecision'] == True]\n",
      "#twoDriveByTwoDrivePunt.ix[0:100,['puntDecision','puntYardLine','secondlast_description', 'point_differential']]"
     ],
     "language": "python",
     "metadata": {},
     "outputs": [],
     "prompt_number": 32
    },
    {
     "cell_type": "heading",
     "level": 4,
     "metadata": {},
     "source": [
      "Expected points given you punt at a particular yardline."
     ]
    },
    {
     "cell_type": "code",
     "collapsed": false,
     "input": [
      "knn = neighbors.KNeighborsRegressor(50, weights = 'distance')\n",
      "data = twoDriveByTwoDrivePunt[['puntYardLine', 'offrank', 'defrank','secondoffrank', 'seconddefrank', 'point_differential']]\n",
      "data = data.dropna(axis = 0, how = \"any\")\n",
      "data.columns = ['puntYardLine', 'otherTeamsOffRank', 'defRank', 'offRank', 'otherTeamsDefRank', 'point_differential']\n",
      "X = data[['puntYardLine', 'offRank', 'defRank', 'otherTeamsOffRank', 'otherTeamsDefRank']]\n",
      "y = data[['point_differential']]\n",
      "data.head()\n",
      "knn.fit(X,y).predict([50, 1, 1, 2, 2])"
     ],
     "language": "python",
     "metadata": {},
     "outputs": [
      {
       "metadata": {},
       "output_type": "pyout",
       "prompt_number": 33,
       "text": [
        "array([[-0.46869651]])"
       ]
      }
     ],
     "prompt_number": 33
    },
    {
     "cell_type": "heading",
     "level": 4,
     "metadata": {},
     "source": [
      "Expected points given you turnover at a particular yardline."
     ]
    },
    {
     "cell_type": "code",
     "collapsed": false,
     "input": [
      "twoDriveByTwoDrive['pointsOff'] = twoDriveByTwoDrive['secondlast_defscore'] - twoDriveByTwoDrive['offscore']\n",
      "twoDriveByTwoDrive.ix[twoDriveByTwoDrive.pointsOff == 2, 'pointsOff'] = 0\n",
      "twoDriveByTwoDrive.ix[twoDriveByTwoDrive.pointsOff == 5, 'pointsOff'] = 3\n",
      "twoDriveByTwoDrive.ix[twoDriveByTwoDrive.pointsOff == 9, 'pointsOff'] = 7\n",
      "twoDriveByTwoDrive.ix[twoDriveByTwoDrive.pointsOff == 10, 'pointsOff'] = 8\n",
      "twoDriveByTwoDrivePoints = twoDriveByTwoDrive[twoDriveByTwoDrive.pointsOff.isin((0,3,6,7,8)) == True]\n",
      "knn = neighbors.KNeighborsRegressor(30, weights = 'uniform')\n",
      "data = twoDriveByTwoDrivePoints[['ydline', 'offrank', 'defrank', 'pointsOff']]\n",
      "data = data.dropna(axis = 0, how = \"any\")\n",
      "X = data[['ydline', 'offrank', 'defrank']]\n",
      "y = data[['pointsOff']]\n",
      "knn.fit(X,y).predict([80, 1, 20])"
     ],
     "language": "python",
     "metadata": {},
     "outputs": [
      {
       "metadata": {},
       "output_type": "pyout",
       "prompt_number": 34,
       "text": [
        "array([[ 2.83333333]])"
       ]
      }
     ],
     "prompt_number": 34
    },
    {
     "cell_type": "heading",
     "level": 4,
     "metadata": {},
     "source": [
      "The following code is used to pull out fourth down plays from the data. This is important since we'll use plays from these downs to find the expected number of points given field goal attempt, punt attempt, or go for it attempt."
     ]
    },
    {
     "cell_type": "code",
     "collapsed": false,
     "input": [
      "df = pbp_data\n",
      "fourthDown = df[df['down'] == 4]\n",
      "fourthPlayNumbers = fourthDown.index\n",
      "fourthPlayNumbers2 = fourthPlayNumbers[1:len(fourthPlayNumbers)]\n",
      "fourthPlayNumbers2 = np.append(fourthPlayNumbers2, 0)\n",
      "nonPenaltyFourthDown = fourthPlayNumbers[fourthPlayNumbers2 - fourthPlayNumbers != 1]\n",
      "fourthDownPlays = df.ix[nonPenaltyFourthDown, :]"
     ],
     "language": "python",
     "metadata": {},
     "outputs": [],
     "prompt_number": 35
    },
    {
     "cell_type": "heading",
     "level": 4,
     "metadata": {},
     "source": [
      "Pulling out field goal attempt data and running a logistic regression to determine the likelihood of converting depending on the yardline the field goal is attempted from."
     ]
    },
    {
     "cell_type": "code",
     "collapsed": false,
     "input": [
      "fourth = fourthDownPlays\n",
      "cond = fourth['description'].str.contains('field goal' or 'Field Goal' or 'field Goal' or 'Field goal' or 'FIELD GOAL')\n",
      "field_goal_data = fourth[cond == True]\n",
      "field_goal_data['converted'] = field_goal_data['description'].str.contains('GOOD')\n",
      "field_goal_data['distance'] = field_goal_data['ydline'] + 18\n",
      "field_goal = field_goal_data[['ydline', 'distance', 'description', 'converted']]  \n",
      "field_goal['intercept'] = [1]*len(field_goal)\n",
      "field_goal_logit = sm.Logit(field_goal[['converted']], field_goal[['intercept','ydline']])\n",
      "field_goal_result = field_goal_logit.fit()\n",
      "field_goal_result.summary()"
     ],
     "language": "python",
     "metadata": {},
     "outputs": [
      {
       "output_type": "stream",
       "stream": "stdout",
       "text": [
        "Optimization terminated successfully.\n",
        "         Current function value: 0.410096\n",
        "         Iterations 7\n"
       ]
      },
      {
       "html": [
        "<table class=\"simpletable\">\n",
        "<caption>Logit Regression Results</caption>\n",
        "<tr>\n",
        "  <th>Dep. Variable:</th>     <td>converted</td>    <th>  No. Observations:  </th>   <td>  9650</td>  \n",
        "</tr>\n",
        "<tr>\n",
        "  <th>Model:</th>               <td>Logit</td>      <th>  Df Residuals:      </th>   <td>  9648</td>  \n",
        "</tr>\n",
        "<tr>\n",
        "  <th>Method:</th>               <td>MLE</td>       <th>  Df Model:          </th>   <td>     1</td>  \n",
        "</tr>\n",
        "<tr>\n",
        "  <th>Date:</th>          <td>Thu, 13 Mar 2014</td> <th>  Pseudo R-squ.:     </th>   <td>0.1206</td>  \n",
        "</tr>\n",
        "<tr>\n",
        "  <th>Time:</th>              <td>02:30:02</td>     <th>  Log-Likelihood:    </th>  <td> -3957.4</td> \n",
        "</tr>\n",
        "<tr>\n",
        "  <th>converged:</th>           <td>True</td>       <th>  LL-Null:           </th>  <td> -4500.1</td> \n",
        "</tr>\n",
        "<tr>\n",
        "  <th> </th>                      <td> </td>        <th>  LLR p-value:       </th> <td>5.246e-238</td>\n",
        "</tr>\n",
        "</table>\n",
        "<table class=\"simpletable\">\n",
        "<tr>\n",
        "      <td></td>         <th>coef</th>     <th>std err</th>      <th>z</th>      <th>P>|z|</th> <th>[95.0% Conf. Int.]</th> \n",
        "</tr>\n",
        "<tr>\n",
        "  <th>intercept</th> <td>    3.6030</td> <td>    0.083</td> <td>   43.532</td> <td> 0.000</td> <td>    3.441     3.765</td>\n",
        "</tr>\n",
        "<tr>\n",
        "  <th>ydline</th>    <td>   -0.0981</td> <td>    0.003</td> <td>  -29.699</td> <td> 0.000</td> <td>   -0.105    -0.092</td>\n",
        "</tr>\n",
        "</table>"
       ],
       "metadata": {},
       "output_type": "pyout",
       "prompt_number": 36,
       "text": [
        "<class 'statsmodels.iolib.summary.Summary'>\n",
        "\"\"\"\n",
        "                           Logit Regression Results                           \n",
        "==============================================================================\n",
        "Dep. Variable:              converted   No. Observations:                 9650\n",
        "Model:                          Logit   Df Residuals:                     9648\n",
        "Method:                           MLE   Df Model:                            1\n",
        "Date:                Thu, 13 Mar 2014   Pseudo R-squ.:                  0.1206\n",
        "Time:                        02:30:02   Log-Likelihood:                -3957.4\n",
        "converged:                       True   LL-Null:                       -4500.1\n",
        "                                        LLR p-value:                5.246e-238\n",
        "==============================================================================\n",
        "                 coef    std err          z      P>|z|      [95.0% Conf. Int.]\n",
        "------------------------------------------------------------------------------\n",
        "intercept      3.6030      0.083     43.532      0.000         3.441     3.765\n",
        "ydline        -0.0981      0.003    -29.699      0.000        -0.105    -0.092\n",
        "==============================================================================\n",
        "\"\"\""
       ]
      }
     ],
     "prompt_number": 36
    },
    {
     "cell_type": "heading",
     "level": 4,
     "metadata": {},
     "source": [
      "The following gives the probabilities of conversion of field goal attempts from a specified yardline."
     ]
    },
    {
     "cell_type": "code",
     "collapsed": false,
     "input": [
      "fg_prob = [field_goal_result.predict([1,x], True) for x in yard]\n",
      "fg_exp = [x*3 for x in fg_prob]"
     ],
     "language": "python",
     "metadata": {},
     "outputs": [],
     "prompt_number": 37
    },
    {
     "cell_type": "code",
     "collapsed": false,
     "input": [
      "fg_prob[50]"
     ],
     "language": "python",
     "metadata": {},
     "outputs": [
      {
       "metadata": {},
       "output_type": "pyout",
       "prompt_number": 38,
       "text": [
        "0.21375706664902069"
       ]
      }
     ],
     "prompt_number": 38
    },
    {
     "cell_type": "code",
     "collapsed": false,
     "input": [
      "fg_exp[50]"
     ],
     "language": "python",
     "metadata": {},
     "outputs": [
      {
       "metadata": {},
       "output_type": "pyout",
       "prompt_number": 39,
       "text": [
        "0.64127119994706205"
       ]
      }
     ],
     "prompt_number": 39
    },
    {
     "cell_type": "heading",
     "level": 4,
     "metadata": {},
     "source": [
      "We should bucket defensive and offensive buckets because defensive rank should make an impact on conversion rate. Maybe, really weak defenses are not test on fourth down very often."
     ]
    },
    {
     "cell_type": "heading",
     "level": 4,
     "metadata": {},
     "source": [
      "The following pulls out the rankings of teams and yards to go to convert on the fourth down. We also perform a logistic regression to determine the likelihood of converting given the rankings and yards to go."
     ]
    },
    {
     "cell_type": "code",
     "collapsed": false,
     "input": [
      "cond2 = fourth['description'].str.contains('punt' or 'PUNT' or 'Punt')\n",
      "punt_data = fourth[cond2 == True]\n",
      "punt_data['ydlineotherteam'] = 100 - (punt_data['ydline']-39)\n",
      "punt_data_final = punt_data[['description', 'ydline', 'ydlineotherteam']]\n",
      "go = fourth[cond == False]\n",
      "cond2 = go['description'].str.contains('punt' or 'PUNT' or 'Punt')\n",
      "go_for_it = go[cond2 == False]\n",
      "pbp = pbp_data\n",
      "play_after_going_for_it = pbp.ix[np.array(go_for_it.index) + 1, :]\n",
      "play_after_gfi_important_vars = play_after_going_for_it[['ydline','offrank', 'defrank', 'offrank1t5', 'offrank6t10', 'offrank11t15', 'offrank16t20', 'offrank21t25']]\n",
      "play_after_gfi_important_vars.rename(columns=lambda x: 'next_' + x, inplace=True)\n",
      "play_after_gfi_important_vars.index = go_for_it.index\n",
      "go_for_it_2 = go_for_it.join(play_after_gfi_important_vars)\n",
      "go_for_it_2['converted'] = go_for_it_2['offrank'] == go_for_it_2['next_offrank']\n",
      "go_for_it_final = go_for_it_2[['offrank', 'defrank', 'togo0t1', 'togo2t3', 'togo4t5', 'togo6t7', 'togo8t10', 'togo11t13', 'togo14t16', 'togo17t20', 'offrank1t5', 'offrank6t10', 'offrank11t15', 'offrank16t20', 'offrank21t25', 'defrank1t5', 'defrank6t10', 'defrank11t15', 'defrank16t20', 'defrank21t25', 'converted']]\n",
      "go_for_it_final['intercept'] = [1]*len(go_for_it_final)\n",
      "go_for_it_logit = sm.Logit(go_for_it_final[['converted']], go_for_it_final[['intercept','togo0t1', 'togo2t3', 'togo4t5', 'togo6t7', 'togo8t10', 'togo11t13', 'togo14t16', 'togo17t20', 'offrank1t5', 'offrank6t10', 'offrank11t15', 'offrank16t20', 'offrank21t25', 'defrank1t5', 'defrank6t10', 'defrank11t15', 'defrank16t20', 'defrank21t25']])\n",
      "go_for_it_result = go_for_it_logit.fit()\n",
      "go_for_it_result.summary()"
     ],
     "language": "python",
     "metadata": {},
     "outputs": [
      {
       "output_type": "stream",
       "stream": "stdout",
       "text": [
        "Optimization terminated successfully.\n",
        "         Current function value: 0.647567\n",
        "         Iterations 6\n"
       ]
      },
      {
       "output_type": "stream",
       "stream": "stderr",
       "text": [
        "//anaconda/lib/python2.7/site-packages/pandas/core/frame.py:2175: SettingWithCopyWarning: A value is trying to be set on a copy of a slice from a DataFrame\n",
        "  **kwargs)\n"
       ]
      },
      {
       "html": [
        "<table class=\"simpletable\">\n",
        "<caption>Logit Regression Results</caption>\n",
        "<tr>\n",
        "  <th>Dep. Variable:</th>     <td>converted</td>    <th>  No. Observations:  </th>  <td>  5497</td>  \n",
        "</tr>\n",
        "<tr>\n",
        "  <th>Model:</th>               <td>Logit</td>      <th>  Df Residuals:      </th>  <td>  5478</td>  \n",
        "</tr>\n",
        "<tr>\n",
        "  <th>Method:</th>               <td>MLE</td>       <th>  Df Model:          </th>  <td>    18</td>  \n",
        "</tr>\n",
        "<tr>\n",
        "  <th>Date:</th>          <td>Thu, 13 Mar 2014</td> <th>  Pseudo R-squ.:     </th>  <td>0.06491</td> \n",
        "</tr>\n",
        "<tr>\n",
        "  <th>Time:</th>              <td>02:30:03</td>     <th>  Log-Likelihood:    </th> <td> -3559.7</td> \n",
        "</tr>\n",
        "<tr>\n",
        "  <th>converged:</th>           <td>True</td>       <th>  LL-Null:           </th> <td> -3806.8</td> \n",
        "</tr>\n",
        "<tr>\n",
        "  <th> </th>                      <td> </td>        <th>  LLR p-value:       </th> <td>1.732e-93</td>\n",
        "</tr>\n",
        "</table>\n",
        "<table class=\"simpletable\">\n",
        "<tr>\n",
        "        <td></td>          <th>coef</th>     <th>std err</th>      <th>z</th>      <th>P>|z|</th> <th>[95.0% Conf. Int.]</th> \n",
        "</tr>\n",
        "<tr>\n",
        "  <th>intercept</th>    <td>   -1.4685</td> <td>    0.339</td> <td>   -4.332</td> <td> 0.000</td> <td>   -2.133    -0.804</td>\n",
        "</tr>\n",
        "<tr>\n",
        "  <th>togo0t1</th>      <td>    2.3090</td> <td>    0.333</td> <td>    6.927</td> <td> 0.000</td> <td>    1.656     2.962</td>\n",
        "</tr>\n",
        "<tr>\n",
        "  <th>togo2t3</th>      <td>    1.6963</td> <td>    0.336</td> <td>    5.053</td> <td> 0.000</td> <td>    1.038     2.354</td>\n",
        "</tr>\n",
        "<tr>\n",
        "  <th>togo4t5</th>      <td>    1.3731</td> <td>    0.339</td> <td>    4.056</td> <td> 0.000</td> <td>    0.710     2.037</td>\n",
        "</tr>\n",
        "<tr>\n",
        "  <th>togo6t7</th>      <td>    1.2440</td> <td>    0.344</td> <td>    3.621</td> <td> 0.000</td> <td>    0.571     1.917</td>\n",
        "</tr>\n",
        "<tr>\n",
        "  <th>togo8t10</th>     <td>    1.1972</td> <td>    0.340</td> <td>    3.522</td> <td> 0.000</td> <td>    0.531     1.863</td>\n",
        "</tr>\n",
        "<tr>\n",
        "  <th>togo11t13</th>    <td>    0.7672</td> <td>    0.361</td> <td>    2.125</td> <td> 0.034</td> <td>    0.060     1.475</td>\n",
        "</tr>\n",
        "<tr>\n",
        "  <th>togo14t16</th>    <td>    0.5819</td> <td>    0.375</td> <td>    1.551</td> <td> 0.121</td> <td>   -0.153     1.317</td>\n",
        "</tr>\n",
        "<tr>\n",
        "  <th>togo17t20</th>    <td>    0.3028</td> <td>    0.402</td> <td>    0.753</td> <td> 0.452</td> <td>   -0.486     1.091</td>\n",
        "</tr>\n",
        "<tr>\n",
        "  <th>offrank1t5</th>   <td>    0.2992</td> <td>    0.097</td> <td>    3.070</td> <td> 0.002</td> <td>    0.108     0.490</td>\n",
        "</tr>\n",
        "<tr>\n",
        "  <th>offrank6t10</th>  <td>    0.1250</td> <td>    0.092</td> <td>    1.364</td> <td> 0.172</td> <td>   -0.055     0.305</td>\n",
        "</tr>\n",
        "<tr>\n",
        "  <th>offrank11t15</th> <td>    0.2268</td> <td>    0.093</td> <td>    2.439</td> <td> 0.015</td> <td>    0.045     0.409</td>\n",
        "</tr>\n",
        "<tr>\n",
        "  <th>offrank16t20</th> <td>    0.0938</td> <td>    0.090</td> <td>    1.041</td> <td> 0.298</td> <td>   -0.083     0.270</td>\n",
        "</tr>\n",
        "<tr>\n",
        "  <th>offrank21t25</th> <td>    0.0037</td> <td>    0.090</td> <td>    0.041</td> <td> 0.968</td> <td>   -0.173     0.180</td>\n",
        "</tr>\n",
        "<tr>\n",
        "  <th>defrank1t5</th>   <td>   -0.3765</td> <td>    0.096</td> <td>   -3.926</td> <td> 0.000</td> <td>   -0.565    -0.189</td>\n",
        "</tr>\n",
        "<tr>\n",
        "  <th>defrank6t10</th>  <td>   -0.3776</td> <td>    0.095</td> <td>   -3.989</td> <td> 0.000</td> <td>   -0.563    -0.192</td>\n",
        "</tr>\n",
        "<tr>\n",
        "  <th>defrank11t15</th> <td>   -0.2938</td> <td>    0.094</td> <td>   -3.128</td> <td> 0.002</td> <td>   -0.478    -0.110</td>\n",
        "</tr>\n",
        "<tr>\n",
        "  <th>defrank16t20</th> <td>   -0.2368</td> <td>    0.098</td> <td>   -2.414</td> <td> 0.016</td> <td>   -0.429    -0.045</td>\n",
        "</tr>\n",
        "<tr>\n",
        "  <th>defrank21t25</th> <td>   -0.1255</td> <td>    0.100</td> <td>   -1.261</td> <td> 0.207</td> <td>   -0.321     0.070</td>\n",
        "</tr>\n",
        "</table>"
       ],
       "metadata": {},
       "output_type": "pyout",
       "prompt_number": 40,
       "text": [
        "<class 'statsmodels.iolib.summary.Summary'>\n",
        "\"\"\"\n",
        "                           Logit Regression Results                           \n",
        "==============================================================================\n",
        "Dep. Variable:              converted   No. Observations:                 5497\n",
        "Model:                          Logit   Df Residuals:                     5478\n",
        "Method:                           MLE   Df Model:                           18\n",
        "Date:                Thu, 13 Mar 2014   Pseudo R-squ.:                 0.06491\n",
        "Time:                        02:30:03   Log-Likelihood:                -3559.7\n",
        "converged:                       True   LL-Null:                       -3806.8\n",
        "                                        LLR p-value:                 1.732e-93\n",
        "================================================================================\n",
        "                   coef    std err          z      P>|z|      [95.0% Conf. Int.]\n",
        "--------------------------------------------------------------------------------\n",
        "intercept       -1.4685      0.339     -4.332      0.000        -2.133    -0.804\n",
        "togo0t1          2.3090      0.333      6.927      0.000         1.656     2.962\n",
        "togo2t3          1.6963      0.336      5.053      0.000         1.038     2.354\n",
        "togo4t5          1.3731      0.339      4.056      0.000         0.710     2.037\n",
        "togo6t7          1.2440      0.344      3.621      0.000         0.571     1.917\n",
        "togo8t10         1.1972      0.340      3.522      0.000         0.531     1.863\n",
        "togo11t13        0.7672      0.361      2.125      0.034         0.060     1.475\n",
        "togo14t16        0.5819      0.375      1.551      0.121        -0.153     1.317\n",
        "togo17t20        0.3028      0.402      0.753      0.452        -0.486     1.091\n",
        "offrank1t5       0.2992      0.097      3.070      0.002         0.108     0.490\n",
        "offrank6t10      0.1250      0.092      1.364      0.172        -0.055     0.305\n",
        "offrank11t15     0.2268      0.093      2.439      0.015         0.045     0.409\n",
        "offrank16t20     0.0938      0.090      1.041      0.298        -0.083     0.270\n",
        "offrank21t25     0.0037      0.090      0.041      0.968        -0.173     0.180\n",
        "defrank1t5      -0.3765      0.096     -3.926      0.000        -0.565    -0.189\n",
        "defrank6t10     -0.3776      0.095     -3.989      0.000        -0.563    -0.192\n",
        "defrank11t15    -0.2938      0.094     -3.128      0.002        -0.478    -0.110\n",
        "defrank16t20    -0.2368      0.098     -2.414      0.016        -0.429    -0.045\n",
        "defrank21t25    -0.1255      0.100     -1.261      0.207        -0.321     0.070\n",
        "================================================================================\n",
        "\"\"\""
       ]
      }
     ],
     "prompt_number": 40
    },
    {
     "cell_type": "code",
     "collapsed": false,
     "input": [
      "go_for_it_result.predict([1, 1, 0, 0, 0, 0, 0, 0, 0, 1, 0, 0, 0, 0, 1, 0, 0, 0, 0], True)"
     ],
     "language": "python",
     "metadata": {},
     "outputs": [
      {
       "metadata": {},
       "output_type": "pyout",
       "prompt_number": 41,
       "text": [
        "0.68204152140541929"
       ]
      }
     ],
     "prompt_number": 41
    },
    {
     "cell_type": "code",
     "collapsed": false,
     "input": [
      "convert_prob = np.ndarray(shape = (9, 6, 6))\n",
      "convert_prob[:][:][:] = 0"
     ],
     "language": "python",
     "metadata": {},
     "outputs": [],
     "prompt_number": 42
    },
    {
     "cell_type": "code",
     "collapsed": false,
     "input": [
      "convert_vec = [1, 0, 0, 0, 0, 0, 0, 0, 0, 0, 0, 0, 0, 0, 0, 0, 0, 0, 0]\n",
      "for i in range(8):\n",
      "    for j in range(5):\n",
      "        for k in range(5):\n",
      "            convert_vec[18] = 0\n",
      "            convert_vec[k + 14] = 1\n",
      "            convert_vec[k + 13] = 0\n",
      "            convert_vec[j + 9] = 1\n",
      "            convert_vec[j + 8] = 0\n",
      "            convert_vec[i + 1] = 1\n",
      "            convert_vec[i] = 0\n",
      "            convert_vec[0] = 1\n",
      "            convert_prob[i][j][k] = go_for_it_result.predict(convert_vec, True)\n",
      "            \n",
      "convert_vec = [1, 0, 0, 0, 0, 0, 0, 0, 0, 0, 0, 0, 0, 0, 0, 0, 0, 0, 0]           \n",
      "for i in range(8):\n",
      "    for j in range(5):\n",
      "        convert_vec[13] = 0\n",
      "        convert_vec[j + 9] = 1\n",
      "        convert_vec[j + 8] = 0\n",
      "        convert_vec[i + 1] = 1\n",
      "        convert_vec[i] = 0\n",
      "        convert_vec[0] = 1\n",
      "        convert_prob[i][j][5] = go_for_it_result.predict(convert_vec, True)\n",
      "\n",
      "convert_vec = [1, 0, 0, 0, 0, 0, 0, 0, 0, 0, 0, 0, 0, 0, 0, 0, 0, 0, 0]           \n",
      "for i in range(8):\n",
      "    for k in range(5):\n",
      "        convert_vec[18] = 0\n",
      "        convert_vec[k + 14] = 1\n",
      "        convert_vec[k + 13] = 0\n",
      "        convert_vec[i + 1] = 1\n",
      "        convert_vec[i] = 0\n",
      "        convert_vec[0] = 1\n",
      "        convert_prob[i][5][k] = go_for_it_result.predict(convert_vec, True)\n",
      "        \n",
      "convert_vec = [1, 0, 0, 0, 0, 0, 0, 0, 0, 0, 0, 0, 0, 0, 0, 0, 0, 0, 0]           \n",
      "for j in range(5):\n",
      "    for k in range(5):\n",
      "        convert_vec[18] = 0\n",
      "        convert_vec[k + 14] = 1\n",
      "        convert_vec[k + 13] = 0\n",
      "        convert_vec[j + 9] = 1\n",
      "        convert_vec[j + 8] = 0\n",
      "        convert_vec[0] = 1\n",
      "        convert_prob[8][j][k] = go_for_it_result.predict(convert_vec, True)\n",
      "        \n",
      "convert_vec = [1, 0, 0, 0, 0, 0, 0, 0, 0, 0, 0, 0, 0, 0, 0, 0, 0, 0, 0]           \n",
      "for i in range(8):\n",
      "    convert_vec[8] = 0\n",
      "    convert_vec[i + 1] = 1\n",
      "    convert_vec[i] = 0\n",
      "    convert_vec[0] = 1\n",
      "    convert_prob[i][5][5] = go_for_it_result.predict(convert_vec, True)\n",
      "    \n",
      "convert_vec = [1, 0, 0, 0, 0, 0, 0, 0, 0, 0, 0, 0, 0, 0, 0, 0, 0, 0, 0]           \n",
      "for k in range(5):\n",
      "    convert_vec[18] = 0\n",
      "    convert_vec[k + 14] = 1\n",
      "    convert_vec[k + 13] = 0\n",
      "    convert_vec[0] = 1\n",
      "    convert_prob[8][5][k] = go_for_it_result.predict(convert_vec, True)\n",
      "    \n",
      "convert_vec = [1, 0, 0, 0, 0, 0, 0, 0, 0, 0, 0, 0, 0, 0, 0, 0, 0, 0, 0]           \n",
      "for j in range(5):\n",
      "    convert_vec[13] = 0\n",
      "    convert_vec[j + 9] = 1\n",
      "    convert_vec[j + 8] = 0\n",
      "    convert_vec[0] = 1\n",
      "    convert_prob[8][j][5] = go_for_it_result.predict(convert_vec, True)\n",
      "    \n",
      "convert_vec = [1, 0, 0, 0, 0, 0, 0, 0, 0, 0, 0, 0, 0, 0, 0, 0, 0, 0, 0] \n",
      "convert_prob[8][5][5] = go_for_it_result.predict(convert_vec, True)"
     ],
     "language": "python",
     "metadata": {},
     "outputs": [],
     "prompt_number": 43
    },
    {
     "cell_type": "code",
     "collapsed": false,
     "input": [
      "#convert_prob"
     ],
     "language": "python",
     "metadata": {},
     "outputs": [],
     "prompt_number": 44
    },
    {
     "cell_type": "code",
     "collapsed": false,
     "input": [
      "convert_togo_5 = np.ndarray(shape = (6, 6))\n",
      "convert_togo_5[:][:] = 0 \n",
      "for i in range(6):\n",
      "    for j in range(6):\n",
      "        convert_togo_5[i][j] = convert_prob[3][i][j]\n",
      "        \n",
      "print convert_togo_5"
     ],
     "language": "python",
     "metadata": {},
     "outputs": [
      {
       "output_type": "stream",
       "stream": "stdout",
       "text": [
        "[[ 0.42511363  0.42485523  0.44543596  0.45955968  0.48729204  0.51866791]\n",
        " [ 0.38320237  0.38295247  0.40292539  0.41671405  0.44398496  0.4751566 ]\n",
        " [ 0.40753111  0.40727582  0.42763815  0.44164696  0.46923691  0.50058529]\n",
        " [ 0.37585735  0.37560932  0.3954447   0.40915279  0.436299    0.46738462]\n",
        " [ 0.35494661  0.35470454  0.37409739  0.38753984  0.41425747  0.44501244]\n",
        " [ 0.35411067  0.35386886  0.37324244  0.38667316  0.41337136  0.44411042]]\n"
       ]
      }
     ],
     "prompt_number": 45
    },
    {
     "cell_type": "heading",
     "level": 4,
     "metadata": {},
     "source": [
      "The following graph has probabilities of converting field goals on the y-axis and the yardline the field goal is attempted from. "
     ]
    },
    {
     "cell_type": "code",
     "collapsed": false,
     "input": [
      "figure()\n",
      "plot(yard, fg_prob, 'r')\n",
      "xlabel('Yard Line')\n",
      "ylabel('Probability of Field Goal')\n",
      "title('Probability of making a Field Goal on the Fourth Down')\n",
      "show()"
     ],
     "language": "python",
     "metadata": {},
     "outputs": [
      {
       "metadata": {},
       "output_type": "display_data",
       "png": "[encoded data removed]",
       "text": [
        "<matplotlib.figure.Figure at 0x122667c10>"
       ]
      }
     ],
     "prompt_number": 46
    },
    {
     "cell_type": "code",
     "collapsed": false,
     "input": [
      "plt.plot(yard, np.array(fg_prob))\n",
      "c1 = sns.color_palette(\"deep\", 2)\n",
      "plt.fill_between(yard, np.array(fg_prob) - .05, np.array(fg_prob) + .05, color=c1, alpha=.2)\n",
      "xlabel('Yards to Go')\n",
      "ylabel('Probability of Field Goal')\n",
      "title('Probability of making a Field Goal on the Fourth Down')\n",
      "#plt.show()\n",
      "savefig('fieldgoalprob.pdf')"
     ],
     "language": "python",
     "metadata": {},
     "outputs": [
      {
       "metadata": {},
       "output_type": "display_data",
       "png": "[encoded data removed]",
       "text": [
        "<matplotlib.figure.Figure at 0x12459ba10>"
       ]
      }
     ],
     "prompt_number": 80
    },
    {
     "cell_type": "code",
     "collapsed": false,
     "input": [
      "figure()\n",
      "x = np.array(range(6))\n",
      "y = np.array(range(6))\n",
      "z = convert_togo_5\n",
      "z = [x*10 for x in z]\n",
      "bar = barchart(z)"
     ],
     "language": "python",
     "metadata": {},
     "outputs": [
      {
       "metadata": {},
       "output_type": "display_data",
       "text": [
        "<matplotlib.figure.Figure at 0x12ba7a210>"
       ]
      }
     ],
     "prompt_number": 62
    },
    {
     "cell_type": "code",
     "collapsed": false,
     "input": [
      "fig = plt.figure(figsize=(12,6))\n",
      "ax = fig.add_subplot(1,2,1, projection='3d')\n",
      "ax.plot_surface(x, y, z, rstride=1, cstride=1, alpha=0.5)\n",
      "#ax.view_init(30, 45)"
     ],
     "language": "python",
     "metadata": {},
     "outputs": [
      {
       "metadata": {},
       "output_type": "pyout",
       "prompt_number": 44,
       "text": [
        "<mpl_toolkits.mplot3d.art3d.Poly3DCollection at 0x11f8b2c90>"
       ]
      },
      {
       "metadata": {},
       "output_type": "display_data",
       "png": "[encoded data removed]",
       "text": [
        "<matplotlib.figure.Figure at 0x11f8c4950>"
       ]
      }
     ],
     "prompt_number": 44
    },
    {
     "cell_type": "code",
     "collapsed": false,
     "input": [
      "import numpy\n",
      "from mayavi.mlab import *\n",
      "\n",
      "def test_barchart():\n",
      "    \"\"\" Demo the bar chart plot with a 2D array.\n",
      "    \"\"\"\n",
      "    s = numpy.abs(numpy.random.random((3, 3)))\n",
      "    return barchart(s)"
     ],
     "language": "python",
     "metadata": {},
     "outputs": [],
     "prompt_number": 50
    },
    {
     "cell_type": "code",
     "collapsed": false,
     "input": [],
     "language": "python",
     "metadata": {},
     "outputs": []
    }
   ],
   "metadata": {}
  }
 ]
}