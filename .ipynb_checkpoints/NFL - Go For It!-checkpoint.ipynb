{
 "metadata": {
  "name": ""
 },
 "nbformat": 3,
 "nbformat_minor": 0,
 "worksheets": [
  {
   "cells": [
    {
     "cell_type": "heading",
     "level": 2,
     "metadata": {},
     "source": [
      "NFL Go For It!"
     ]
    },
    {
     "cell_type": "markdown",
     "metadata": {},
     "source": [
      "In football there are many decisions a team needs to make in order win the game. In this project we focus on the decision that needs to be made on the 4th down of any given play. There are three decisions to be made on the fourth down.<br/>\n",
      "1. Punt the ball<br/>\n",
      "2. Kick a field goal<br/>\n",
      "3. Go for a first down<br/>\n",
      "In this project we try to determine which decision should be made under certain conditions. The following are the conditions which we take into account in determining the decision.<br/>\n",
      "1. Offensive and defensive rank of the offensive team.<br/>\n",
      "2. Offensive and defensive rank of the defensive team.<br/>\n",
      "3. The number of yards to convert for a first down.<br/>\n",
      "4. The field position started from.<br/>\n",
      "With this information from the data we were able to estimate the expected points scored for each of the of three decisions.<br/>\n",
      "Finally, with this information a decision can be made."
     ]
    },
    {
     "cell_type": "code",
     "collapsed": false,
     "input": [
      "import os\n",
      "import csv\n",
      "import math\n",
      "import numpy as np\n",
      "import pandas as pd\n",
      "import statsmodels.formula.api as sm\n",
      "import matplotlib.pyplot as plt\n",
      "from sklearn import neighbors\n",
      "import seaborn as sns\n",
      "from pylab import *\n",
      "from mpl_toolkits.mplot3d.axes3d import Axes3D\n",
      "from matplotlib.backends.backend_pdf import PdfPages\n",
      "from scikits.statsmodels.tools import categorical\n",
      "from matplotlib.lines import Line2D\n",
      "%pylab inline"
     ],
     "language": "python",
     "metadata": {},
     "outputs": [
      {
       "output_type": "stream",
       "stream": "stdout",
       "text": [
        "Populating the interactive namespace from numpy and matplotlib\n"
       ]
      },
      {
       "output_type": "stream",
       "stream": "stderr",
       "text": [
        "WARNING: pylab import has clobbered these variables: ['linalg', 'draw_if_interactive', 'random', 'power', 'info', 'fft']\n",
        "`%pylab --no-import-all` prevents importing * from pylab and numpy\n"
       ]
      }
     ],
     "prompt_number": 1
    },
    {
     "cell_type": "heading",
     "level": 4,
     "metadata": {},
     "source": [
      "Importing NFL play-by-play data from years 2002 to 2012."
     ]
    },
    {
     "cell_type": "code",
     "collapsed": false,
     "input": [
      "os.system('curl -L -o 2002_nfl_pbp_data.csv \"https://docs.google.com/uc?id=0BxEXxf9odCnMNGQzY2YyNmUtMTlhYy00YmQyLTg3ZTUtMGI2NDhjNGU4Zjg5&export=download\"') \n",
      "os.system('curl -L -o 2003_nfl_pbp_data.csv \"https://docs.google.com/uc?id=0BxEXxf9odCnMODljMmIxNzItNzJjNy00ODJiLWJiNDItMDBlZGMwMjkwOTlk&export=download\"')\n",
      "os.system('curl -L -o 2004_nfl_pbp_data.csv \"https://docs.google.com/uc?id=0BxEXxf9odCnMMGUyNjVkMWEtOWE2YS00YzI3LWJjYjEtZWU2MTIyNmJhOTk0&export=download\"')\n",
      "os.system('curl -L -o 2005_nfl_pbp_data.csv \"https://docs.google.com/uc?id=0BxEXxf9odCnMYmIyMTdjNWItMjhiNS00NjJkLWIyYWEtZmI1ZGM4NmFmZGQy&export=download\"')\n",
      "os.system('curl -L -o 2006_nfl_pbp_data.csv \"https://docs.google.com/uc?id=0BxEXxf9odCnMN2YxNGM0MzUtYTc2Mi00YjVjLWI3N2EtMzIwMDA0Y2E5OTg1&export=download\"')\n",
      "os.system('curl -L -o 2007_nfl_pbp_data.csv \"https://docs.google.com/uc?id=0BxEXxf9odCnMYWZkOWU1YTItYTUzNS00MmM4LTk1MTktYmI3Y2E1Zjc3OTIy&export=download\"')\n",
      "os.system('curl -L -o 2008_nfl_pbp_data.csv \"https://docs.google.com/uc?id=0BxEXxf9odCnMZDJmYzIzNWQtNjIyNS00NzQzLWJiMTEtYWI5M2U0MTI4Njlk&export=download\"')\n",
      "os.system('curl -L -o 2009_nfl_pbp_data.csv \"https://docs.google.com/uc?id=0BxEXxf9odCnMMDAyOGRhMjYtMzlkMC00NGQwLTgxMWUtOWNmYWMxY2Q2ODY3&export=download\"')\n",
      "os.system('curl -L -o 2010_nfl_pbp_data.csv \"https://docs.google.com/uc?id=0BxEXxf9odCnMMWRkMDc0MDgtZDZhMi00ZGRlLTlkYjEtOTNkZjViZDI0ZGY2&export=download\"')\n",
      "os.system('curl -L -o 2011_nfl_pbp_data.csv \"https://docs.google.com/uc?id=0BxEXxf9odCnMbmZvYzE3cjBzblE&export=download\"')\n",
      "os.system('curl -L -o 2012_nfl_pbp_data.csv \"https://docs.google.com/uc?id=0BxEXxf9odCnMMC1sR3dtNEtHLW8&export=download\"')"
     ],
     "language": "python",
     "metadata": {},
     "outputs": [
      {
       "metadata": {},
       "output_type": "pyout",
       "prompt_number": 2,
       "text": [
        "0"
       ]
      }
     ],
     "prompt_number": 2
    },
    {
     "cell_type": "heading",
     "level": 4,
     "metadata": {},
     "source": [
      "Joining data sets together to get one long dataset of play-by-play data accross all 11 years."
     ]
    },
    {
     "cell_type": "code",
     "collapsed": false,
     "input": [
      "pd.set_option('display.line_width', 300)\n",
      "pbp_data = pd.read_csv('2002_nfl_pbp_data.csv')\n",
      "teams = list(set(pbp_data.off))[1:]\n",
      "seasons = range(2002,2013)\n",
      "for i in seasons[1:]:\n",
      "    pbp_data = pbp_data.append(pd.read_csv('%d_nfl_pbp_data.csv' % i), ignore_index = True)"
     ],
     "language": "python",
     "metadata": {},
     "outputs": [
      {
       "output_type": "stream",
       "stream": "stderr",
       "text": [
        "//anaconda/lib/python2.7/site-packages/pandas/core/config.py:570: DeprecationWarning: line_width has been deprecated, use display.width instead (currently both are\n",
        "identical)\n",
        "\n",
        "  warnings.warn(d.msg, DeprecationWarning)\n"
       ]
      }
     ],
     "prompt_number": 2
    },
    {
     "cell_type": "heading",
     "level": 4,
     "metadata": {},
     "source": [
      "Taking out post-season games to get a more accurate ranking of teams."
     ]
    },
    {
     "cell_type": "code",
     "collapsed": false,
     "input": [
      "pbp_dataTF = pbp_data['gameid'].map(lambda x: str(x).endswith(('01', '02'), 4, 6)) == False\n",
      "pbp_dataTF[pbp_data['gameid'].map(lambda x: str(x).endswith(('20050102', '20060101', '20100103', '20110102', '20120101'), 0, 8)) == True] = True\n",
      "pbp_dataT = pbp_dataTF[pbp_dataTF == True]\n",
      "pbp_data = pbp_data.loc[pbp_dataT.index]\n",
      "pbp_data = pbp_data.reset_index(range(len(pbp_data)))\n",
      "pbp_data = pbp_data.drop(['index'], 1)"
     ],
     "language": "python",
     "metadata": {},
     "outputs": [],
     "prompt_number": 3
    },
    {
     "cell_type": "heading",
     "level": 4,
     "metadata": {},
     "source": [
      "Shifting dataset down by one row and appending it to the original."
     ]
    },
    {
     "cell_type": "code",
     "collapsed": false,
     "input": [
      "shifted_data1 = (pbp_data.shift(1)).shift(-1)\n",
      "shifted_data2 = pbp_data.shift(1)\n",
      "shifted_data2.rename(columns=lambda x: 'last' + x, inplace=True)\n",
      "shifted_data = shifted_data1.join(shifted_data2, how = 'outer')"
     ],
     "language": "python",
     "metadata": {},
     "outputs": [],
     "prompt_number": 4
    },
    {
     "cell_type": "heading",
     "level": 4,
     "metadata": {},
     "source": [
      "Getting the first and last plays of each game. This will be useful in helping us determine team ranks by how many points scored per game and how many points let go per game."
     ]
    },
    {
     "cell_type": "code",
     "collapsed": false,
     "input": [
      "offTF = shifted_data['off'] == shifted_data['lastoff']\n",
      "defTF = shifted_data['def'] == shifted_data['lastdef']\n",
      "gameIDTF = shifted_data['gameid'] == shifted_data['lastgameid']\n",
      "first_last_play = shifted_data[offTF == False]\n",
      "first_last_play = shifted_data[gameIDTF == False]"
     ],
     "language": "python",
     "metadata": {},
     "outputs": [],
     "prompt_number": 5
    },
    {
     "cell_type": "heading",
     "level": 4,
     "metadata": {},
     "source": [
      "Summing points gained per game per team per season."
     ]
    },
    {
     "cell_type": "code",
     "collapsed": false,
     "input": [
      "rank_off_off_score = pd.DataFrame(first_last_play.groupby(['lastseason', 'lastoff'])['lastoffscore'].sum())\n",
      "rank_off_def_score = pd.DataFrame(first_last_play.groupby(['lastseason', 'lastdef'])['lastdefscore'].sum())\n",
      "rank_def_def_score = pd.DataFrame(first_last_play.groupby(['lastseason', 'lastoff'])['lastdefscore'].sum())\n",
      "rank_def_off_score = pd.DataFrame(first_last_play.groupby(['lastseason', 'lastdef'])['lastoffscore'].sum())\n",
      "team_score_off_rank = rank_off_off_score.join(rank_off_def_score)\n",
      "team_score_off_rank['total'] = team_score_off_rank['lastoffscore'] + team_score_off_rank['lastdefscore']\n",
      "team_score_def_rank = rank_def_def_score.join(rank_def_off_score)\n",
      "team_score_def_rank['total'] = team_score_def_rank['lastoffscore'] + team_score_def_rank['lastdefscore']"
     ],
     "language": "python",
     "metadata": {},
     "outputs": [],
     "prompt_number": 6
    },
    {
     "cell_type": "heading",
     "level": 4,
     "metadata": {},
     "source": [
      "Creating a two matrices of the total points scored and total points let go with the season as the column and the team as the row, and then ranking them to get the offensive and defensive ranks."
     ]
    },
    {
     "cell_type": "code",
     "collapsed": false,
     "input": [
      "off_rank_points = [[0]*len(seasons) for x in range(len(teams))]\n",
      "def_rank_points = [[0]*len(seasons) for x in range(len(teams))]\n",
      "\n",
      "for i in range(len(teams)):\n",
      "    for j in range(len(seasons)):\n",
      "        off_rank_points[i][j] = team_score_off_rank['total'].loc[seasons[j], teams[i]]\n",
      "        def_rank_points[i][j] = team_score_def_rank['total'].loc[seasons[j], teams[i]]\n",
      " \n",
      "off_rank_points, def_rank_points = pd.DataFrame(off_rank_points, index = teams), pd.DataFrame(def_rank_points, index = teams)\n",
      "off_rank_points.rename(columns=lambda x: x + 2002, inplace=True)\n",
      "def_rank_points.rename(columns=lambda x: x + 2002, inplace=True)\n",
      "off_rank = off_rank_points.rank(axis = 0, method = 'max', ascending = False)\n",
      "def_rank = def_rank_points.rank(axis = 0, method = 'max', ascending = True)"
     ],
     "language": "python",
     "metadata": {},
     "outputs": [],
     "prompt_number": 7
    },
    {
     "cell_type": "code",
     "collapsed": false,
     "input": [
      "offrank_pps = pd.DataFrame(index = seasons)\n",
      "for i in range(len(teams)):\n",
      "    offrank_pps[i + 1] = pd.DataFrame(amax(off_rank_points[off_rank == amin(off_rank + i, axis = 0)], axis = 0))\n",
      "\n",
      "defrank_pps = pd.DataFrame(index = seasons)\n",
      "for i in range(len(teams)):\n",
      "    defrank_pps[i + 1] = pd.DataFrame(amax(def_rank_points[def_rank == amin(def_rank + i, axis = 0)], axis = 0))"
     ],
     "language": "python",
     "metadata": {},
     "outputs": [],
     "prompt_number": 8
    },
    {
     "cell_type": "code",
     "collapsed": false,
     "input": [
      "fig, ax = plt.subplots()\n",
      "ax.plot(offrank_pps.index, offrank_pps[1], label = \"Rank 1\")\n",
      "ax.plot(offrank_pps.index, offrank_pps[6], label = \"Rank 6\")\n",
      "ax.plot(offrank_pps.index, offrank_pps[12], label = \"Rank 12\")\n",
      "ax.plot(offrank_pps.index, offrank_pps[16], label = \"Rank 16\")\n",
      "ax.plot(offrank_pps.index, offrank_pps[20], label = \"Rank 20\")\n",
      "ax.plot(offrank_pps.index, offrank_pps[24], label = \"Rank 24\")\n",
      "ax.plot(offrank_pps.index, offrank_pps[30], label = \"Rank 30\")\n",
      "xlabel(\"Season\")\n",
      "ylabel(\"Total Points\")\n",
      "title(\"Total Number of Points Scored per Offensive Rank per Season\")\n",
      "legend = ax.legend(loc=(.02, .7), fontsize = .5, frameon = True, borderpad = 10)\n",
      "for label in legend.get_texts():\n",
      "    label.set_fontsize('small')\n",
      "\n",
      "for label in legend.get_lines():\n",
      "    label.set_linewidth(1.5)  # the legend line width\n",
      "    \n",
      "savefig('OffRankperSeason.pdf')\n",
      "plt.show()"
     ],
     "language": "python",
     "metadata": {},
     "outputs": [
      {
       "metadata": {},
       "output_type": "display_data",
       "png": "[encoded data removed]",
       "text": [
        "<matplotlib.figure.Figure at 0x10f439910>"
       ]
      }
     ],
     "prompt_number": 9
    },
    {
     "cell_type": "code",
     "collapsed": false,
     "input": [
      "fig, ax = plt.subplots()\n",
      "ax.plot(defrank_pps.index, defrank_pps[1], label = \"Rank 1\")\n",
      "ax.plot(defrank_pps.index, defrank_pps[4], label = \"Rank 4\")\n",
      "ax.plot(defrank_pps.index, defrank_pps[11], label = \"Rank 11\")\n",
      "ax.plot(defrank_pps.index, defrank_pps[15], label = \"Rank 15\")\n",
      "ax.plot(defrank_pps.index, defrank_pps[20], label = \"Rank 20\")\n",
      "ax.plot(defrank_pps.index, defrank_pps[25], label = \"Rank 25\")\n",
      "ax.plot(defrank_pps.index, defrank_pps[30], label = \"Rank 30\")\n",
      "xlabel(\"Season\")\n",
      "ylabel(\"Total Points Let Go\")\n",
      "title(\"Total Number of Points Let Go per Rank per Season\")\n",
      "legend = ax.legend(loc=(.8, .02), fontsize = 1, frameon = True, borderpad = 10)\n",
      "for label in legend.get_texts():\n",
      "    label.set_fontsize('small')\n",
      "\n",
      "for label in legend.get_lines():\n",
      "    label.set_linewidth(1.5)  # the legend line width\n",
      "    \n",
      "savefig('DefRankperSeason.pdf')\n",
      "plt.show()"
     ],
     "language": "python",
     "metadata": {},
     "outputs": [
      {
       "metadata": {},
       "output_type": "display_data",
       "png": "[encoded data removed]",
       "text": [
        "<matplotlib.figure.Figure at 0x10cd596d0>"
       ]
      }
     ],
     "prompt_number": 10
    },
    {
     "cell_type": "code",
     "collapsed": false,
     "input": [
      "off_rank = pd.DataFrame(off_rank.stack())\n",
      "def_rank = pd.DataFrame(def_rank.stack())\n",
      "off_rank.columns = ['offrank']\n",
      "def_rank.columns = ['defrank']\n",
      "pbp_data = pbp_data.join(off_rank, on = ['off', 'season'], how = 'left')\n",
      "pbp_data = pbp_data.join(def_rank, on = ['def', 'season'], how = 'left')"
     ],
     "language": "python",
     "metadata": {},
     "outputs": [],
     "prompt_number": 11
    },
    {
     "cell_type": "heading",
     "level": 4,
     "metadata": {},
     "source": [
      "Binning the rankings into buckets of size mostly 5, with the last of size 7."
     ]
    },
    {
     "cell_type": "code",
     "collapsed": false,
     "input": [
      "pbp_data['offrankbucket'] = 'NA'\n",
      "pbp_data['defrankbucket'] = 'NA'\n",
      "pbp_data['offrank1t5'] = 0\n",
      "pbp_data['offrank6t10'] = 0\n",
      "pbp_data['offrank11t15'] = 0\n",
      "pbp_data['offrank16t20'] = 0\n",
      "pbp_data['offrank21t25'] = 0\n",
      "pbp_data['offrank26t32'] = 0\n",
      "pbp_data['defrank1t5'] = 0\n",
      "pbp_data['defrank6t10'] = 0\n",
      "pbp_data['defrank11t15'] = 0\n",
      "pbp_data['defrank16t20'] = 0\n",
      "pbp_data['defrank21t25'] = 0\n",
      "pbp_data['defrank26t32'] = 0\n",
      "pbp_data.offrankbucket[pbp_data.offrank >= 1], pbp_data.defrankbucket[pbp_data.defrank >= 1] = '(1-5)', '(1-5)'\n",
      "pbp_data.offrankbucket[pbp_data.offrank >= 6], pbp_data.defrankbucket[pbp_data.defrank >= 6] = '(6-10)', '(6-10)'\n",
      "pbp_data.offrankbucket[pbp_data.offrank >= 11], pbp_data.defrankbucket[pbp_data.defrank >= 11] = '(11-15)', '(11-15)'\n",
      "pbp_data.offrankbucket[pbp_data.offrank >= 16], pbp_data.defrankbucket[pbp_data.defrank >= 16] = '(16-20)', '(16-20)'\n",
      "pbp_data.offrankbucket[pbp_data.offrank >= 21], pbp_data.defrankbucket[pbp_data.defrank >= 21] = '(21-25)', '(21-25)'\n",
      "pbp_data.offrankbucket[pbp_data.offrank >= 26], pbp_data.defrankbucket[pbp_data.defrank >= 26] = '(26-32)', '(26-32)'\n",
      "pbp_data.offrank1t5[pbp_data.offrankbucket == '(1-5)'], pbp_data.defrank1t5[pbp_data.defrankbucket == '(1-5)'] = 1, 1\n",
      "pbp_data.offrank6t10[pbp_data.offrankbucket == '(6-10)'], pbp_data.defrank6t10[pbp_data.defrankbucket == '(6-10)'] = 1, 1\n",
      "pbp_data.offrank11t15[pbp_data.offrankbucket == '(11-15)'], pbp_data.defrank11t15[pbp_data.defrankbucket == '(11-15)'] = 1, 1\n",
      "pbp_data.offrank16t20[pbp_data.offrankbucket == '(16-20)'], pbp_data.defrank16t20[pbp_data.defrankbucket == '(16-20)'] = 1, 1\n",
      "pbp_data.offrank21t25[pbp_data.offrankbucket == '(21-25)'], pbp_data.defrank21t25[pbp_data.defrankbucket == '(21-25)'] = 1, 1"
     ],
     "language": "python",
     "metadata": {},
     "outputs": [],
     "prompt_number": 12
    },
    {
     "cell_type": "heading",
     "level": 4,
     "metadata": {},
     "source": [
      "Binning the yards togo per down in buckets of varying lengths with the larger bins corresponding more yards to go, because the affect of the difference in yardage changes depending the quantity of yards to be gained."
     ]
    },
    {
     "cell_type": "code",
     "collapsed": false,
     "input": [
      "pbp_data['togobucket'] = 'NA'\n",
      "pbp_data['togo0t1'] = 0\n",
      "pbp_data['togo2t3'] = 0\n",
      "pbp_data['togo4t5'] = 0\n",
      "pbp_data['togo6t7'] = 0\n",
      "pbp_data['togo8t10'] = 0\n",
      "pbp_data['togo11t13'] = 0\n",
      "pbp_data['togo14t16'] = 0\n",
      "pbp_data['togo17t20'] = 0\n",
      "pbp_data['togo21t25'] = 0\n",
      "pbp_data.togobucket[pbp_data.togo >= 0] = '(0-1)'\n",
      "pbp_data.togobucket[pbp_data.togo >= 2] = '(2-3)'\n",
      "pbp_data.togobucket[pbp_data.togo >= 4] = '(4-5)'\n",
      "pbp_data.togobucket[pbp_data.togo >= 6] = '(6-7)'\n",
      "pbp_data.togobucket[pbp_data.togo >= 8] = '(8-10)'\n",
      "pbp_data.togobucket[pbp_data.togo >= 11] = '(11-13)'\n",
      "pbp_data.togobucket[pbp_data.togo >= 14] = '(14-16)'\n",
      "pbp_data.togobucket[pbp_data.togo >= 17] = '(17-20)'\n",
      "pbp_data.togobucket[pbp_data.togo >= 21] = '(21-25)'\n",
      "pbp_data.togobucket[pbp_data.togo > 25] = '(>25)'\n",
      "pbp_data.togo0t1[pbp_data.togobucket == '(0-1)'] = 1\n",
      "pbp_data.togo2t3[pbp_data.togobucket == '(2-3)'] = 1\n",
      "pbp_data.togo4t5[pbp_data.togobucket == '(4-5)'] = 1\n",
      "pbp_data.togo6t7[pbp_data.togobucket == '(6-7)'] = 1\n",
      "pbp_data.togo8t10[pbp_data.togobucket == '(8-10)'] = 1\n",
      "pbp_data.togo11t13[pbp_data.togobucket == '(11-13)'] = 1\n",
      "pbp_data.togo14t16[pbp_data.togobucket == '(14-16)'] = 1\n",
      "pbp_data.togo17t20[pbp_data.togobucket == '(17-20)'] = 1\n",
      "pbp_data.togo21t25[pbp_data.togobucket == '(21-25)'] = 1\n",
      "togobucket = pd.Categorical.from_array(pbp_data['togobucket'])\n",
      "offrankbucket = pd.Categorical.from_array(pbp_data['offrankbucket'])\n",
      "defrankbucket = pd.Categorical.from_array(pbp_data['defrankbucket'])\n",
      "pbp_data['togobucket'] = togobucket.labels\n",
      "pbp_data['offrankbucket'] = offrankbucket.labels\n",
      "pbp_data['defrankbucket'] = defrankbucket.labels"
     ],
     "language": "python",
     "metadata": {},
     "outputs": [],
     "prompt_number": 13
    },
    {
     "cell_type": "heading",
     "level": 4,
     "metadata": {},
     "source": [
      "Creating a data frame with only the first plays of each drive."
     ]
    },
    {
     "cell_type": "code",
     "collapsed": false,
     "input": [
      "pbp_data['ydlinebucket'] = 'NA'\n",
      "pbp_data['ydline0t5'] = 0\n",
      "pbp_data['ydline6t10'] = 0\n",
      "pbp_data['ydline11t15'] = 0\n",
      "pbp_data['ydline16t20'] = 0\n",
      "pbp_data['ydline21t25'] = 0\n",
      "pbp_data['ydline26t30'] = 0\n",
      "pbp_data['ydline31t35'] = 0\n",
      "pbp_data['ydline36t40'] = 0\n",
      "pbp_data['ydline41t45'] = 0\n",
      "pbp_data['ydline46t50'] = 0\n",
      "pbp_data['ydline51t55'] = 0\n",
      "pbp_data['ydline56t60'] = 0\n",
      "pbp_data['ydline61t65'] = 0\n",
      "pbp_data['ydline66t70'] = 0\n",
      "pbp_data['ydline71t75'] = 0\n",
      "pbp_data['ydline76t80'] = 0\n",
      "pbp_data['ydline81t85'] = 0\n",
      "pbp_data['ydline86t90'] = 0\n",
      "pbp_data['ydline91t95'] = 0\n",
      "pbp_data['ydline96t100'] = 0\n",
      "pbp_data.ydlinebucket[pbp_data.ydline >= 0] = '(0-5)'\n",
      "pbp_data.ydlinebucket[pbp_data.ydline >= 6] = '(6-10)'\n",
      "pbp_data.ydlinebucket[pbp_data.ydline >= 11] = '(11-15)'\n",
      "pbp_data.ydlinebucket[pbp_data.ydline >= 16] = '(16-20)'\n",
      "pbp_data.ydlinebucket[pbp_data.ydline >= 21] = '(21-25)'\n",
      "pbp_data.ydlinebucket[pbp_data.ydline >= 26] = '(26-30)'\n",
      "pbp_data.ydlinebucket[pbp_data.ydline >= 31] = '(31-35)'\n",
      "pbp_data.ydlinebucket[pbp_data.ydline >= 36] = '(36-40)'\n",
      "pbp_data.ydlinebucket[pbp_data.ydline >= 41] = '(41-45)'\n",
      "pbp_data.ydlinebucket[pbp_data.ydline >= 46] = '(46-50)'\n",
      "pbp_data.ydlinebucket[pbp_data.ydline >= 51] = '(51-55)'\n",
      "pbp_data.ydlinebucket[pbp_data.ydline >= 56] = '(56-60)'\n",
      "pbp_data.ydlinebucket[pbp_data.ydline >= 61] = '(61-65)'\n",
      "pbp_data.ydlinebucket[pbp_data.ydline >= 66] = '(66-70)'\n",
      "pbp_data.ydlinebucket[pbp_data.ydline >= 71] = '(71-75)'\n",
      "pbp_data.ydlinebucket[pbp_data.ydline >= 76] = '(76-80)'\n",
      "pbp_data.ydlinebucket[pbp_data.ydline >= 81] = '(81-85)'\n",
      "pbp_data.ydlinebucket[pbp_data.ydline >= 86] = '(86-90)'\n",
      "pbp_data.ydlinebucket[pbp_data.ydline >= 91] = '(91-95)'\n",
      "pbp_data.ydlinebucket[pbp_data.ydline >= 96] = '(96-100)'\n",
      "ydlinebucket = pd.Categorical.from_array(pbp_data['ydlinebucket'])\n",
      "pbp_data['ydlinebucket'] = ydlinebucket.labels"
     ],
     "language": "python",
     "metadata": {},
     "outputs": [],
     "prompt_number": 14
    },
    {
     "cell_type": "code",
     "collapsed": false,
     "input": [
      "shifted_data1 = (pbp_data.shift(1)).shift(-1)\n",
      "shifted_data2 = pbp_data.shift(1)\n",
      "shifted_data2.rename(columns=lambda x: 'last' + x, inplace=True)\n",
      "shifted_data = shifted_data1.join(shifted_data2, how = 'outer')\n",
      "offTF = shifted_data['off'] == shifted_data['lastoff']\n",
      "defTF = shifted_data['def'] == shifted_data['lastdef']\n",
      "down1 = shifted_data[offTF == False]\n",
      "#down1[['description', 'down', 'qtr', 'gameid']].head(4)"
     ],
     "language": "python",
     "metadata": {},
     "outputs": [],
     "prompt_number": 15
    },
    {
     "cell_type": "heading",
     "level": 4,
     "metadata": {},
     "source": [
      "The following gives drive by drive information. This information is useful in helping us know the expected number of points the offensive team will score given they started the first play of the drive on a specific yard line."
     ]
    },
    {
     "cell_type": "code",
     "collapsed": false,
     "input": [
      "firstPlay = down1.index.values\n",
      "firstPlay = np.array(firstPlay)\n",
      "lastPlay = firstPlay - 1\n",
      "lastPlay1 = lastPlay[1:len(lastPlay)]\n",
      "lastPlay2 = np.append(lastPlay1, (len(pbp_data)-1))\n",
      "lastPlays = pbp_data.ix[lastPlay2]\n",
      "#len(down1) ==len(lastPlays)\n",
      "lastPlays.rename(columns=lambda x: 'last_' + x, inplace=True)\n",
      "down1['mergeVals'] = np.arange(len(firstPlay))\n",
      "lastPlays['mergeVals'] = np.arange(len(firstPlay))\n",
      "driveByDrive = down1.merge(lastPlays, on = 'mergeVals') \n",
      "#driveByDrive.ix[:,[0,8,81,9,82,10,83,11,84]].head()\n",
      "driveByDrive['pointsScored'] = driveByDrive['last_offscore'] - driveByDrive['offscore']\n",
      "pureKickoffs = driveByDrive.description.str.contains('kicks') & driveByDrive.last_description.str.contains('kicks') #& driveByDrive['last_min'].isin([60]) & driveByDrive['last_sec'].isin([0])\n",
      "driveByDrive = driveByDrive.ix[pureKickoffs == False]\n",
      "regPointVals = driveByDrive.pointsScored.isin((0,2,3,5,6,7,8,9,10))\n",
      "driveByDrive = driveByDrive.ix[regPointVals == True]\n",
      "#driveByDrive.ix[0:10,[0,8,81,9,82,10,83,11,84,109]]"
     ],
     "language": "python",
     "metadata": {},
     "outputs": [],
     "prompt_number": 16
    },
    {
     "cell_type": "code",
     "collapsed": false,
     "input": [
      "driveByDrive['pointsScored'] = 0\n",
      "madeFG = driveByDrive.last_description.str.contains('GOOD') == True\n",
      "driveByDrive.pointsScored[madeFG == True] = 3\n",
      "madeTD = driveByDrive.last_description.str.contains('extra point' or 'Extra Point' or 'Extra point') == True\n",
      "madeTD2 = driveByDrive.last_description.str.contains('TWO-POINT CONVERSION') == True\n",
      "driveByDrive.pointsScored[madeTD == True] = 7\n",
      "driveByDrive.pointsScored[madeTD2 == True] = 7\n",
      "safety = driveByDrive.last_description.str.contains('SAFETY') == True\n",
      "driveByDrive.pointsScored[safety == True] = -2\n",
      "defTD = driveByDrive.last_description.str.contains('TOUCHDOWN') == True\n",
      "driveByDrive.pointsScored[defTD == True] = 7\n",
      "driveByDrive.pointsScored.mean()\n",
      "driveByDrive['puntReturnForTD'] = 0\n",
      "puntReturnTD = (driveByDrive.last_description.str.contains('punt') & driveByDrive.last_description.str.contains('TOUCHDOWN')) == True\n",
      "driveByDrive.puntReturnForTD[puntReturnTD == True] = 1\n",
      "driveByDrive.pointsScored[puntReturnTD == True] = -7\n",
      "\n",
      "driveByDrive['interceptionForTD'] = 0\n",
      "interceptAndTD = driveByDrive.last_description.str.contains('INTERCEPTION') & driveByDrive.last_description.str.contains('TOUCHDOWN') == True\n",
      "driveByDrive.interceptionForTD[interceptAndTD == True] = 1\n",
      "driveByDrive.pointsScored[puntReturnTD == True] = -7\n",
      "\n",
      "driveByDrive['fumbleForTD'] = 0\n",
      "fumbleAndTD = driveByDrive.last_description.str.contains('FUMBLE') & driveByDrive.last_description.str.contains('TOUCHDOWN') == True\n",
      "driveByDrive.fumbleForTD[fumbleAndTD == True] = 1\n",
      "driveByDrive.pointsScored[fumbleAndTD == True] = -7\n",
      "\n",
      "driveByDrive['blockedPuntForTD'] = 0\n",
      "blockedPuntAndTD = driveByDrive.last_description.str.contains('BLOCK') & driveByDrive.last_description.str.contains('TOUCHDOWN') == True\n",
      "driveByDrive.blockedPuntForTD[blockedPuntAndTD == True] = 1\n",
      "driveByDrive.pointsScored[blockedPuntAndTD == True] = -7\n",
      "driveByDriveNew = (driveByDrive.shift(1)).shift(-1)\n",
      "driveByDriveShift = driveByDrive[['puntReturnForTD','interceptionForTD','fumbleForTD','blockedPuntForTD']].shift(1)\n",
      "driveByDriveShift.rename(columns=lambda x: 'remove' + x, inplace=True)\n",
      "driveByDrive2 = driveByDriveNew.join(driveByDriveShift, how = 'outer')\n",
      "driveByDrive3 = driveByDrive2[driveByDrive2['removepuntReturnForTD'] != 1]\n",
      "driveByDrive4 = driveByDrive3[driveByDrive3['removeinterceptionForTD'] != 1]\n",
      "driveByDrive5 = driveByDrive4[driveByDrive4['removefumbleForTD'] != 1]\n",
      "driveByDrive6 = driveByDrive5[driveByDrive5['removeblockedPuntForTD'] != 1]\n",
      "driveByDrive6['intercept'] = [1]*len(driveByDrive6)\n",
      "driveByDrive6['deftouch'] = [0]*len(driveByDrive6)\n",
      "driveByDrive6['defsafety'] = [0]*len(driveByDrive6)\n",
      "driveByDrive6['field'] = [0]*len(driveByDrive6)\n",
      "driveByDrive6['touch'] = [0]*len(driveByDrive6)\n",
      "driveByDrive6['nopoint'] = [0]*len(driveByDrive6)\n",
      "driveByDrive6 = pd.DataFrame(driveByDrive6)\n",
      "#puntReturnTD = (driveByDrive.last_description.str.contains('punt') & driveByDrive.last_description.str.contains('TOUCHDOWN')) == True\n",
      "driveByDrive6.deftouch[driveByDrive6['pointsScored'] == -7] = 1\n",
      "driveByDrive6.defsafety[driveByDrive6['pointsScored'] == -2] = 1\n",
      "driveByDrive6.nopoint[driveByDrive6['pointsScored'] == 0] = 1\n",
      "driveByDrive6.field[driveByDrive6['pointsScored'] == 3] = 1\n",
      "driveByDrive6.touch[driveByDrive6['pointsScored'] == 7] = 1\n",
      "driveByDriveN = driveByDrive6[['deftouch', 'defsafety', 'nopoint', 'field', 'touch', 'intercept', 'ydline', 'offrank1t5','offrank6t10','offrank11t15','offrank16t20','offrank21t25','defrank1t5','defrank6t10','defrank11t15','defrank16t20','defrank21t25']]\n",
      "driveByDriveN = driveByDriveN.dropna(axis = 0, how = \"any\")\n",
      "deftouch_logit = sm.Logit(driveByDriveN[['deftouch']], driveByDriveN[['intercept', 'ydline', 'offrank1t5','offrank6t10','offrank11t15','offrank16t20','offrank21t25','defrank1t5','defrank6t10','defrank11t15','defrank16t20','defrank21t25']])\n",
      "defsafety_logit = sm.Logit(driveByDriveN[['defsafety']], driveByDriveN[['intercept', 'ydline', 'offrank1t5','offrank6t10','offrank11t15','offrank16t20','offrank21t25','defrank1t5','defrank6t10','defrank11t15','defrank16t20','defrank21t25']])\n",
      "nopoint_logit = sm.Logit(driveByDriveN[['nopoint']], driveByDriveN[['intercept', 'ydline', 'offrank1t5','offrank6t10','offrank11t15','offrank16t20','offrank21t25','defrank1t5','defrank6t10','defrank11t15','defrank16t20','defrank21t25']])\n",
      "field_logit = sm.Logit(driveByDriveN[['field']], driveByDriveN[['intercept', 'ydline', 'offrank1t5','offrank6t10','offrank11t15','offrank16t20','offrank21t25','defrank1t5','defrank6t10','defrank11t15','defrank16t20','defrank21t25']])\n",
      "touch_logit = sm.Logit(driveByDriveN[['touch']], driveByDriveN[['intercept', 'ydline', 'offrank1t5','offrank6t10','offrank11t15','offrank16t20','offrank21t25','defrank1t5','defrank6t10','defrank11t15','defrank16t20','defrank21t25']])\n",
      "deftouch_logitResult = deftouch_logit.fit()\n",
      "defsafety_logitResult = defsafety_logit.fit()\n",
      "nopoint_logitResult = nopoint_logit.fit()\n",
      "field_logitResult = field_logit.fit()\n",
      "touch_logitResult = touch_logit.fit()\n",
      "touch_logitResult.summary()"
     ],
     "language": "python",
     "metadata": {},
     "outputs": [
      {
       "output_type": "stream",
       "stream": "stdout",
       "text": [
        "Optimization terminated successfully.\n",
        "         Current function value: 0.045906\n",
        "         Iterations 10\n",
        "Warning: Maximum number of iterations has been exceeded."
       ]
      },
      {
       "output_type": "stream",
       "stream": "stdout",
       "text": [
        "\n",
        "         Current function value: 0.000947\n",
        "         Iterations: 35\n",
        "Optimization terminated successfully."
       ]
      },
      {
       "output_type": "stream",
       "stream": "stdout",
       "text": [
        "\n",
        "         Current function value: 0.147734\n",
        "         Iterations 8\n",
        "Optimization terminated successfully."
       ]
      },
      {
       "output_type": "stream",
       "stream": "stdout",
       "text": [
        "\n",
        "         Current function value: 0.042191\n",
        "         Iterations 9\n",
        "Optimization terminated successfully."
       ]
      },
      {
       "output_type": "stream",
       "stream": "stdout",
       "text": [
        "\n",
        "         Current function value: 0.091779\n",
        "         Iterations 8\n"
       ]
      },
      {
       "html": [
        "<table class=\"simpletable\">\n",
        "<caption>Logit Regression Results</caption>\n",
        "<tr>\n",
        "  <th>Dep. Variable:</th>       <td>touch</td>      <th>  No. Observations:  </th>  <td> 65117</td>  \n",
        "</tr>\n",
        "<tr>\n",
        "  <th>Model:</th>               <td>Logit</td>      <th>  Df Residuals:      </th>  <td> 65105</td>  \n",
        "</tr>\n",
        "<tr>\n",
        "  <th>Method:</th>               <td>MLE</td>       <th>  Df Model:          </th>  <td>    11</td>  \n",
        "</tr>\n",
        "<tr>\n",
        "  <th>Date:</th>          <td>Fri, 14 Mar 2014</td> <th>  Pseudo R-squ.:     </th>  <td>0.01136</td> \n",
        "</tr>\n",
        "<tr>\n",
        "  <th>Time:</th>              <td>21:33:47</td>     <th>  Log-Likelihood:    </th> <td> -5976.4</td> \n",
        "</tr>\n",
        "<tr>\n",
        "  <th>converged:</th>           <td>True</td>       <th>  LL-Null:           </th> <td> -6045.0</td> \n",
        "</tr>\n",
        "<tr>\n",
        "  <th> </th>                      <td> </td>        <th>  LLR p-value:       </th> <td>5.783e-24</td>\n",
        "</tr>\n",
        "</table>\n",
        "<table class=\"simpletable\">\n",
        "<tr>\n",
        "        <td></td>          <th>coef</th>     <th>std err</th>      <th>z</th>      <th>P>|z|</th> <th>[95.0% Conf. Int.]</th> \n",
        "</tr>\n",
        "<tr>\n",
        "  <th>intercept</th>    <td>   -2.8311</td> <td>    0.120</td> <td>  -23.542</td> <td> 0.000</td> <td>   -3.067    -2.595</td>\n",
        "</tr>\n",
        "<tr>\n",
        "  <th>ydline</th>       <td>   -0.0118</td> <td>    0.001</td> <td>   -8.175</td> <td> 0.000</td> <td>   -0.015    -0.009</td>\n",
        "</tr>\n",
        "<tr>\n",
        "  <th>offrank1t5</th>   <td>   -0.4896</td> <td>    0.096</td> <td>   -5.120</td> <td> 0.000</td> <td>   -0.677    -0.302</td>\n",
        "</tr>\n",
        "<tr>\n",
        "  <th>offrank6t10</th>  <td>   -0.6588</td> <td>    0.097</td> <td>   -6.769</td> <td> 0.000</td> <td>   -0.850    -0.468</td>\n",
        "</tr>\n",
        "<tr>\n",
        "  <th>offrank11t15</th> <td>   -0.5633</td> <td>    0.096</td> <td>   -5.838</td> <td> 0.000</td> <td>   -0.752    -0.374</td>\n",
        "</tr>\n",
        "<tr>\n",
        "  <th>offrank16t20</th> <td>   -0.4567</td> <td>    0.090</td> <td>   -5.060</td> <td> 0.000</td> <td>   -0.634    -0.280</td>\n",
        "</tr>\n",
        "<tr>\n",
        "  <th>offrank21t25</th> <td>   -0.4064</td> <td>    0.091</td> <td>   -4.443</td> <td> 0.000</td> <td>   -0.586    -0.227</td>\n",
        "</tr>\n",
        "<tr>\n",
        "  <th>defrank1t5</th>   <td>    0.1048</td> <td>    0.096</td> <td>    1.091</td> <td> 0.275</td> <td>   -0.084     0.293</td>\n",
        "</tr>\n",
        "<tr>\n",
        "  <th>defrank6t10</th>  <td>   -0.0236</td> <td>    0.098</td> <td>   -0.239</td> <td> 0.811</td> <td>   -0.217     0.169</td>\n",
        "</tr>\n",
        "<tr>\n",
        "  <th>defrank11t15</th> <td>   -0.0059</td> <td>    0.098</td> <td>   -0.060</td> <td> 0.952</td> <td>   -0.197     0.185</td>\n",
        "</tr>\n",
        "<tr>\n",
        "  <th>defrank16t20</th> <td>    0.0386</td> <td>    0.097</td> <td>    0.398</td> <td> 0.690</td> <td>   -0.151     0.228</td>\n",
        "</tr>\n",
        "<tr>\n",
        "  <th>defrank21t25</th> <td>    0.1333</td> <td>    0.095</td> <td>    1.407</td> <td> 0.159</td> <td>   -0.052     0.319</td>\n",
        "</tr>\n",
        "</table>"
       ],
       "metadata": {},
       "output_type": "pyout",
       "prompt_number": 17,
       "text": [
        "<class 'statsmodels.iolib.summary.Summary'>\n",
        "\"\"\"\n",
        "                           Logit Regression Results                           \n",
        "==============================================================================\n",
        "Dep. Variable:                  touch   No. Observations:                65117\n",
        "Model:                          Logit   Df Residuals:                    65105\n",
        "Method:                           MLE   Df Model:                           11\n",
        "Date:                Fri, 14 Mar 2014   Pseudo R-squ.:                 0.01136\n",
        "Time:                        21:33:47   Log-Likelihood:                -5976.4\n",
        "converged:                       True   LL-Null:                       -6045.0\n",
        "                                        LLR p-value:                 5.783e-24\n",
        "================================================================================\n",
        "                   coef    std err          z      P>|z|      [95.0% Conf. Int.]\n",
        "--------------------------------------------------------------------------------\n",
        "intercept       -2.8311      0.120    -23.542      0.000        -3.067    -2.595\n",
        "ydline          -0.0118      0.001     -8.175      0.000        -0.015    -0.009\n",
        "offrank1t5      -0.4896      0.096     -5.120      0.000        -0.677    -0.302\n",
        "offrank6t10     -0.6588      0.097     -6.769      0.000        -0.850    -0.468\n",
        "offrank11t15    -0.5633      0.096     -5.838      0.000        -0.752    -0.374\n",
        "offrank16t20    -0.4567      0.090     -5.060      0.000        -0.634    -0.280\n",
        "offrank21t25    -0.4064      0.091     -4.443      0.000        -0.586    -0.227\n",
        "defrank1t5       0.1048      0.096      1.091      0.275        -0.084     0.293\n",
        "defrank6t10     -0.0236      0.098     -0.239      0.811        -0.217     0.169\n",
        "defrank11t15    -0.0059      0.098     -0.060      0.952        -0.197     0.185\n",
        "defrank16t20     0.0386      0.097      0.398      0.690        -0.151     0.228\n",
        "defrank21t25     0.1333      0.095      1.407      0.159        -0.052     0.319\n",
        "================================================================================\n",
        "\"\"\""
       ]
      }
     ],
     "prompt_number": 17
    },
    {
     "cell_type": "heading",
     "level": 4,
     "metadata": {},
     "source": [
      "yard is a vector containing all 100 yards on the field. This vector will be useful in determining probabilies of conversion and expected number of points from different yard lines."
     ]
    },
    {
     "cell_type": "code",
     "collapsed": false,
     "input": [
      "yard = range(0,100)"
     ],
     "language": "python",
     "metadata": {},
     "outputs": [],
     "prompt_number": 17
    },
    {
     "cell_type": "heading",
     "level": 4,
     "metadata": {},
     "source": [
      "k Nearest Neighbors to predict expected number of points given starting on first down at specific yard line."
     ]
    },
    {
     "cell_type": "code",
     "collapsed": false,
     "input": [
      "knn_gfis = neighbors.KNeighborsRegressor(80, weights = 'uniform') # gfis = go for it success\n",
      "data = driveByDrive[['ydlinebucket', 'offrankbucket', 'defrankbucket', 'pointsScored']]\n",
      "data = data.dropna(axis = 0, how = \"any\")\n",
      "X_gfis = data[['ydlinebucket', 'offrankbucket', 'defrankbucket']]\n",
      "y_gfis = data[['pointsScored']]\n",
      "knn_gfis.fit(X_gfis,y_gfis).predict([15 , 0, 5])"
     ],
     "language": "python",
     "metadata": {},
     "outputs": [
      {
       "metadata": {},
       "output_type": "pyout",
       "prompt_number": 18,
       "text": [
        "array([[ 1.6875]])"
       ]
      }
     ],
     "prompt_number": 18
    },
    {
     "cell_type": "heading",
     "level": 4,
     "metadata": {},
     "source": [
      "The following gives a more comprehensive data frame that captures not only captures the offenses drive but what happens after they give the ball to the other team, whether by turnover or scoring."
     ]
    },
    {
     "cell_type": "code",
     "collapsed": false,
     "input": [
      "secondDrive = (driveByDrive.shift(1)).shift(-1)\n",
      "firstDrive = driveByDrive.shift(1)\n",
      "secondDrive.rename(columns=lambda x: 'second' + x, inplace=True)\n",
      "twoDriveByTwoDrive = firstDrive.join(secondDrive, how = 'outer')\n",
      "#twoDriveByTwoDrive.ix[:,[0,1,2,3,4,110,111,112,113,114]].head()\n",
      "twoDriveByTwoDrive['point_differential'] = twoDriveByTwoDrive['secondlast_offscore'] - twoDriveByTwoDrive['defscore'] - (twoDriveByTwoDrive['secondlast_defscore'] - twoDriveByTwoDrive['offscore'])\n",
      "twoDriveByTwoDrive = twoDriveByTwoDrive[twoDriveByTwoDrive.point_differential.isin((-10,-9,-8,-7,-6,-5,-4,-3,-2,-1,0,1,2,3,4,5,6,7,8,9,10)) == True]\n",
      "twoDriveByTwoDrive = twoDriveByTwoDrive[(twoDriveByTwoDrive.qtr.isin([2]) & twoDriveByTwoDrive.secondqtr.isin([3])) == False]\n",
      "sameGame = twoDriveByTwoDrive['gameid'] == twoDriveByTwoDrive['secondgameid']\n",
      "twoDriveByTwoDrive = twoDriveByTwoDrive[sameGame == True] \n",
      "#twoDriveByTwoDrive.ix[61:100,['gameid','point_differential','ydline','offrank','defrank','secondoffrank','seconddefrank']]\n",
      "puntDecision = twoDriveByTwoDrive.last_description.str.contains('punt' or 'PUNT' or 'Punt')\n",
      "twoDriveByTwoDrive['puntDecision'] = puntDecision.shift(1)\n",
      "twoDriveByTwoDrive['puntYardLine'] = twoDriveByTwoDrive['last_ydline'].shift(1)\n",
      "twoDriveByTwoDrivePunt = twoDriveByTwoDrive[twoDriveByTwoDrive['puntDecision'] == True]\n",
      "#twoDriveByTwoDrivePunt.ix[0:100,['puntDecision','puntYardLine','secondlast_description', 'point_differential']]"
     ],
     "language": "python",
     "metadata": {},
     "outputs": [],
     "prompt_number": 19
    },
    {
     "cell_type": "heading",
     "level": 4,
     "metadata": {},
     "source": [
      "Expected number of points given you turn the ball over at a particular yardline."
     ]
    },
    {
     "cell_type": "code",
     "collapsed": false,
     "input": [
      "knn_gfif = neighbors.KNeighborsRegressor(80, weights = 'uniform') # gfif = go for it fail\n",
      "data = twoDriveByTwoDrive[['ydlinebucket', 'offrankbucket', 'defrankbucket','secondoffrankbucket', 'seconddefrankbucket', 'point_differential']]\n",
      "data = data.dropna(axis = 0, how = \"any\")\n",
      "data.columns = ['otherTeamsYardsUntilEndzone', 'otherTeamsOffRank', 'defrankbucket', 'offrankbucket', 'otherTeamsDefRank', 'point_differential']\n",
      "X_gfif = data[['otherTeamsYardsUntilEndzone', 'offrankbucket', 'defrankbucket', 'otherTeamsOffRank', 'otherTeamsDefRank']]\n",
      "y_gfif = data[['point_differential']]\n",
      "knn_gfif.fit(X_gfif,y_gfif).predict([6, 0, 0, 0, 0])"
     ],
     "language": "python",
     "metadata": {},
     "outputs": [
      {
       "metadata": {},
       "output_type": "pyout",
       "prompt_number": 20,
       "text": [
        "array([[-2.175]])"
       ]
      }
     ],
     "prompt_number": 20
    },
    {
     "cell_type": "heading",
     "level": 4,
     "metadata": {},
     "source": [
      "Expected points given you punt at a particular yardline."
     ]
    },
    {
     "cell_type": "code",
     "collapsed": false,
     "input": [
      "knn_punt = neighbors.KNeighborsRegressor(80, weights = 'uniform')\n",
      "data = twoDriveByTwoDrivePunt[['puntYardLine', 'offrankbucket', 'defrankbucket','secondoffrank', 'seconddefrank', 'point_differential']]\n",
      "data = data.dropna(axis = 0, how = \"any\")\n",
      "data.columns = ['puntYardLine', 'otherTeamsOffRank', 'defRankbucket', 'offRankbucket', 'otherTeamsDefRank', 'point_differential']\n",
      "X_punt = data[['puntYardLine', 'offRankbucket', 'defRankbucket', 'otherTeamsOffRank', 'otherTeamsDefRank']]\n",
      "y_punt = data[['point_differential']]\n",
      "data.head()\n",
      "knn_punt.fit(X_punt,y_punt).predict([30, 1, 1, 1, 1])"
     ],
     "language": "python",
     "metadata": {},
     "outputs": [
      {
       "metadata": {},
       "output_type": "pyout",
       "prompt_number": 21,
       "text": [
        "array([[ 0.5125]])"
       ]
      }
     ],
     "prompt_number": 21
    },
    {
     "cell_type": "heading",
     "level": 4,
     "metadata": {},
     "source": [
      "Expected points given you turnover at a particular yardline."
     ]
    },
    {
     "cell_type": "code",
     "collapsed": false,
     "input": [
      "#twoDriveByTwoDrive['pointsOff'] = twoDriveByTwoDrive['secondlast_defscore'] - twoDriveByTwoDrive['offscore']\n",
      "#twoDriveByTwoDrive.ix[twoDriveByTwoDrive.pointsOff == 2, 'pointsOff'] = 0\n",
      "#twoDriveByTwoDrive.ix[twoDriveByTwoDrive.pointsOff == 5, 'pointsOff'] = 3\n",
      "#twoDriveByTwoDrive.ix[twoDriveByTwoDrive.pointsOff == 9, 'pointsOff'] = 7\n",
      "#twoDriveByTwoDrive.ix[twoDriveByTwoDrive.pointsOff == 10, 'pointsOff'] = 8\n",
      "#twoDriveByTwoDrivePoints = twoDriveByTwoDrive[twoDriveByTwoDrive.pointsOff.isin((0,3,6,7,8)) == True]\n",
      "#knn = neighbors.KNeighborsRegressor(30, weights = 'uniform')\n",
      "#data = twoDriveByTwoDrivePoints[['ydlinebucket', 'offrank', 'defrank', 'pointsOff']]\n",
      "#data = data.dropna(axis = 0, how = \"any\")\n",
      "#X = data[['ydlinebucket', 'offrank', 'defrank']]\n",
      "#y = data[['pointsOff']]\n",
      "#knn.fit(X,y).predict([10, 1, 20])"
     ],
     "language": "python",
     "metadata": {},
     "outputs": [],
     "prompt_number": 22
    },
    {
     "cell_type": "heading",
     "level": 4,
     "metadata": {},
     "source": [
      "The following code is used to pull out fourth down plays from the data. This is important since we'll use plays from these downs to find the expected number of points given field goal attempt, punt attempt, or go for it attempt."
     ]
    },
    {
     "cell_type": "code",
     "collapsed": false,
     "input": [
      "df = pbp_data\n",
      "fourthDown = df[df['down'] == 4]\n",
      "fourthPlayNumbers = fourthDown.index\n",
      "fourthPlayNumbers2 = fourthPlayNumbers[1:len(fourthPlayNumbers)]\n",
      "fourthPlayNumbers2 = np.append(fourthPlayNumbers2, 0)\n",
      "nonPenaltyFourthDown = fourthPlayNumbers[fourthPlayNumbers2 - fourthPlayNumbers != 1]\n",
      "fourthDownPlays = df.ix[nonPenaltyFourthDown, :]"
     ],
     "language": "python",
     "metadata": {},
     "outputs": [],
     "prompt_number": 23
    },
    {
     "cell_type": "heading",
     "level": 4,
     "metadata": {},
     "source": [
      "Pulling out field goal attempt data and running a logistic regression to determine the likelihood of converting depending on the yardline the field goal is attempted from."
     ]
    },
    {
     "cell_type": "code",
     "collapsed": false,
     "input": [
      "fourth = fourthDownPlays\n",
      "cond = fourth['description'].str.contains('field goal' or 'Field Goal' or 'field Goal' or 'Field goal' or 'FIELD GOAL')\n",
      "field_goal_data = fourth[cond == True]\n",
      "field_goal_data['converted'] = field_goal_data['description'].str.contains('GOOD')\n",
      "field_goal_data['distance'] = field_goal_data['ydline'] + 18\n",
      "field_goal = field_goal_data[['ydline', 'distance', 'description', 'converted']]  \n",
      "field_goal['intercept'] = [1]*len(field_goal)\n",
      "field_goal_logit = sm.Logit(field_goal[['converted']], field_goal[['intercept','ydline']])\n",
      "field_goal_result = field_goal_logit.fit()\n",
      "field_goal_result.summary()"
     ],
     "language": "python",
     "metadata": {},
     "outputs": [
      {
       "output_type": "stream",
       "stream": "stdout",
       "text": [
        "Optimization terminated successfully.\n",
        "         Current function value: 0.410096\n",
        "         Iterations 7\n"
       ]
      },
      {
       "html": [
        "<table class=\"simpletable\">\n",
        "<caption>Logit Regression Results</caption>\n",
        "<tr>\n",
        "  <th>Dep. Variable:</th>     <td>converted</td>    <th>  No. Observations:  </th>   <td>  9650</td>  \n",
        "</tr>\n",
        "<tr>\n",
        "  <th>Model:</th>               <td>Logit</td>      <th>  Df Residuals:      </th>   <td>  9648</td>  \n",
        "</tr>\n",
        "<tr>\n",
        "  <th>Method:</th>               <td>MLE</td>       <th>  Df Model:          </th>   <td>     1</td>  \n",
        "</tr>\n",
        "<tr>\n",
        "  <th>Date:</th>          <td>Fri, 14 Mar 2014</td> <th>  Pseudo R-squ.:     </th>   <td>0.1206</td>  \n",
        "</tr>\n",
        "<tr>\n",
        "  <th>Time:</th>              <td>21:17:56</td>     <th>  Log-Likelihood:    </th>  <td> -3957.4</td> \n",
        "</tr>\n",
        "<tr>\n",
        "  <th>converged:</th>           <td>True</td>       <th>  LL-Null:           </th>  <td> -4500.1</td> \n",
        "</tr>\n",
        "<tr>\n",
        "  <th> </th>                      <td> </td>        <th>  LLR p-value:       </th> <td>5.246e-238</td>\n",
        "</tr>\n",
        "</table>\n",
        "<table class=\"simpletable\">\n",
        "<tr>\n",
        "      <td></td>         <th>coef</th>     <th>std err</th>      <th>z</th>      <th>P>|z|</th> <th>[95.0% Conf. Int.]</th> \n",
        "</tr>\n",
        "<tr>\n",
        "  <th>intercept</th> <td>    3.6030</td> <td>    0.083</td> <td>   43.532</td> <td> 0.000</td> <td>    3.441     3.765</td>\n",
        "</tr>\n",
        "<tr>\n",
        "  <th>ydline</th>    <td>   -0.0981</td> <td>    0.003</td> <td>  -29.699</td> <td> 0.000</td> <td>   -0.105    -0.092</td>\n",
        "</tr>\n",
        "</table>"
       ],
       "metadata": {},
       "output_type": "pyout",
       "prompt_number": 24,
       "text": [
        "<class 'statsmodels.iolib.summary.Summary'>\n",
        "\"\"\"\n",
        "                           Logit Regression Results                           \n",
        "==============================================================================\n",
        "Dep. Variable:              converted   No. Observations:                 9650\n",
        "Model:                          Logit   Df Residuals:                     9648\n",
        "Method:                           MLE   Df Model:                            1\n",
        "Date:                Fri, 14 Mar 2014   Pseudo R-squ.:                  0.1206\n",
        "Time:                        21:17:56   Log-Likelihood:                -3957.4\n",
        "converged:                       True   LL-Null:                       -4500.1\n",
        "                                        LLR p-value:                5.246e-238\n",
        "==============================================================================\n",
        "                 coef    std err          z      P>|z|      [95.0% Conf. Int.]\n",
        "------------------------------------------------------------------------------\n",
        "intercept      3.6030      0.083     43.532      0.000         3.441     3.765\n",
        "ydline        -0.0981      0.003    -29.699      0.000        -0.105    -0.092\n",
        "==============================================================================\n",
        "\"\"\""
       ]
      }
     ],
     "prompt_number": 24
    },
    {
     "cell_type": "heading",
     "level": 4,
     "metadata": {},
     "source": [
      "We should bucket defensive and offensive buckets because defensive rank should make an impact on conversion rate. Maybe, really weak defenses are not test on fourth down very often."
     ]
    },
    {
     "cell_type": "heading",
     "level": 4,
     "metadata": {},
     "source": [
      "The following pulls out the rankings of teams and yards to go to convert on the fourth down. We also perform a logistic regression to determine the likelihood of converting given the rankings and yards to go."
     ]
    },
    {
     "cell_type": "code",
     "collapsed": false,
     "input": [
      "cond2 = fourth['description'].str.contains('punt' or 'PUNT' or 'Punt')\n",
      "punt_data = fourth[cond2 == True]\n",
      "punt_data['ydlineotherteam'] = 100 - (punt_data['ydline']-39)\n",
      "punt_data_final = punt_data[['description', 'ydline', 'ydlineotherteam']]\n",
      "go = fourth[cond == False]\n",
      "cond2 = go['description'].str.contains('punt' or 'PUNT' or 'Punt')\n",
      "go_for_it = go[cond2 == False]\n",
      "pbp = pbp_data\n",
      "play_after_going_for_it = pbp.ix[np.array(go_for_it.index) + 1, :]\n",
      "play_after_gfi_important_vars = play_after_going_for_it[['ydline','offrank', 'defrank', 'offrank1t5', 'offrank6t10', 'offrank11t15', 'offrank16t20', 'offrank21t25']]\n",
      "play_after_gfi_important_vars.rename(columns=lambda x: 'next_' + x, inplace=True)\n",
      "play_after_gfi_important_vars.index = go_for_it.index\n",
      "go_for_it_2 = go_for_it.join(play_after_gfi_important_vars)\n",
      "go_for_it_2['converted'] = go_for_it_2['offrank'] == go_for_it_2['next_offrank']\n",
      "go_for_it_final = go_for_it_2[['offrank', 'defrank', 'togo0t1', 'togo2t3', 'togo4t5', 'togo6t7', 'togo8t10', 'togo11t13', 'togo14t16', 'togo17t20', 'offrank1t5', 'offrank6t10', 'offrank11t15', 'offrank16t20', 'offrank21t25', 'defrank1t5', 'defrank6t10', 'defrank11t15', 'defrank16t20', 'defrank21t25', 'converted']]\n",
      "go_for_it_final['intercept'] = [1]*len(go_for_it_final)\n",
      "go_for_it_logit = sm.Logit(go_for_it_final[['converted']], go_for_it_final[['intercept','togo0t1', 'togo2t3', 'togo4t5', 'togo6t7', 'togo8t10', 'togo11t13', 'togo14t16', 'togo17t20', 'offrank1t5', 'offrank6t10', 'offrank11t15', 'offrank16t20', 'offrank21t25', 'defrank1t5', 'defrank6t10', 'defrank11t15', 'defrank16t20', 'defrank21t25']])\n",
      "go_for_it_result = go_for_it_logit.fit()\n",
      "go_for_it_result.summary()"
     ],
     "language": "python",
     "metadata": {},
     "outputs": [
      {
       "output_type": "stream",
       "stream": "stdout",
       "text": [
        "Optimization terminated successfully.\n",
        "         Current function value: 0.647567\n",
        "         Iterations 6\n"
       ]
      },
      {
       "output_type": "stream",
       "stream": "stderr",
       "text": [
        "//anaconda/lib/python2.7/site-packages/pandas/core/frame.py:2175: SettingWithCopyWarning: A value is trying to be set on a copy of a slice from a DataFrame\n",
        "  **kwargs)\n"
       ]
      },
      {
       "html": [
        "<table class=\"simpletable\">\n",
        "<caption>Logit Regression Results</caption>\n",
        "<tr>\n",
        "  <th>Dep. Variable:</th>     <td>converted</td>    <th>  No. Observations:  </th>  <td>  5497</td>  \n",
        "</tr>\n",
        "<tr>\n",
        "  <th>Model:</th>               <td>Logit</td>      <th>  Df Residuals:      </th>  <td>  5478</td>  \n",
        "</tr>\n",
        "<tr>\n",
        "  <th>Method:</th>               <td>MLE</td>       <th>  Df Model:          </th>  <td>    18</td>  \n",
        "</tr>\n",
        "<tr>\n",
        "  <th>Date:</th>          <td>Fri, 14 Mar 2014</td> <th>  Pseudo R-squ.:     </th>  <td>0.06491</td> \n",
        "</tr>\n",
        "<tr>\n",
        "  <th>Time:</th>              <td>21:18:00</td>     <th>  Log-Likelihood:    </th> <td> -3559.7</td> \n",
        "</tr>\n",
        "<tr>\n",
        "  <th>converged:</th>           <td>True</td>       <th>  LL-Null:           </th> <td> -3806.8</td> \n",
        "</tr>\n",
        "<tr>\n",
        "  <th> </th>                      <td> </td>        <th>  LLR p-value:       </th> <td>1.732e-93</td>\n",
        "</tr>\n",
        "</table>\n",
        "<table class=\"simpletable\">\n",
        "<tr>\n",
        "        <td></td>          <th>coef</th>     <th>std err</th>      <th>z</th>      <th>P>|z|</th> <th>[95.0% Conf. Int.]</th> \n",
        "</tr>\n",
        "<tr>\n",
        "  <th>intercept</th>    <td>   -1.4685</td> <td>    0.339</td> <td>   -4.332</td> <td> 0.000</td> <td>   -2.133    -0.804</td>\n",
        "</tr>\n",
        "<tr>\n",
        "  <th>togo0t1</th>      <td>    2.3090</td> <td>    0.333</td> <td>    6.927</td> <td> 0.000</td> <td>    1.656     2.962</td>\n",
        "</tr>\n",
        "<tr>\n",
        "  <th>togo2t3</th>      <td>    1.6963</td> <td>    0.336</td> <td>    5.053</td> <td> 0.000</td> <td>    1.038     2.354</td>\n",
        "</tr>\n",
        "<tr>\n",
        "  <th>togo4t5</th>      <td>    1.3731</td> <td>    0.339</td> <td>    4.056</td> <td> 0.000</td> <td>    0.710     2.037</td>\n",
        "</tr>\n",
        "<tr>\n",
        "  <th>togo6t7</th>      <td>    1.2440</td> <td>    0.344</td> <td>    3.621</td> <td> 0.000</td> <td>    0.571     1.917</td>\n",
        "</tr>\n",
        "<tr>\n",
        "  <th>togo8t10</th>     <td>    1.1972</td> <td>    0.340</td> <td>    3.522</td> <td> 0.000</td> <td>    0.531     1.863</td>\n",
        "</tr>\n",
        "<tr>\n",
        "  <th>togo11t13</th>    <td>    0.7672</td> <td>    0.361</td> <td>    2.125</td> <td> 0.034</td> <td>    0.060     1.475</td>\n",
        "</tr>\n",
        "<tr>\n",
        "  <th>togo14t16</th>    <td>    0.5819</td> <td>    0.375</td> <td>    1.551</td> <td> 0.121</td> <td>   -0.153     1.317</td>\n",
        "</tr>\n",
        "<tr>\n",
        "  <th>togo17t20</th>    <td>    0.3028</td> <td>    0.402</td> <td>    0.753</td> <td> 0.452</td> <td>   -0.486     1.091</td>\n",
        "</tr>\n",
        "<tr>\n",
        "  <th>offrank1t5</th>   <td>    0.2992</td> <td>    0.097</td> <td>    3.070</td> <td> 0.002</td> <td>    0.108     0.490</td>\n",
        "</tr>\n",
        "<tr>\n",
        "  <th>offrank6t10</th>  <td>    0.1250</td> <td>    0.092</td> <td>    1.364</td> <td> 0.172</td> <td>   -0.055     0.305</td>\n",
        "</tr>\n",
        "<tr>\n",
        "  <th>offrank11t15</th> <td>    0.2268</td> <td>    0.093</td> <td>    2.439</td> <td> 0.015</td> <td>    0.045     0.409</td>\n",
        "</tr>\n",
        "<tr>\n",
        "  <th>offrank16t20</th> <td>    0.0938</td> <td>    0.090</td> <td>    1.041</td> <td> 0.298</td> <td>   -0.083     0.270</td>\n",
        "</tr>\n",
        "<tr>\n",
        "  <th>offrank21t25</th> <td>    0.0037</td> <td>    0.090</td> <td>    0.041</td> <td> 0.968</td> <td>   -0.173     0.180</td>\n",
        "</tr>\n",
        "<tr>\n",
        "  <th>defrank1t5</th>   <td>   -0.3765</td> <td>    0.096</td> <td>   -3.926</td> <td> 0.000</td> <td>   -0.565    -0.189</td>\n",
        "</tr>\n",
        "<tr>\n",
        "  <th>defrank6t10</th>  <td>   -0.3776</td> <td>    0.095</td> <td>   -3.989</td> <td> 0.000</td> <td>   -0.563    -0.192</td>\n",
        "</tr>\n",
        "<tr>\n",
        "  <th>defrank11t15</th> <td>   -0.2938</td> <td>    0.094</td> <td>   -3.128</td> <td> 0.002</td> <td>   -0.478    -0.110</td>\n",
        "</tr>\n",
        "<tr>\n",
        "  <th>defrank16t20</th> <td>   -0.2368</td> <td>    0.098</td> <td>   -2.414</td> <td> 0.016</td> <td>   -0.429    -0.045</td>\n",
        "</tr>\n",
        "<tr>\n",
        "  <th>defrank21t25</th> <td>   -0.1255</td> <td>    0.100</td> <td>   -1.261</td> <td> 0.207</td> <td>   -0.321     0.070</td>\n",
        "</tr>\n",
        "</table>"
       ],
       "metadata": {},
       "output_type": "pyout",
       "prompt_number": 25,
       "text": [
        "<class 'statsmodels.iolib.summary.Summary'>\n",
        "\"\"\"\n",
        "                           Logit Regression Results                           \n",
        "==============================================================================\n",
        "Dep. Variable:              converted   No. Observations:                 5497\n",
        "Model:                          Logit   Df Residuals:                     5478\n",
        "Method:                           MLE   Df Model:                           18\n",
        "Date:                Fri, 14 Mar 2014   Pseudo R-squ.:                 0.06491\n",
        "Time:                        21:18:00   Log-Likelihood:                -3559.7\n",
        "converged:                       True   LL-Null:                       -3806.8\n",
        "                                        LLR p-value:                 1.732e-93\n",
        "================================================================================\n",
        "                   coef    std err          z      P>|z|      [95.0% Conf. Int.]\n",
        "--------------------------------------------------------------------------------\n",
        "intercept       -1.4685      0.339     -4.332      0.000        -2.133    -0.804\n",
        "togo0t1          2.3090      0.333      6.927      0.000         1.656     2.962\n",
        "togo2t3          1.6963      0.336      5.053      0.000         1.038     2.354\n",
        "togo4t5          1.3731      0.339      4.056      0.000         0.710     2.037\n",
        "togo6t7          1.2440      0.344      3.621      0.000         0.571     1.917\n",
        "togo8t10         1.1972      0.340      3.522      0.000         0.531     1.863\n",
        "togo11t13        0.7672      0.361      2.125      0.034         0.060     1.475\n",
        "togo14t16        0.5819      0.375      1.551      0.121        -0.153     1.317\n",
        "togo17t20        0.3028      0.402      0.753      0.452        -0.486     1.091\n",
        "offrank1t5       0.2992      0.097      3.070      0.002         0.108     0.490\n",
        "offrank6t10      0.1250      0.092      1.364      0.172        -0.055     0.305\n",
        "offrank11t15     0.2268      0.093      2.439      0.015         0.045     0.409\n",
        "offrank16t20     0.0938      0.090      1.041      0.298        -0.083     0.270\n",
        "offrank21t25     0.0037      0.090      0.041      0.968        -0.173     0.180\n",
        "defrank1t5      -0.3765      0.096     -3.926      0.000        -0.565    -0.189\n",
        "defrank6t10     -0.3776      0.095     -3.989      0.000        -0.563    -0.192\n",
        "defrank11t15    -0.2938      0.094     -3.128      0.002        -0.478    -0.110\n",
        "defrank16t20    -0.2368      0.098     -2.414      0.016        -0.429    -0.045\n",
        "defrank21t25    -0.1255      0.100     -1.261      0.207        -0.321     0.070\n",
        "================================================================================\n",
        "\"\"\""
       ]
      }
     ],
     "prompt_number": 25
    },
    {
     "cell_type": "code",
     "collapsed": false,
     "input": [
      "go_for_it_result.predict([1, 1, 0, 0, 0, 0, 0, 0, 0, 1, 0, 0, 0, 0, 1, 0, 0, 0, 0], True)"
     ],
     "language": "python",
     "metadata": {},
     "outputs": [
      {
       "metadata": {},
       "output_type": "pyout",
       "prompt_number": 26,
       "text": [
        "0.68204152140541929"
       ]
      }
     ],
     "prompt_number": 26
    },
    {
     "cell_type": "heading",
     "level": 4,
     "metadata": {},
     "source": [
      "convert_prob is a three dimensional matrix that gives the probability of the offensive team converting a first down given how many yards to go for the first down, the offensive rank of the offense and the defensive rank of the defense."
     ]
    },
    {
     "cell_type": "code",
     "collapsed": false,
     "input": [
      "convert_prob = np.ndarray(shape = (9, 6, 6)) #i -> yards to go, j -> offensive rank, k -> defensive rank\n",
      "\n",
      "convert_prob[:][:][:] = 0\n",
      "convert_vec = [1, 0, 0, 0, 0, 0, 0, 0, 0, 0, 0, 0, 0, 0, 0, 0, 0, 0, 0]\n",
      "for i in range(8):\n",
      "    for j in range(5):\n",
      "        for k in range(5):\n",
      "            convert_vec[18] = 0\n",
      "            convert_vec[k + 14] = 1\n",
      "            convert_vec[k + 13] = 0\n",
      "            convert_vec[j + 9] = 1\n",
      "            convert_vec[j + 8] = 0\n",
      "            convert_vec[i + 1] = 1\n",
      "            convert_vec[i] = 0\n",
      "            convert_vec[0] = 1\n",
      "            convert_prob[i][j][k] = go_for_it_result.predict(convert_vec, True)\n",
      "            \n",
      "convert_vec = [1, 0, 0, 0, 0, 0, 0, 0, 0, 0, 0, 0, 0, 0, 0, 0, 0, 0, 0]           \n",
      "for i in range(8):\n",
      "    for j in range(5):\n",
      "        convert_vec[13] = 0\n",
      "        convert_vec[j + 9] = 1\n",
      "        convert_vec[j + 8] = 0\n",
      "        convert_vec[i + 1] = 1\n",
      "        convert_vec[i] = 0\n",
      "        convert_vec[0] = 1\n",
      "        convert_prob[i][j][5] = go_for_it_result.predict(convert_vec, True)\n",
      "\n",
      "convert_vec = [1, 0, 0, 0, 0, 0, 0, 0, 0, 0, 0, 0, 0, 0, 0, 0, 0, 0, 0]           \n",
      "for i in range(8):\n",
      "    for k in range(5):\n",
      "        convert_vec[18] = 0\n",
      "        convert_vec[k + 14] = 1\n",
      "        convert_vec[k + 13] = 0\n",
      "        convert_vec[i + 1] = 1\n",
      "        convert_vec[i] = 0\n",
      "        convert_vec[0] = 1\n",
      "        convert_prob[i][5][k] = go_for_it_result.predict(convert_vec, True)\n",
      "        \n",
      "convert_vec = [1, 0, 0, 0, 0, 0, 0, 0, 0, 0, 0, 0, 0, 0, 0, 0, 0, 0, 0]           \n",
      "for j in range(5):\n",
      "    for k in range(5):\n",
      "        convert_vec[18] = 0\n",
      "        convert_vec[k + 14] = 1\n",
      "        convert_vec[k + 13] = 0\n",
      "        convert_vec[j + 9] = 1\n",
      "        convert_vec[j + 8] = 0\n",
      "        convert_vec[0] = 1\n",
      "        convert_prob[8][j][k] = go_for_it_result.predict(convert_vec, True)\n",
      "        \n",
      "convert_vec = [1, 0, 0, 0, 0, 0, 0, 0, 0, 0, 0, 0, 0, 0, 0, 0, 0, 0, 0]           \n",
      "for i in range(8):\n",
      "    convert_vec[8] = 0\n",
      "    convert_vec[i + 1] = 1\n",
      "    convert_vec[i] = 0\n",
      "    convert_vec[0] = 1\n",
      "    convert_prob[i][5][5] = go_for_it_result.predict(convert_vec, True)\n",
      "    \n",
      "convert_vec = [1, 0, 0, 0, 0, 0, 0, 0, 0, 0, 0, 0, 0, 0, 0, 0, 0, 0, 0]           \n",
      "for k in range(5):\n",
      "    convert_vec[18] = 0\n",
      "    convert_vec[k + 14] = 1\n",
      "    convert_vec[k + 13] = 0\n",
      "    convert_vec[0] = 1\n",
      "    convert_prob[8][5][k] = go_for_it_result.predict(convert_vec, True)\n",
      "    \n",
      "convert_vec = [1, 0, 0, 0, 0, 0, 0, 0, 0, 0, 0, 0, 0, 0, 0, 0, 0, 0, 0]           \n",
      "for j in range(5):\n",
      "    convert_vec[13] = 0\n",
      "    convert_vec[j + 9] = 1\n",
      "    convert_vec[j + 8] = 0\n",
      "    convert_vec[0] = 1\n",
      "    convert_prob[8][j][5] = go_for_it_result.predict(convert_vec, True)\n",
      "    \n",
      "convert_vec = [1, 0, 0, 0, 0, 0, 0, 0, 0, 0, 0, 0, 0, 0, 0, 0, 0, 0, 0] \n",
      "convert_prob[8][5][5] = go_for_it_result.predict(convert_vec, True)\n",
      "\n",
      "#convert_prob"
     ],
     "language": "python",
     "metadata": {},
     "outputs": [],
     "prompt_number": 27
    },
    {
     "cell_type": "heading",
     "level": 4,
     "metadata": {},
     "source": [
      "The following function will determine the choice to be made given yard line, yards to go, both offensive and defensive rankings of the offensive and defensive teams."
     ]
    },
    {
     "cell_type": "code",
     "collapsed": false,
     "input": [
      "def decision(ydline, ydtogo, oorank, odrank, ddrank, dorank):\n",
      "    oorank = 0 if 1 <= oorank <= 5 else 1 if 6 <= oorank <= 10 else 2 if 11 <= oorank <= 15 else 3 if 16 <= oorank <= 20 else 4 if 21 <= oorank <= 25 else 5 \n",
      "    odrank = 0 if 1 <= oorank <= 5 else 1 if 6 <= oorank <= 10 else 2 if 11 <= oorank <= 15 else 3 if 16 <= oorank <= 20 else 4 if 21 <= oorank <= 25 else 5 \n",
      "    ddrank = 0 if 1 <= oorank <= 5 else 1 if 6 <= oorank <= 10 else 2 if 11 <= oorank <= 15 else 3 if 16 <= oorank <= 20 else 4 if 21 <= oorank <= 25 else 5 \n",
      "    dorank = 0 if 1 <= oorank <= 5 else 1 if 6 <= oorank <= 10 else 2 if 11 <= oorank <= 15 else 3 if 16 <= oorank <= 20 else 4 if 21 <= oorank <= 25 else 5 \n",
      "    ydtogo = 1 if 0 <= ydtogo < 2 else 2 if 2 <= ydtogo < 4 else 3 if 4 <= ydtogo < 6 else 4 if 6 <= ydtogo < 8 else 5 if 8 <= ydtogo < 11 else 6 if 11 <= ydtogo < 14 else 7 if 14 <= ydtogo < 17 else 8 if 17 <= ydtogo < 21 else 0 \n",
      "    ydlinebucket = 0 if 0 <= ydline <= 5 else 1 if 6 <= ydline <= 10 else 2 if 11 <= ydline <= 15 else 3 if 16 <= ydline <= 20 else 4 if 21 <= ydline <= 25 else 5 if 26 <= ydline <= 30 else 6 if 31 <= ydline <= 35 else 7 if 36 <= ydline <= 40 else 8 if 41 <= ydline <= 45 else 9 if 46 <= ydline <= 50 else 10 if 51 <= ydline <= 55 else 11 if 56 <= ydline <= 60 else 12 if 61 <= ydline <= 65 else 13 if 66 <= ydline <= 70 else 14 if 71 <= ydline <= 75 else 15 if 76 <= ydline <= 80 else 16 if 81 <= ydline <= 85 else 17 if 86 <= ydline <= 90 else 18 if 91 <= ydline <= 95 else 19 \n",
      "    otherydlinebucket = 0 if 0 <= 100 - ydline <= 5 else 1 if 6 <= 100 - ydline <= 10 else 2 if 11 <= 100 - ydline <= 15 else 3 if 16 <= 100 - ydline <= 20 else 4 if 21 <= 100 - ydline <= 25 else 5 if 26 <= 100 - ydline <= 30 else 6 if 31 <= 100 - ydline <= 35 else 7 if 36 <= 100 - ydline <= 40 else 8 if 41 <= 100 - ydline <= 45 else 9 if 46 <= 100 - ydline <= 50 else 10 if 51 <= 100 - ydline <= 55 else 11 if 56 <= 100 - ydline <= 60 else 12 if 61 <= 100 - ydline <= 65 else 13 if 66 <= 100 - ydline <= 70 else 14 if 71 <= 100 - ydline <= 75 else 15 if 76 <= 100 - ydline <= 80 else 16 if 81 <= 100 - ydline <= 85 else 17 if 86 <= 100 - ydline <= 90 else 18 if 91 <= 100 - ydline <= 95 else 19 \n",
      "    orankbucket = 9 if oorank == 0 else 10 if oorank == 1 else 11 if oorank == 2 else 12 if oorank == 3 else 13 if oorank == 4 else 0\n",
      "    drankbucket = 14 if ddrank == 0 else 15 if ddrank == 1 else 16 if ddrank == 2 else 17 if ddrank == 3 else 18 if ddrank == 4 else 0\n",
      "    vec = [1, 0, 0, 0, 0, 0, 0, 0, 0, 0, 0, 0, 0, 0, 0, 0, 0, 0, 0]\n",
      "    vec[ydtogo] = 1\n",
      "    vec[orankbucket] = 1\n",
      "    vec[drankbucket] = 1\n",
      "    gfis = knn_gfis.fit(X_gfis,y_gfis).predict([ydlinebucket, oorank, ddrank])\n",
      "    gfif = knn_gfif.fit(X_gfif,y_gfif).predict([otherydlinebucket, oorank, odrank, dorank, ddrank])\n",
      "    punt = knn_punt.fit(X_punt,y_punt).predict([ydline, oorank, odrank, dorank, ddrank])\n",
      "    fg_prob = field_goal_result.predict([1, ydline], True)\n",
      "    gfi_prob = go_for_it_result.predict(vec, True)\n",
      "    punt_exp = punt\n",
      "    gfi_exp = gfis*gfi_prob + gfif*(1 - gfi_prob)\n",
      "    fg_exp = 3*fg_prob + gfif*(1 - fg_prob)\n",
      "    dec = {'Go For It': gfi_exp, 'Punt': punt_exp, 'Field Goal': fg_exp}\n",
      "    return dec"
     ],
     "language": "python",
     "metadata": {},
     "outputs": [],
     "prompt_number": 28
    },
    {
     "cell_type": "code",
     "collapsed": false,
     "input": [
      "decision(70, 1, 2, 32, 32, 20)"
     ],
     "language": "python",
     "metadata": {},
     "outputs": [
      {
       "metadata": {},
       "output_type": "pyout",
       "prompt_number": 29,
       "text": [
        "{'Field Goal': array([[-1.86413343]]),\n",
        " 'Go For It': array([[ 0.78161627]]),\n",
        " 'Punt': array([[ 0.0375]])}"
       ]
      }
     ],
     "prompt_number": 29
    },
    {
     "cell_type": "code",
     "collapsed": false,
     "input": [
      "x = range(20)\n",
      "d1 = [decision(80, k, 1, 2, 2, 1) for k in x]\n",
      "d1 = pd.DataFrame(d1)\n",
      "d2 = [decision(60, k, 1, 2, 2, 1) for k in x]\n",
      "d2 = pd.DataFrame(d2)\n",
      "d3 = [decision(40, k, 1, 2, 2, 1) for k in x]\n",
      "d3 = pd.DataFrame(d3)\n",
      "d4 = [decision(20, k, 1, 2, 2, 1) for k in x]\n",
      "d4 = pd.DataFrame(d4)\n"
     ],
     "language": "python",
     "metadata": {},
     "outputs": [],
     "prompt_number": 46
    },
    {
     "cell_type": "code",
     "collapsed": false,
     "input": [
      "d5 = [decision(80, k, 11, 12, 12, 11) for k in x]\n",
      "d5 = pd.DataFrame(d5)\n",
      "d6 = [decision(60, k, 11, 12, 12, 11) for k in x]\n",
      "d6 = pd.DataFrame(d6)\n",
      "d7 = [decision(40, k, 11, 12, 12, 11) for k in x]\n",
      "d7 = pd.DataFrame(d7)\n",
      "d8 = [decision(20, k, 11, 12, 12, 11) for k in x]\n",
      "d8 = pd.DataFrame(d8)\n",
      "d9 = [decision(80, k, 24, 25, 25, 24) for k in x]\n",
      "d9 = pd.DataFrame(d9)\n",
      "d10 = [decision(60, k, 24, 25, 25, 24) for k in x]\n",
      "d10 = pd.DataFrame(d10)\n",
      "d11 = [decision(40, k, 24, 25, 25, 24) for k in x]\n",
      "d11 = pd.DataFrame(d11)\n",
      "d12 = [decision(20, k, 24, 25, 25, 24) for k in x]\n",
      "d12 = pd.DataFrame(d12)"
     ],
     "language": "python",
     "metadata": {},
     "outputs": []
    },
    {
     "cell_type": "code",
     "collapsed": false,
     "input": [
      "fig, ax = plt.subplots()\n",
      "ax.plot(d1.index, d1['Field Goal'], label = \"Field Goal - 80 Yards\")\n",
      "ax.plot(d1.index, d1['Go For It'], label = \"Go For It - 80 Yards\")\n",
      "ax.plot(d1.index, d1['Punt'], label = \"Punt - 80 Yards\")\n",
      "ax.plot(d2.index, d2['Field Goal'], label = \"Field Goal - 60 Yards\")\n",
      "ax.plot(d2.index, d2['Go For It'], label = \"Go For It - 60 Yards\")\n",
      "ax.plot(d2.index, d2['Punt'], label = \"Punt - 60 Yards\")\n",
      "ax.plot(d3.index, d3['Field Goal'], label = \"Field Goal - 40 Yards\")\n",
      "ax.plot(d3.index, d3['Go For It'], label = \"Go For It - 40 Yards\")\n",
      "ax.plot(d3.index, d3['Punt'], label = \"Punt - 40 Yards\")\n",
      "ax.plot(d4.index, d4['Field Goal'], label = \"Field Goal - 20 Yards\")\n",
      "ax.plot(d4.index, d4['Go For It'], label = \"Go For It - 20 Yards\")\n",
      "ax.plot(d4.index, d4['Punt'], label = \"Punt - 20 Yards\")\n",
      "xlabel(\"Yards To Go\")\n",
      "ylabel(\"Expected Number of Points Given Decision\")\n",
      "title(\"Expected Number of Points Given Decision, Top Offensive and Defensive Ranked Teams\")\n",
      "legend = ax.legend(loc=(.8, .02), fontsize = 1, frameon = True, borderpad = 10)\n",
      "for label in legend.get_texts():\n",
      "    label.set_fontsize('small')\n",
      "\n",
      "for label in legend.get_lines():\n",
      "    label.set_linewidth(1.5)  # the legend line width\n",
      "    \n",
      "savefig('EP1221.pdf')\n",
      "plt.show()"
     ],
     "language": "python",
     "metadata": {},
     "outputs": [
      {
       "ename": "KeyboardInterrupt",
       "evalue": "",
       "output_type": "pyerr",
       "traceback": [
        "\u001b[0;31m---------------------------------------------------------------------------\u001b[0m\n\u001b[0;31mKeyboardInterrupt\u001b[0m                         Traceback (most recent call last)",
        "\u001b[0;32m<ipython-input-47-d68da4eca8ea>\u001b[0m in \u001b[0;36m<module>\u001b[0;34m()\u001b[0m\n\u001b[1;32m     16\u001b[0m \u001b[0;34m\u001b[0m\u001b[0m\n\u001b[1;32m     17\u001b[0m \u001b[0msavefig\u001b[0m\u001b[0;34m(\u001b[0m\u001b[0;34m'EP501221.pdf'\u001b[0m\u001b[0;34m)\u001b[0m\u001b[0;34m\u001b[0m\u001b[0m\n\u001b[0;32m---> 18\u001b[0;31m \u001b[0mplt\u001b[0m\u001b[0;34m.\u001b[0m\u001b[0mshow\u001b[0m\u001b[0;34m(\u001b[0m\u001b[0;34m)\u001b[0m\u001b[0;34m\u001b[0m\u001b[0m\n\u001b[0m",
        "\u001b[0;32m//anaconda/lib/python2.7/site-packages/matplotlib/pyplot.pyc\u001b[0m in \u001b[0;36mshow\u001b[0;34m(*args, **kw)\u001b[0m\n\u001b[1;32m    143\u001b[0m     \"\"\"\n\u001b[1;32m    144\u001b[0m     \u001b[0;32mglobal\u001b[0m \u001b[0m_show\u001b[0m\u001b[0;34m\u001b[0m\u001b[0m\n\u001b[0;32m--> 145\u001b[0;31m     \u001b[0m_show\u001b[0m\u001b[0;34m(\u001b[0m\u001b[0;34m*\u001b[0m\u001b[0margs\u001b[0m\u001b[0;34m,\u001b[0m \u001b[0;34m**\u001b[0m\u001b[0mkw\u001b[0m\u001b[0;34m)\u001b[0m\u001b[0;34m\u001b[0m\u001b[0m\n\u001b[0m\u001b[1;32m    146\u001b[0m \u001b[0;34m\u001b[0m\u001b[0m\n\u001b[1;32m    147\u001b[0m \u001b[0;34m\u001b[0m\u001b[0m\n",
        "\u001b[0;32m//anaconda/lib/python2.7/site-packages/IPython/kernel/zmq/pylab/backend_inline.pyc\u001b[0m in \u001b[0;36mshow\u001b[0;34m(close)\u001b[0m\n\u001b[1;32m    101\u001b[0m     \u001b[0;32mtry\u001b[0m\u001b[0;34m:\u001b[0m\u001b[0;34m\u001b[0m\u001b[0m\n\u001b[1;32m    102\u001b[0m         \u001b[0;32mfor\u001b[0m \u001b[0mfigure_manager\u001b[0m \u001b[0;32min\u001b[0m \u001b[0mGcf\u001b[0m\u001b[0;34m.\u001b[0m\u001b[0mget_all_fig_managers\u001b[0m\u001b[0;34m(\u001b[0m\u001b[0;34m)\u001b[0m\u001b[0;34m:\u001b[0m\u001b[0;34m\u001b[0m\u001b[0m\n\u001b[0;32m--> 103\u001b[0;31m             \u001b[0mdisplay\u001b[0m\u001b[0;34m(\u001b[0m\u001b[0mfigure_manager\u001b[0m\u001b[0;34m.\u001b[0m\u001b[0mcanvas\u001b[0m\u001b[0;34m.\u001b[0m\u001b[0mfigure\u001b[0m\u001b[0;34m)\u001b[0m\u001b[0;34m\u001b[0m\u001b[0m\n\u001b[0m\u001b[1;32m    104\u001b[0m     \u001b[0;32mfinally\u001b[0m\u001b[0;34m:\u001b[0m\u001b[0;34m\u001b[0m\u001b[0m\n\u001b[1;32m    105\u001b[0m         \u001b[0mshow\u001b[0m\u001b[0;34m.\u001b[0m\u001b[0m_to_draw\u001b[0m \u001b[0;34m=\u001b[0m \u001b[0;34m[\u001b[0m\u001b[0;34m]\u001b[0m\u001b[0;34m\u001b[0m\u001b[0m\n",
        "\u001b[0;32m//anaconda/lib/python2.7/site-packages/IPython/core/display.pyc\u001b[0m in \u001b[0;36mdisplay\u001b[0;34m(*objs, **kwargs)\u001b[0m\n\u001b[1;32m    116\u001b[0m         \u001b[0mformat\u001b[0m \u001b[0;34m=\u001b[0m \u001b[0mInteractiveShell\u001b[0m\u001b[0;34m.\u001b[0m\u001b[0minstance\u001b[0m\u001b[0;34m(\u001b[0m\u001b[0;34m)\u001b[0m\u001b[0;34m.\u001b[0m\u001b[0mdisplay_formatter\u001b[0m\u001b[0;34m.\u001b[0m\u001b[0mformat\u001b[0m\u001b[0;34m\u001b[0m\u001b[0m\n\u001b[1;32m    117\u001b[0m         \u001b[0;32mfor\u001b[0m \u001b[0mobj\u001b[0m \u001b[0;32min\u001b[0m \u001b[0mobjs\u001b[0m\u001b[0;34m:\u001b[0m\u001b[0;34m\u001b[0m\u001b[0m\n\u001b[0;32m--> 118\u001b[0;31m             \u001b[0mformat_dict\u001b[0m\u001b[0;34m,\u001b[0m \u001b[0mmd_dict\u001b[0m \u001b[0;34m=\u001b[0m \u001b[0mformat\u001b[0m\u001b[0;34m(\u001b[0m\u001b[0mobj\u001b[0m\u001b[0;34m,\u001b[0m \u001b[0minclude\u001b[0m\u001b[0;34m=\u001b[0m\u001b[0minclude\u001b[0m\u001b[0;34m,\u001b[0m \u001b[0mexclude\u001b[0m\u001b[0;34m=\u001b[0m\u001b[0mexclude\u001b[0m\u001b[0;34m)\u001b[0m\u001b[0;34m\u001b[0m\u001b[0m\n\u001b[0m\u001b[1;32m    119\u001b[0m             \u001b[0;32mif\u001b[0m \u001b[0mmetadata\u001b[0m\u001b[0;34m:\u001b[0m\u001b[0;34m\u001b[0m\u001b[0m\n\u001b[1;32m    120\u001b[0m                 \u001b[0;31m# kwarg-specified metadata gets precedence\u001b[0m\u001b[0;34m\u001b[0m\u001b[0;34m\u001b[0m\u001b[0m\n",
        "\u001b[0;32m//anaconda/lib/python2.7/site-packages/IPython/core/formatters.pyc\u001b[0m in \u001b[0;36mformat\u001b[0;34m(self, obj, include, exclude)\u001b[0m\n\u001b[1;32m    150\u001b[0m             \u001b[0mmd\u001b[0m \u001b[0;34m=\u001b[0m \u001b[0mNone\u001b[0m\u001b[0;34m\u001b[0m\u001b[0m\n\u001b[1;32m    151\u001b[0m             \u001b[0;32mtry\u001b[0m\u001b[0;34m:\u001b[0m\u001b[0;34m\u001b[0m\u001b[0m\n\u001b[0;32m--> 152\u001b[0;31m                 \u001b[0mdata\u001b[0m \u001b[0;34m=\u001b[0m \u001b[0mformatter\u001b[0m\u001b[0;34m(\u001b[0m\u001b[0mobj\u001b[0m\u001b[0;34m)\u001b[0m\u001b[0;34m\u001b[0m\u001b[0m\n\u001b[0m\u001b[1;32m    153\u001b[0m             \u001b[0;32mexcept\u001b[0m\u001b[0;34m:\u001b[0m\u001b[0;34m\u001b[0m\u001b[0m\n\u001b[1;32m    154\u001b[0m                 \u001b[0;31m# FIXME: log the exception\u001b[0m\u001b[0;34m\u001b[0m\u001b[0;34m\u001b[0m\u001b[0m\n",
        "\u001b[0;32m//anaconda/lib/python2.7/site-packages/IPython/core/formatters.pyc\u001b[0m in \u001b[0;36m__call__\u001b[0;34m(self, obj)\u001b[0m\n\u001b[1;32m    270\u001b[0m                 \u001b[0;32mfor\u001b[0m \u001b[0mcls\u001b[0m \u001b[0;32min\u001b[0m \u001b[0mpretty\u001b[0m\u001b[0;34m.\u001b[0m\u001b[0m_get_mro\u001b[0m\u001b[0;34m(\u001b[0m\u001b[0mobj_class\u001b[0m\u001b[0;34m)\u001b[0m\u001b[0;34m:\u001b[0m\u001b[0;34m\u001b[0m\u001b[0m\n\u001b[1;32m    271\u001b[0m                     \u001b[0;32mif\u001b[0m \u001b[0mcls\u001b[0m \u001b[0;32min\u001b[0m \u001b[0mself\u001b[0m\u001b[0;34m.\u001b[0m\u001b[0mtype_printers\u001b[0m\u001b[0;34m:\u001b[0m\u001b[0;34m\u001b[0m\u001b[0m\n\u001b[0;32m--> 272\u001b[0;31m                         \u001b[0;32mreturn\u001b[0m \u001b[0mself\u001b[0m\u001b[0;34m.\u001b[0m\u001b[0mtype_printers\u001b[0m\u001b[0;34m[\u001b[0m\u001b[0mcls\u001b[0m\u001b[0;34m]\u001b[0m\u001b[0;34m(\u001b[0m\u001b[0mobj\u001b[0m\u001b[0;34m)\u001b[0m\u001b[0;34m\u001b[0m\u001b[0m\n\u001b[0m\u001b[1;32m    273\u001b[0m                     \u001b[0;32melse\u001b[0m\u001b[0;34m:\u001b[0m\u001b[0;34m\u001b[0m\u001b[0m\n\u001b[1;32m    274\u001b[0m                         \u001b[0mprinter\u001b[0m \u001b[0;34m=\u001b[0m \u001b[0mself\u001b[0m\u001b[0;34m.\u001b[0m\u001b[0m_in_deferred_types\u001b[0m\u001b[0;34m(\u001b[0m\u001b[0mcls\u001b[0m\u001b[0;34m)\u001b[0m\u001b[0;34m\u001b[0m\u001b[0m\n",
        "\u001b[0;32m//anaconda/lib/python2.7/site-packages/IPython/core/pylabtools.pyc\u001b[0m in \u001b[0;36m<lambda>\u001b[0;34m(fig)\u001b[0m\n\u001b[1;32m    174\u001b[0m     \u001b[0;32mif\u001b[0m \u001b[0mfmt\u001b[0m \u001b[0;34m==\u001b[0m \u001b[0;34m'png'\u001b[0m\u001b[0;34m:\u001b[0m\u001b[0;34m\u001b[0m\u001b[0m\n\u001b[1;32m    175\u001b[0m         \u001b[0msvg_formatter\u001b[0m\u001b[0;34m.\u001b[0m\u001b[0mtype_printers\u001b[0m\u001b[0;34m.\u001b[0m\u001b[0mpop\u001b[0m\u001b[0;34m(\u001b[0m\u001b[0mFigure\u001b[0m\u001b[0;34m,\u001b[0m \u001b[0mNone\u001b[0m\u001b[0;34m)\u001b[0m\u001b[0;34m\u001b[0m\u001b[0m\n\u001b[0;32m--> 176\u001b[0;31m         \u001b[0mpng_formatter\u001b[0m\u001b[0;34m.\u001b[0m\u001b[0mfor_type\u001b[0m\u001b[0;34m(\u001b[0m\u001b[0mFigure\u001b[0m\u001b[0;34m,\u001b[0m \u001b[0;32mlambda\u001b[0m \u001b[0mfig\u001b[0m\u001b[0;34m:\u001b[0m \u001b[0mprint_figure\u001b[0m\u001b[0;34m(\u001b[0m\u001b[0mfig\u001b[0m\u001b[0;34m,\u001b[0m \u001b[0;34m'png'\u001b[0m\u001b[0;34m)\u001b[0m\u001b[0;34m)\u001b[0m\u001b[0;34m\u001b[0m\u001b[0m\n\u001b[0m\u001b[1;32m    177\u001b[0m     \u001b[0;32melif\u001b[0m \u001b[0mfmt\u001b[0m \u001b[0;32min\u001b[0m \u001b[0;34m(\u001b[0m\u001b[0;34m'png2x'\u001b[0m\u001b[0;34m,\u001b[0m \u001b[0;34m'retina'\u001b[0m\u001b[0;34m)\u001b[0m\u001b[0;34m:\u001b[0m\u001b[0;34m\u001b[0m\u001b[0m\n\u001b[1;32m    178\u001b[0m         \u001b[0msvg_formatter\u001b[0m\u001b[0;34m.\u001b[0m\u001b[0mtype_printers\u001b[0m\u001b[0;34m.\u001b[0m\u001b[0mpop\u001b[0m\u001b[0;34m(\u001b[0m\u001b[0mFigure\u001b[0m\u001b[0;34m,\u001b[0m \u001b[0mNone\u001b[0m\u001b[0;34m)\u001b[0m\u001b[0;34m\u001b[0m\u001b[0m\n",
        "\u001b[0;32m//anaconda/lib/python2.7/site-packages/IPython/core/pylabtools.pyc\u001b[0m in \u001b[0;36mprint_figure\u001b[0;34m(fig, fmt)\u001b[0m\n\u001b[1;32m    108\u001b[0m         \u001b[0mfmt\u001b[0m \u001b[0;34m=\u001b[0m \u001b[0;34m'png'\u001b[0m\u001b[0;34m\u001b[0m\u001b[0m\n\u001b[1;32m    109\u001b[0m     fig.canvas.print_figure(bytes_io, format=fmt, bbox_inches='tight',\n\u001b[0;32m--> 110\u001b[0;31m                             facecolor=fc, edgecolor=ec, dpi=dpi)\n\u001b[0m\u001b[1;32m    111\u001b[0m     \u001b[0mdata\u001b[0m \u001b[0;34m=\u001b[0m \u001b[0mbytes_io\u001b[0m\u001b[0;34m.\u001b[0m\u001b[0mgetvalue\u001b[0m\u001b[0;34m(\u001b[0m\u001b[0;34m)\u001b[0m\u001b[0;34m\u001b[0m\u001b[0m\n\u001b[1;32m    112\u001b[0m     \u001b[0;32mreturn\u001b[0m \u001b[0mdata\u001b[0m\u001b[0;34m\u001b[0m\u001b[0m\n",
        "\u001b[0;32m//anaconda/lib/python2.7/site-packages/matplotlib/backend_bases.pyc\u001b[0m in \u001b[0;36mprint_figure\u001b[0;34m(self, filename, dpi, facecolor, edgecolor, orientation, format, **kwargs)\u001b[0m\n\u001b[1;32m   2218\u001b[0m                 \u001b[0morientation\u001b[0m\u001b[0;34m=\u001b[0m\u001b[0morientation\u001b[0m\u001b[0;34m,\u001b[0m\u001b[0;34m\u001b[0m\u001b[0m\n\u001b[1;32m   2219\u001b[0m                 \u001b[0mbbox_inches_restore\u001b[0m\u001b[0;34m=\u001b[0m\u001b[0m_bbox_inches_restore\u001b[0m\u001b[0;34m,\u001b[0m\u001b[0;34m\u001b[0m\u001b[0m\n\u001b[0;32m-> 2220\u001b[0;31m                 **kwargs)\n\u001b[0m\u001b[1;32m   2221\u001b[0m         \u001b[0;32mfinally\u001b[0m\u001b[0;34m:\u001b[0m\u001b[0;34m\u001b[0m\u001b[0m\n\u001b[1;32m   2222\u001b[0m             \u001b[0;32mif\u001b[0m \u001b[0mbbox_inches\u001b[0m \u001b[0;32mand\u001b[0m \u001b[0mrestore_bbox\u001b[0m\u001b[0;34m:\u001b[0m\u001b[0;34m\u001b[0m\u001b[0m\n",
        "\u001b[0;32m//anaconda/lib/python2.7/site-packages/matplotlib/backends/backend_agg.pyc\u001b[0m in \u001b[0;36mprint_png\u001b[0;34m(self, filename_or_obj, *args, **kwargs)\u001b[0m\n\u001b[1;32m    503\u001b[0m \u001b[0;34m\u001b[0m\u001b[0m\n\u001b[1;32m    504\u001b[0m     \u001b[0;32mdef\u001b[0m \u001b[0mprint_png\u001b[0m\u001b[0;34m(\u001b[0m\u001b[0mself\u001b[0m\u001b[0;34m,\u001b[0m \u001b[0mfilename_or_obj\u001b[0m\u001b[0;34m,\u001b[0m \u001b[0;34m*\u001b[0m\u001b[0margs\u001b[0m\u001b[0;34m,\u001b[0m \u001b[0;34m**\u001b[0m\u001b[0mkwargs\u001b[0m\u001b[0;34m)\u001b[0m\u001b[0;34m:\u001b[0m\u001b[0;34m\u001b[0m\u001b[0m\n\u001b[0;32m--> 505\u001b[0;31m         \u001b[0mFigureCanvasAgg\u001b[0m\u001b[0;34m.\u001b[0m\u001b[0mdraw\u001b[0m\u001b[0;34m(\u001b[0m\u001b[0mself\u001b[0m\u001b[0;34m)\u001b[0m\u001b[0;34m\u001b[0m\u001b[0m\n\u001b[0m\u001b[1;32m    506\u001b[0m         \u001b[0mrenderer\u001b[0m \u001b[0;34m=\u001b[0m \u001b[0mself\u001b[0m\u001b[0;34m.\u001b[0m\u001b[0mget_renderer\u001b[0m\u001b[0;34m(\u001b[0m\u001b[0;34m)\u001b[0m\u001b[0;34m\u001b[0m\u001b[0m\n\u001b[1;32m    507\u001b[0m         \u001b[0moriginal_dpi\u001b[0m \u001b[0;34m=\u001b[0m \u001b[0mrenderer\u001b[0m\u001b[0;34m.\u001b[0m\u001b[0mdpi\u001b[0m\u001b[0;34m\u001b[0m\u001b[0m\n",
        "\u001b[0;32m//anaconda/lib/python2.7/site-packages/matplotlib/backends/backend_agg.pyc\u001b[0m in \u001b[0;36mdraw\u001b[0;34m(self)\u001b[0m\n\u001b[1;32m    449\u001b[0m \u001b[0;34m\u001b[0m\u001b[0m\n\u001b[1;32m    450\u001b[0m         \u001b[0;32mtry\u001b[0m\u001b[0;34m:\u001b[0m\u001b[0;34m\u001b[0m\u001b[0m\n\u001b[0;32m--> 451\u001b[0;31m             \u001b[0mself\u001b[0m\u001b[0;34m.\u001b[0m\u001b[0mfigure\u001b[0m\u001b[0;34m.\u001b[0m\u001b[0mdraw\u001b[0m\u001b[0;34m(\u001b[0m\u001b[0mself\u001b[0m\u001b[0;34m.\u001b[0m\u001b[0mrenderer\u001b[0m\u001b[0;34m)\u001b[0m\u001b[0;34m\u001b[0m\u001b[0m\n\u001b[0m\u001b[1;32m    452\u001b[0m         \u001b[0;32mfinally\u001b[0m\u001b[0;34m:\u001b[0m\u001b[0;34m\u001b[0m\u001b[0m\n\u001b[1;32m    453\u001b[0m             \u001b[0mRendererAgg\u001b[0m\u001b[0;34m.\u001b[0m\u001b[0mlock\u001b[0m\u001b[0;34m.\u001b[0m\u001b[0mrelease\u001b[0m\u001b[0;34m(\u001b[0m\u001b[0;34m)\u001b[0m\u001b[0;34m\u001b[0m\u001b[0m\n",
        "\u001b[0;32m//anaconda/lib/python2.7/site-packages/matplotlib/artist.pyc\u001b[0m in \u001b[0;36mdraw_wrapper\u001b[0;34m(artist, renderer, *args, **kwargs)\u001b[0m\n\u001b[1;32m     53\u001b[0m     \u001b[0;32mdef\u001b[0m \u001b[0mdraw_wrapper\u001b[0m\u001b[0;34m(\u001b[0m\u001b[0martist\u001b[0m\u001b[0;34m,\u001b[0m \u001b[0mrenderer\u001b[0m\u001b[0;34m,\u001b[0m \u001b[0;34m*\u001b[0m\u001b[0margs\u001b[0m\u001b[0;34m,\u001b[0m \u001b[0;34m**\u001b[0m\u001b[0mkwargs\u001b[0m\u001b[0;34m)\u001b[0m\u001b[0;34m:\u001b[0m\u001b[0;34m\u001b[0m\u001b[0m\n\u001b[1;32m     54\u001b[0m         \u001b[0mbefore\u001b[0m\u001b[0;34m(\u001b[0m\u001b[0martist\u001b[0m\u001b[0;34m,\u001b[0m \u001b[0mrenderer\u001b[0m\u001b[0;34m)\u001b[0m\u001b[0;34m\u001b[0m\u001b[0m\n\u001b[0;32m---> 55\u001b[0;31m         \u001b[0mdraw\u001b[0m\u001b[0;34m(\u001b[0m\u001b[0martist\u001b[0m\u001b[0;34m,\u001b[0m \u001b[0mrenderer\u001b[0m\u001b[0;34m,\u001b[0m \u001b[0;34m*\u001b[0m\u001b[0margs\u001b[0m\u001b[0;34m,\u001b[0m \u001b[0;34m**\u001b[0m\u001b[0mkwargs\u001b[0m\u001b[0;34m)\u001b[0m\u001b[0;34m\u001b[0m\u001b[0m\n\u001b[0m\u001b[1;32m     56\u001b[0m         \u001b[0mafter\u001b[0m\u001b[0;34m(\u001b[0m\u001b[0martist\u001b[0m\u001b[0;34m,\u001b[0m \u001b[0mrenderer\u001b[0m\u001b[0;34m)\u001b[0m\u001b[0;34m\u001b[0m\u001b[0m\n\u001b[1;32m     57\u001b[0m \u001b[0;34m\u001b[0m\u001b[0m\n",
        "\u001b[0;32m//anaconda/lib/python2.7/site-packages/matplotlib/figure.pyc\u001b[0m in \u001b[0;36mdraw\u001b[0;34m(self, renderer)\u001b[0m\n\u001b[1;32m   1032\u001b[0m         \u001b[0mdsu\u001b[0m\u001b[0;34m.\u001b[0m\u001b[0msort\u001b[0m\u001b[0;34m(\u001b[0m\u001b[0mkey\u001b[0m\u001b[0;34m=\u001b[0m\u001b[0mitemgetter\u001b[0m\u001b[0;34m(\u001b[0m\u001b[0;36m0\u001b[0m\u001b[0;34m)\u001b[0m\u001b[0;34m)\u001b[0m\u001b[0;34m\u001b[0m\u001b[0m\n\u001b[1;32m   1033\u001b[0m         \u001b[0;32mfor\u001b[0m \u001b[0mzorder\u001b[0m\u001b[0;34m,\u001b[0m \u001b[0ma\u001b[0m\u001b[0;34m,\u001b[0m \u001b[0mfunc\u001b[0m\u001b[0;34m,\u001b[0m \u001b[0margs\u001b[0m \u001b[0;32min\u001b[0m \u001b[0mdsu\u001b[0m\u001b[0;34m:\u001b[0m\u001b[0;34m\u001b[0m\u001b[0m\n\u001b[0;32m-> 1034\u001b[0;31m             \u001b[0mfunc\u001b[0m\u001b[0;34m(\u001b[0m\u001b[0;34m*\u001b[0m\u001b[0margs\u001b[0m\u001b[0;34m)\u001b[0m\u001b[0;34m\u001b[0m\u001b[0m\n\u001b[0m\u001b[1;32m   1035\u001b[0m \u001b[0;34m\u001b[0m\u001b[0m\n\u001b[1;32m   1036\u001b[0m         \u001b[0mrenderer\u001b[0m\u001b[0;34m.\u001b[0m\u001b[0mclose_group\u001b[0m\u001b[0;34m(\u001b[0m\u001b[0;34m'figure'\u001b[0m\u001b[0;34m)\u001b[0m\u001b[0;34m\u001b[0m\u001b[0m\n",
        "\u001b[0;32m//anaconda/lib/python2.7/site-packages/matplotlib/artist.pyc\u001b[0m in \u001b[0;36mdraw_wrapper\u001b[0;34m(artist, renderer, *args, **kwargs)\u001b[0m\n\u001b[1;32m     53\u001b[0m     \u001b[0;32mdef\u001b[0m \u001b[0mdraw_wrapper\u001b[0m\u001b[0;34m(\u001b[0m\u001b[0martist\u001b[0m\u001b[0;34m,\u001b[0m \u001b[0mrenderer\u001b[0m\u001b[0;34m,\u001b[0m \u001b[0;34m*\u001b[0m\u001b[0margs\u001b[0m\u001b[0;34m,\u001b[0m \u001b[0;34m**\u001b[0m\u001b[0mkwargs\u001b[0m\u001b[0;34m)\u001b[0m\u001b[0;34m:\u001b[0m\u001b[0;34m\u001b[0m\u001b[0m\n\u001b[1;32m     54\u001b[0m         \u001b[0mbefore\u001b[0m\u001b[0;34m(\u001b[0m\u001b[0martist\u001b[0m\u001b[0;34m,\u001b[0m \u001b[0mrenderer\u001b[0m\u001b[0;34m)\u001b[0m\u001b[0;34m\u001b[0m\u001b[0m\n\u001b[0;32m---> 55\u001b[0;31m         \u001b[0mdraw\u001b[0m\u001b[0;34m(\u001b[0m\u001b[0martist\u001b[0m\u001b[0;34m,\u001b[0m \u001b[0mrenderer\u001b[0m\u001b[0;34m,\u001b[0m \u001b[0;34m*\u001b[0m\u001b[0margs\u001b[0m\u001b[0;34m,\u001b[0m \u001b[0;34m**\u001b[0m\u001b[0mkwargs\u001b[0m\u001b[0;34m)\u001b[0m\u001b[0;34m\u001b[0m\u001b[0m\n\u001b[0m\u001b[1;32m     56\u001b[0m         \u001b[0mafter\u001b[0m\u001b[0;34m(\u001b[0m\u001b[0martist\u001b[0m\u001b[0;34m,\u001b[0m \u001b[0mrenderer\u001b[0m\u001b[0;34m)\u001b[0m\u001b[0;34m\u001b[0m\u001b[0m\n\u001b[1;32m     57\u001b[0m \u001b[0;34m\u001b[0m\u001b[0m\n",
        "\u001b[0;32m//anaconda/lib/python2.7/site-packages/matplotlib/axes.pyc\u001b[0m in \u001b[0;36mdraw\u001b[0;34m(self, renderer, inframe)\u001b[0m\n\u001b[1;32m   2084\u001b[0m \u001b[0;34m\u001b[0m\u001b[0m\n\u001b[1;32m   2085\u001b[0m         \u001b[0;32mfor\u001b[0m \u001b[0mzorder\u001b[0m\u001b[0;34m,\u001b[0m \u001b[0ma\u001b[0m \u001b[0;32min\u001b[0m \u001b[0mdsu\u001b[0m\u001b[0;34m:\u001b[0m\u001b[0;34m\u001b[0m\u001b[0m\n\u001b[0;32m-> 2086\u001b[0;31m             \u001b[0ma\u001b[0m\u001b[0;34m.\u001b[0m\u001b[0mdraw\u001b[0m\u001b[0;34m(\u001b[0m\u001b[0mrenderer\u001b[0m\u001b[0;34m)\u001b[0m\u001b[0;34m\u001b[0m\u001b[0m\n\u001b[0m\u001b[1;32m   2087\u001b[0m \u001b[0;34m\u001b[0m\u001b[0m\n\u001b[1;32m   2088\u001b[0m         \u001b[0mrenderer\u001b[0m\u001b[0;34m.\u001b[0m\u001b[0mclose_group\u001b[0m\u001b[0;34m(\u001b[0m\u001b[0;34m'axes'\u001b[0m\u001b[0;34m)\u001b[0m\u001b[0;34m\u001b[0m\u001b[0m\n",
        "\u001b[0;32m//anaconda/lib/python2.7/site-packages/matplotlib/artist.pyc\u001b[0m in \u001b[0;36mdraw_wrapper\u001b[0;34m(artist, renderer, *args, **kwargs)\u001b[0m\n\u001b[1;32m     53\u001b[0m     \u001b[0;32mdef\u001b[0m \u001b[0mdraw_wrapper\u001b[0m\u001b[0;34m(\u001b[0m\u001b[0martist\u001b[0m\u001b[0;34m,\u001b[0m \u001b[0mrenderer\u001b[0m\u001b[0;34m,\u001b[0m \u001b[0;34m*\u001b[0m\u001b[0margs\u001b[0m\u001b[0;34m,\u001b[0m \u001b[0;34m**\u001b[0m\u001b[0mkwargs\u001b[0m\u001b[0;34m)\u001b[0m\u001b[0;34m:\u001b[0m\u001b[0;34m\u001b[0m\u001b[0m\n\u001b[1;32m     54\u001b[0m         \u001b[0mbefore\u001b[0m\u001b[0;34m(\u001b[0m\u001b[0martist\u001b[0m\u001b[0;34m,\u001b[0m \u001b[0mrenderer\u001b[0m\u001b[0;34m)\u001b[0m\u001b[0;34m\u001b[0m\u001b[0m\n\u001b[0;32m---> 55\u001b[0;31m         \u001b[0mdraw\u001b[0m\u001b[0;34m(\u001b[0m\u001b[0martist\u001b[0m\u001b[0;34m,\u001b[0m \u001b[0mrenderer\u001b[0m\u001b[0;34m,\u001b[0m \u001b[0;34m*\u001b[0m\u001b[0margs\u001b[0m\u001b[0;34m,\u001b[0m \u001b[0;34m**\u001b[0m\u001b[0mkwargs\u001b[0m\u001b[0;34m)\u001b[0m\u001b[0;34m\u001b[0m\u001b[0m\n\u001b[0m\u001b[1;32m     56\u001b[0m         \u001b[0mafter\u001b[0m\u001b[0;34m(\u001b[0m\u001b[0martist\u001b[0m\u001b[0;34m,\u001b[0m \u001b[0mrenderer\u001b[0m\u001b[0;34m)\u001b[0m\u001b[0;34m\u001b[0m\u001b[0m\n\u001b[1;32m     57\u001b[0m \u001b[0;34m\u001b[0m\u001b[0m\n",
        "\u001b[0;32m//anaconda/lib/python2.7/site-packages/matplotlib/axis.pyc\u001b[0m in \u001b[0;36mdraw\u001b[0;34m(self, renderer, *args, **kwargs)\u001b[0m\n\u001b[1;32m   1094\u001b[0m \u001b[0;34m\u001b[0m\u001b[0m\n\u001b[1;32m   1095\u001b[0m         \u001b[0;32mfor\u001b[0m \u001b[0mtick\u001b[0m \u001b[0;32min\u001b[0m \u001b[0mticks_to_draw\u001b[0m\u001b[0;34m:\u001b[0m\u001b[0;34m\u001b[0m\u001b[0m\n\u001b[0;32m-> 1096\u001b[0;31m             \u001b[0mtick\u001b[0m\u001b[0;34m.\u001b[0m\u001b[0mdraw\u001b[0m\u001b[0;34m(\u001b[0m\u001b[0mrenderer\u001b[0m\u001b[0;34m)\u001b[0m\u001b[0;34m\u001b[0m\u001b[0m\n\u001b[0m\u001b[1;32m   1097\u001b[0m \u001b[0;34m\u001b[0m\u001b[0m\n\u001b[1;32m   1098\u001b[0m         \u001b[0;31m# scale up the axis label box to also find the neighbors, not\u001b[0m\u001b[0;34m\u001b[0m\u001b[0;34m\u001b[0m\u001b[0m\n",
        "\u001b[0;32m//anaconda/lib/python2.7/site-packages/matplotlib/artist.pyc\u001b[0m in \u001b[0;36mdraw_wrapper\u001b[0;34m(artist, renderer, *args, **kwargs)\u001b[0m\n\u001b[1;32m     53\u001b[0m     \u001b[0;32mdef\u001b[0m \u001b[0mdraw_wrapper\u001b[0m\u001b[0;34m(\u001b[0m\u001b[0martist\u001b[0m\u001b[0;34m,\u001b[0m \u001b[0mrenderer\u001b[0m\u001b[0;34m,\u001b[0m \u001b[0;34m*\u001b[0m\u001b[0margs\u001b[0m\u001b[0;34m,\u001b[0m \u001b[0;34m**\u001b[0m\u001b[0mkwargs\u001b[0m\u001b[0;34m)\u001b[0m\u001b[0;34m:\u001b[0m\u001b[0;34m\u001b[0m\u001b[0m\n\u001b[1;32m     54\u001b[0m         \u001b[0mbefore\u001b[0m\u001b[0;34m(\u001b[0m\u001b[0martist\u001b[0m\u001b[0;34m,\u001b[0m \u001b[0mrenderer\u001b[0m\u001b[0;34m)\u001b[0m\u001b[0;34m\u001b[0m\u001b[0m\n\u001b[0;32m---> 55\u001b[0;31m         \u001b[0mdraw\u001b[0m\u001b[0;34m(\u001b[0m\u001b[0martist\u001b[0m\u001b[0;34m,\u001b[0m \u001b[0mrenderer\u001b[0m\u001b[0;34m,\u001b[0m \u001b[0;34m*\u001b[0m\u001b[0margs\u001b[0m\u001b[0;34m,\u001b[0m \u001b[0;34m**\u001b[0m\u001b[0mkwargs\u001b[0m\u001b[0;34m)\u001b[0m\u001b[0;34m\u001b[0m\u001b[0m\n\u001b[0m\u001b[1;32m     56\u001b[0m         \u001b[0mafter\u001b[0m\u001b[0;34m(\u001b[0m\u001b[0martist\u001b[0m\u001b[0;34m,\u001b[0m \u001b[0mrenderer\u001b[0m\u001b[0;34m)\u001b[0m\u001b[0;34m\u001b[0m\u001b[0m\n\u001b[1;32m     57\u001b[0m \u001b[0;34m\u001b[0m\u001b[0m\n",
        "\u001b[0;32m//anaconda/lib/python2.7/site-packages/matplotlib/axis.pyc\u001b[0m in \u001b[0;36mdraw\u001b[0;34m(self, renderer)\u001b[0m\n\u001b[1;32m    232\u001b[0m         \u001b[0;32mif\u001b[0m \u001b[0mmidPoint\u001b[0m\u001b[0;34m:\u001b[0m\u001b[0;34m\u001b[0m\u001b[0m\n\u001b[1;32m    233\u001b[0m             \u001b[0;32mif\u001b[0m \u001b[0mself\u001b[0m\u001b[0;34m.\u001b[0m\u001b[0mgridOn\u001b[0m\u001b[0;34m:\u001b[0m\u001b[0;34m\u001b[0m\u001b[0m\n\u001b[0;32m--> 234\u001b[0;31m                 \u001b[0mself\u001b[0m\u001b[0;34m.\u001b[0m\u001b[0mgridline\u001b[0m\u001b[0;34m.\u001b[0m\u001b[0mdraw\u001b[0m\u001b[0;34m(\u001b[0m\u001b[0mrenderer\u001b[0m\u001b[0;34m)\u001b[0m\u001b[0;34m\u001b[0m\u001b[0m\n\u001b[0m\u001b[1;32m    235\u001b[0m             \u001b[0;32mif\u001b[0m \u001b[0mself\u001b[0m\u001b[0;34m.\u001b[0m\u001b[0mtick1On\u001b[0m\u001b[0;34m:\u001b[0m\u001b[0;34m\u001b[0m\u001b[0m\n\u001b[1;32m    236\u001b[0m                 \u001b[0mself\u001b[0m\u001b[0;34m.\u001b[0m\u001b[0mtick1line\u001b[0m\u001b[0;34m.\u001b[0m\u001b[0mdraw\u001b[0m\u001b[0;34m(\u001b[0m\u001b[0mrenderer\u001b[0m\u001b[0;34m)\u001b[0m\u001b[0;34m\u001b[0m\u001b[0m\n",
        "\u001b[0;32m//anaconda/lib/python2.7/site-packages/matplotlib/artist.pyc\u001b[0m in \u001b[0;36mdraw_wrapper\u001b[0;34m(artist, renderer, *args, **kwargs)\u001b[0m\n\u001b[1;32m     53\u001b[0m     \u001b[0;32mdef\u001b[0m \u001b[0mdraw_wrapper\u001b[0m\u001b[0;34m(\u001b[0m\u001b[0martist\u001b[0m\u001b[0;34m,\u001b[0m \u001b[0mrenderer\u001b[0m\u001b[0;34m,\u001b[0m \u001b[0;34m*\u001b[0m\u001b[0margs\u001b[0m\u001b[0;34m,\u001b[0m \u001b[0;34m**\u001b[0m\u001b[0mkwargs\u001b[0m\u001b[0;34m)\u001b[0m\u001b[0;34m:\u001b[0m\u001b[0;34m\u001b[0m\u001b[0m\n\u001b[1;32m     54\u001b[0m         \u001b[0mbefore\u001b[0m\u001b[0;34m(\u001b[0m\u001b[0martist\u001b[0m\u001b[0;34m,\u001b[0m \u001b[0mrenderer\u001b[0m\u001b[0;34m)\u001b[0m\u001b[0;34m\u001b[0m\u001b[0m\n\u001b[0;32m---> 55\u001b[0;31m         \u001b[0mdraw\u001b[0m\u001b[0;34m(\u001b[0m\u001b[0martist\u001b[0m\u001b[0;34m,\u001b[0m \u001b[0mrenderer\u001b[0m\u001b[0;34m,\u001b[0m \u001b[0;34m*\u001b[0m\u001b[0margs\u001b[0m\u001b[0;34m,\u001b[0m \u001b[0;34m**\u001b[0m\u001b[0mkwargs\u001b[0m\u001b[0;34m)\u001b[0m\u001b[0;34m\u001b[0m\u001b[0m\n\u001b[0m\u001b[1;32m     56\u001b[0m         \u001b[0mafter\u001b[0m\u001b[0;34m(\u001b[0m\u001b[0martist\u001b[0m\u001b[0;34m,\u001b[0m \u001b[0mrenderer\u001b[0m\u001b[0;34m)\u001b[0m\u001b[0;34m\u001b[0m\u001b[0m\n\u001b[1;32m     57\u001b[0m \u001b[0;34m\u001b[0m\u001b[0m\n",
        "\u001b[0;32m//anaconda/lib/python2.7/site-packages/matplotlib/lines.pyc\u001b[0m in \u001b[0;36mdraw\u001b[0;34m(self, renderer)\u001b[0m\n\u001b[1;32m    548\u001b[0m         \u001b[0mfuncname\u001b[0m \u001b[0;34m=\u001b[0m \u001b[0mself\u001b[0m\u001b[0;34m.\u001b[0m\u001b[0m_lineStyles\u001b[0m\u001b[0;34m.\u001b[0m\u001b[0mget\u001b[0m\u001b[0;34m(\u001b[0m\u001b[0mself\u001b[0m\u001b[0;34m.\u001b[0m\u001b[0m_linestyle\u001b[0m\u001b[0;34m,\u001b[0m \u001b[0;34m'_draw_nothing'\u001b[0m\u001b[0;34m)\u001b[0m\u001b[0;34m\u001b[0m\u001b[0m\n\u001b[1;32m    549\u001b[0m         \u001b[0;32mif\u001b[0m \u001b[0mfuncname\u001b[0m \u001b[0;34m!=\u001b[0m \u001b[0;34m'_draw_nothing'\u001b[0m\u001b[0;34m:\u001b[0m\u001b[0;34m\u001b[0m\u001b[0m\n\u001b[0;32m--> 550\u001b[0;31m             \u001b[0mtpath\u001b[0m\u001b[0;34m,\u001b[0m \u001b[0maffine\u001b[0m \u001b[0;34m=\u001b[0m \u001b[0mtransf_path\u001b[0m\u001b[0;34m.\u001b[0m\u001b[0mget_transformed_path_and_affine\u001b[0m\u001b[0;34m(\u001b[0m\u001b[0;34m)\u001b[0m\u001b[0;34m\u001b[0m\u001b[0m\n\u001b[0m\u001b[1;32m    551\u001b[0m             \u001b[0;32mif\u001b[0m \u001b[0mlen\u001b[0m\u001b[0;34m(\u001b[0m\u001b[0mtpath\u001b[0m\u001b[0;34m.\u001b[0m\u001b[0mvertices\u001b[0m\u001b[0;34m)\u001b[0m\u001b[0;34m:\u001b[0m\u001b[0;34m\u001b[0m\u001b[0m\n\u001b[1;32m    552\u001b[0m                 \u001b[0mself\u001b[0m\u001b[0;34m.\u001b[0m\u001b[0m_lineFunc\u001b[0m \u001b[0;34m=\u001b[0m \u001b[0mgetattr\u001b[0m\u001b[0;34m(\u001b[0m\u001b[0mself\u001b[0m\u001b[0;34m,\u001b[0m \u001b[0mfuncname\u001b[0m\u001b[0;34m)\u001b[0m\u001b[0;34m\u001b[0m\u001b[0m\n",
        "\u001b[0;32m//anaconda/lib/python2.7/site-packages/matplotlib/transforms.pyc\u001b[0m in \u001b[0;36mget_transformed_path_and_affine\u001b[0;34m(self)\u001b[0m\n\u001b[1;32m   2560\u001b[0m         \u001b[0mthe\u001b[0m \u001b[0mpath\u001b[0m \u001b[0mnecessary\u001b[0m \u001b[0mto\u001b[0m \u001b[0mcomplete\u001b[0m \u001b[0mthe\u001b[0m \u001b[0mtransformation\u001b[0m\u001b[0;34m.\u001b[0m\u001b[0;34m\u001b[0m\u001b[0m\n\u001b[1;32m   2561\u001b[0m         \"\"\"\n\u001b[0;32m-> 2562\u001b[0;31m         \u001b[0mself\u001b[0m\u001b[0;34m.\u001b[0m\u001b[0m_revalidate\u001b[0m\u001b[0;34m(\u001b[0m\u001b[0;34m)\u001b[0m\u001b[0;34m\u001b[0m\u001b[0m\n\u001b[0m\u001b[1;32m   2563\u001b[0m         \u001b[0;32mreturn\u001b[0m \u001b[0mself\u001b[0m\u001b[0;34m.\u001b[0m\u001b[0m_transformed_path\u001b[0m\u001b[0;34m,\u001b[0m \u001b[0mself\u001b[0m\u001b[0;34m.\u001b[0m\u001b[0mget_affine\u001b[0m\u001b[0;34m(\u001b[0m\u001b[0;34m)\u001b[0m\u001b[0;34m\u001b[0m\u001b[0m\n\u001b[1;32m   2564\u001b[0m \u001b[0;34m\u001b[0m\u001b[0m\n",
        "\u001b[0;32m//anaconda/lib/python2.7/site-packages/matplotlib/transforms.pyc\u001b[0m in \u001b[0;36m_revalidate\u001b[0;34m(self)\u001b[0m\n\u001b[1;32m   2537\u001b[0m             or self._transformed_path is None):\n\u001b[1;32m   2538\u001b[0m             \u001b[0mself\u001b[0m\u001b[0;34m.\u001b[0m\u001b[0m_transformed_path\u001b[0m \u001b[0;34m=\u001b[0m\u001b[0;31m \u001b[0m\u001b[0;31m\\\u001b[0m\u001b[0;34m\u001b[0m\u001b[0m\n\u001b[0;32m-> 2539\u001b[0;31m                 \u001b[0mself\u001b[0m\u001b[0;34m.\u001b[0m\u001b[0m_transform\u001b[0m\u001b[0;34m.\u001b[0m\u001b[0mtransform_path_non_affine\u001b[0m\u001b[0;34m(\u001b[0m\u001b[0mself\u001b[0m\u001b[0;34m.\u001b[0m\u001b[0m_path\u001b[0m\u001b[0;34m)\u001b[0m\u001b[0;34m\u001b[0m\u001b[0m\n\u001b[0m\u001b[1;32m   2540\u001b[0m             \u001b[0mself\u001b[0m\u001b[0;34m.\u001b[0m\u001b[0m_transformed_points\u001b[0m \u001b[0;34m=\u001b[0m\u001b[0;31m \u001b[0m\u001b[0;31m\\\u001b[0m\u001b[0;34m\u001b[0m\u001b[0m\n\u001b[1;32m   2541\u001b[0m                 Path(self._transform.transform_non_affine(self._path.vertices),\n",
        "\u001b[0;32m//anaconda/lib/python2.7/site-packages/matplotlib/transforms.pyc\u001b[0m in \u001b[0;36mtransform_path_non_affine\u001b[0;34m(self, path)\u001b[0m\n\u001b[1;32m   1366\u001b[0m         \"\"\"\n\u001b[1;32m   1367\u001b[0m         return Path(self.transform_non_affine(path.vertices), path.codes,\n\u001b[0;32m-> 1368\u001b[0;31m                     path._interpolation_steps)\n\u001b[0m\u001b[1;32m   1369\u001b[0m \u001b[0;34m\u001b[0m\u001b[0m\n\u001b[1;32m   1370\u001b[0m     \u001b[0;32mdef\u001b[0m \u001b[0mtransform_angles\u001b[0m\u001b[0;34m(\u001b[0m\u001b[0mself\u001b[0m\u001b[0;34m,\u001b[0m \u001b[0mangles\u001b[0m\u001b[0;34m,\u001b[0m \u001b[0mpts\u001b[0m\u001b[0;34m,\u001b[0m \u001b[0mradians\u001b[0m\u001b[0;34m=\u001b[0m\u001b[0mFalse\u001b[0m\u001b[0;34m,\u001b[0m \u001b[0mpushoff\u001b[0m\u001b[0;34m=\u001b[0m\u001b[0;36m1e-5\u001b[0m\u001b[0;34m)\u001b[0m\u001b[0;34m:\u001b[0m\u001b[0;34m\u001b[0m\u001b[0m\n",
        "\u001b[0;32m//anaconda/lib/python2.7/site-packages/matplotlib/path.pyc\u001b[0m in \u001b[0;36m__init__\u001b[0;34m(self, vertices, codes, _interpolation_steps, closed, readonly)\u001b[0m\n\u001b[1;32m    151\u001b[0m         \u001b[0mself\u001b[0m\u001b[0;34m.\u001b[0m\u001b[0m_codes\u001b[0m \u001b[0;34m=\u001b[0m \u001b[0mcodes\u001b[0m\u001b[0;34m\u001b[0m\u001b[0m\n\u001b[1;32m    152\u001b[0m         \u001b[0mself\u001b[0m\u001b[0;34m.\u001b[0m\u001b[0m_interpolation_steps\u001b[0m \u001b[0;34m=\u001b[0m \u001b[0m_interpolation_steps\u001b[0m\u001b[0;34m\u001b[0m\u001b[0m\n\u001b[0;32m--> 153\u001b[0;31m         \u001b[0mself\u001b[0m\u001b[0;34m.\u001b[0m\u001b[0m_update_values\u001b[0m\u001b[0;34m(\u001b[0m\u001b[0;34m)\u001b[0m\u001b[0;34m\u001b[0m\u001b[0m\n\u001b[0m\u001b[1;32m    154\u001b[0m \u001b[0;34m\u001b[0m\u001b[0m\n\u001b[1;32m    155\u001b[0m         \u001b[0;32mif\u001b[0m \u001b[0mreadonly\u001b[0m\u001b[0;34m:\u001b[0m\u001b[0;34m\u001b[0m\u001b[0m\n",
        "\u001b[0;32m//anaconda/lib/python2.7/site-packages/matplotlib/path.pyc\u001b[0m in \u001b[0;36m_update_values\u001b[0;34m(self)\u001b[0m\n\u001b[1;32m    199\u001b[0m             (self._codes is None or np.all(self._codes <= Path.LINETO))))\n\u001b[1;32m    200\u001b[0m         \u001b[0mself\u001b[0m\u001b[0;34m.\u001b[0m\u001b[0m_simplify_threshold\u001b[0m \u001b[0;34m=\u001b[0m \u001b[0mrcParams\u001b[0m\u001b[0;34m[\u001b[0m\u001b[0;34m'path.simplify_threshold'\u001b[0m\u001b[0;34m]\u001b[0m\u001b[0;34m\u001b[0m\u001b[0m\n\u001b[0;32m--> 201\u001b[0;31m         \u001b[0mself\u001b[0m\u001b[0;34m.\u001b[0m\u001b[0m_has_nonfinite\u001b[0m \u001b[0;34m=\u001b[0m \u001b[0;32mnot\u001b[0m \u001b[0mnp\u001b[0m\u001b[0;34m.\u001b[0m\u001b[0misfinite\u001b[0m\u001b[0;34m(\u001b[0m\u001b[0mself\u001b[0m\u001b[0;34m.\u001b[0m\u001b[0m_vertices\u001b[0m\u001b[0;34m)\u001b[0m\u001b[0;34m.\u001b[0m\u001b[0mall\u001b[0m\u001b[0;34m(\u001b[0m\u001b[0;34m)\u001b[0m\u001b[0;34m\u001b[0m\u001b[0m\n\u001b[0m\u001b[1;32m    202\u001b[0m \u001b[0;34m\u001b[0m\u001b[0m\n\u001b[1;32m    203\u001b[0m     \u001b[0;34m@\u001b[0m\u001b[0mproperty\u001b[0m\u001b[0;34m\u001b[0m\u001b[0m\n",
        "\u001b[0;32m//anaconda/lib/python2.7/site-packages/numpy/core/_methods.pyc\u001b[0m in \u001b[0;36m_all\u001b[0;34m(a, axis, dtype, out, keepdims)\u001b[0m\n\u001b[1;32m     35\u001b[0m \u001b[0;32mdef\u001b[0m \u001b[0m_all\u001b[0m\u001b[0;34m(\u001b[0m\u001b[0ma\u001b[0m\u001b[0;34m,\u001b[0m \u001b[0maxis\u001b[0m\u001b[0;34m=\u001b[0m\u001b[0mNone\u001b[0m\u001b[0;34m,\u001b[0m \u001b[0mdtype\u001b[0m\u001b[0;34m=\u001b[0m\u001b[0mNone\u001b[0m\u001b[0;34m,\u001b[0m \u001b[0mout\u001b[0m\u001b[0;34m=\u001b[0m\u001b[0mNone\u001b[0m\u001b[0;34m,\u001b[0m \u001b[0mkeepdims\u001b[0m\u001b[0;34m=\u001b[0m\u001b[0mFalse\u001b[0m\u001b[0;34m)\u001b[0m\u001b[0;34m:\u001b[0m\u001b[0;34m\u001b[0m\u001b[0m\n\u001b[1;32m     36\u001b[0m     return um.logical_and.reduce(a, axis=axis, dtype=dtype, out=out,\n\u001b[0;32m---> 37\u001b[0;31m                                  keepdims=keepdims)\n\u001b[0m\u001b[1;32m     38\u001b[0m \u001b[0;34m\u001b[0m\u001b[0m\n\u001b[1;32m     39\u001b[0m \u001b[0;32mdef\u001b[0m \u001b[0m_count_reduce_items\u001b[0m\u001b[0;34m(\u001b[0m\u001b[0marr\u001b[0m\u001b[0;34m,\u001b[0m \u001b[0maxis\u001b[0m\u001b[0;34m)\u001b[0m\u001b[0;34m:\u001b[0m\u001b[0;34m\u001b[0m\u001b[0m\n",
        "\u001b[0;31mKeyboardInterrupt\u001b[0m: "
       ]
      }
     ],
     "prompt_number": 47
    },
    {
     "cell_type": "code",
     "collapsed": false,
     "input": [
      "fig, ax = plt.subplots()\n",
      "ax.plot(d2.index, d2['Field Goal'], label = \"Field Goal\")\n",
      "ax.plot(d2.index, d2['Go For It'], label = \"Go For It\")\n",
      "ax.plot(d2.index, d2['Punt'], label = \"Punt\")\n",
      "xlabel(\"Yards To Go\")\n",
      "ylabel(\"Expected Number of Points Given Decision\")\n",
      "title(\"Expected Number of Points Given Decision from 60 Yard Line [1,2,2,1]\")\n",
      "legend = ax.legend(loc=(.8, .02), fontsize = 1, frameon = True, borderpad = 10)\n",
      "for label in legend.get_texts():\n",
      "    label.set_fontsize('small')\n",
      "\n",
      "for label in legend.get_lines():\n",
      "    label.set_linewidth(1.5)  # the legend line width\n",
      "    \n",
      "savefig('EP501221.pdf')\n",
      "plt.show()"
     ],
     "language": "python",
     "metadata": {},
     "outputs": []
    },
    {
     "cell_type": "code",
     "collapsed": false,
     "input": [
      "fig, ax = plt.subplots()\n",
      "ax.plot(d3.index, d3['Field Goal'], label = \"Field Goal\")\n",
      "ax.plot(d3.index, d3['Go For It'], label = \"Go For It\")\n",
      "ax.plot(d3.index, d3['Punt'], label = \"Punt\")\n",
      "xlabel(\"Yards To Go\")\n",
      "ylabel(\"Expected Number of Points Given Decision\")\n",
      "title(\"Expected Number of Points Given Decision from 40 Yard Line [1,2,2,1]\")\n",
      "legend = ax.legend(loc=(.8, .02), fontsize = 1, frameon = True, borderpad = 10)\n",
      "for label in legend.get_texts():\n",
      "    label.set_fontsize('small')\n",
      "\n",
      "for label in legend.get_lines():\n",
      "    label.set_linewidth(1.5)  # the legend line width\n",
      "    \n",
      "savefig('EP501221.pdf')\n",
      "plt.show()"
     ],
     "language": "python",
     "metadata": {},
     "outputs": []
    },
    {
     "cell_type": "code",
     "collapsed": false,
     "input": [
      "fig, ax = plt.subplots()\n",
      "ax.plot(d4.index, d4['Field Goal'], label = \"Field Goal\")\n",
      "ax.plot(d4.index, d4['Go For It'], label = \"Go For It\")\n",
      "ax.plot(d4.index, d4['Punt'], label = \"Punt\")\n",
      "xlabel(\"Yards To Go\")\n",
      "ylabel(\"Expected Number of Points Given Decision\")\n",
      "title(\"Expected Number of Points Given Decision from 20 Yard Line [1,2,2,1]\")\n",
      "legend = ax.legend(loc=(.8, .02), fontsize = 1, frameon = True, borderpad = 10)\n",
      "for label in legend.get_texts():\n",
      "    label.set_fontsize('small')\n",
      "\n",
      "for label in legend.get_lines():\n",
      "    label.set_linewidth(1.5)  # the legend line width\n",
      "    \n",
      "savefig('EP501221.pdf')\n",
      "plt.show()"
     ],
     "language": "python",
     "metadata": {},
     "outputs": []
    },
    {
     "cell_type": "code",
     "collapsed": false,
     "input": [
      "fig, ax = plt.subplots()\n",
      "ax.plot(d5.index, d5['Field Goal'], label = \"Field Goal\")\n",
      "ax.plot(d5.index, d5['Go For It'], label = \"Go For It\")\n",
      "ax.plot(d5.index, d5['Punt'], label = \"Punt\")\n",
      "xlabel(\"Yards To Go\")\n",
      "ylabel(\"Expected Number of Points Given Decision\")\n",
      "title(\"Expected Number of Points Given Decision from 80 Yard Line [1,2,2,1]\")\n",
      "legend = ax.legend(loc=(.8, .02), fontsize = 1, frameon = True, borderpad = 10)\n",
      "for label in legend.get_texts():\n",
      "    label.set_fontsize('small')\n",
      "\n",
      "for label in legend.get_lines():\n",
      "    label.set_linewidth(1.5)  # the legend line width\n",
      "    \n",
      "savefig('EP501221.pdf')\n",
      "plt.show()"
     ],
     "language": "python",
     "metadata": {},
     "outputs": []
    },
    {
     "cell_type": "code",
     "collapsed": false,
     "input": [
      "fig, ax = plt.subplots()\n",
      "ax.plot(d6.index, d6['Field Goal'], label = \"Field Goal\")\n",
      "ax.plot(d6.index, d6['Go For It'], label = \"Go For It\")\n",
      "ax.plot(d6.index, d6['Punt'], label = \"Punt\")\n",
      "xlabel(\"Yards To Go\")\n",
      "ylabel(\"Expected Number of Points Given Decision\")\n",
      "title(\"Expected Number of Points Given Decision from 60 Yard Line [1,2,2,1]\")\n",
      "legend = ax.legend(loc=(.8, .02), fontsize = 1, frameon = True, borderpad = 10)\n",
      "for label in legend.get_texts():\n",
      "    label.set_fontsize('small')\n",
      "\n",
      "for label in legend.get_lines():\n",
      "    label.set_linewidth(1.5)  # the legend line width\n",
      "    \n",
      "savefig('EP501221.pdf')\n",
      "plt.show()"
     ],
     "language": "python",
     "metadata": {},
     "outputs": []
    },
    {
     "cell_type": "code",
     "collapsed": false,
     "input": [
      "fig, ax = plt.subplots()\n",
      "ax.plot(d7.index, d7['Field Goal'], label = \"Field Goal\")\n",
      "ax.plot(d7.index, d7['Go For It'], label = \"Go For It\")\n",
      "ax.plot(d7.index, d7['Punt'], label = \"Punt\")\n",
      "xlabel(\"Yards To Go\")\n",
      "ylabel(\"Expected Number of Points Given Decision\")\n",
      "title(\"Expected Number of Points Given Decision from 40 Yard Line [1,2,2,1]\")\n",
      "legend = ax.legend(loc=(.8, .02), fontsize = 1, frameon = True, borderpad = 10)\n",
      "for label in legend.get_texts():\n",
      "    label.set_fontsize('small')\n",
      "\n",
      "for label in legend.get_lines():\n",
      "    label.set_linewidth(1.5)  # the legend line width\n",
      "    \n",
      "savefig('EP501221.pdf')\n",
      "plt.show()"
     ],
     "language": "python",
     "metadata": {},
     "outputs": []
    },
    {
     "cell_type": "code",
     "collapsed": false,
     "input": [
      "fig, ax = plt.subplots()\n",
      "ax.plot(d8.index, d8['Field Goal'], label = \"Field Goal\")\n",
      "ax.plot(d8.index, d8['Go For It'], label = \"Go For It\")\n",
      "ax.plot(d8.index, d8['Punt'], label = \"Punt\")\n",
      "xlabel(\"Yards To Go\")\n",
      "ylabel(\"Expected Number of Points Given Decision\")\n",
      "title(\"Expected Number of Points Given Decision from 20 Yard Line [1,2,2,1]\")\n",
      "legend = ax.legend(loc=(.8, .02), fontsize = 1, frameon = True, borderpad = 10)\n",
      "for label in legend.get_texts():\n",
      "    label.set_fontsize('small')\n",
      "\n",
      "for label in legend.get_lines():\n",
      "    label.set_linewidth(1.5)  # the legend line width\n",
      "    \n",
      "savefig('EP501221.pdf')\n",
      "plt.show()"
     ],
     "language": "python",
     "metadata": {},
     "outputs": []
    },
    {
     "cell_type": "code",
     "collapsed": false,
     "input": [
      "fig, ax = plt.subplots()\n",
      "ax.plot(d9.index, d9['Field Goal'], label = \"Field Goal\")\n",
      "ax.plot(d9.index, d9['Go For It'], label = \"Go For It\")\n",
      "ax.plot(d9.index, d9['Punt'], label = \"Punt\")\n",
      "xlabel(\"Yards To Go\")\n",
      "ylabel(\"Expected Number of Points Given Decision\")\n",
      "title(\"Expected Number of Points Given Decision from 80 Yard Line [1,2,2,1]\")\n",
      "legend = ax.legend(loc=(.8, .02), fontsize = 1, frameon = True, borderpad = 10)\n",
      "for label in legend.get_texts():\n",
      "    label.set_fontsize('small')\n",
      "\n",
      "for label in legend.get_lines():\n",
      "    label.set_linewidth(1.5)  # the legend line width\n",
      "    \n",
      "savefig('EP501221.pdf')\n",
      "plt.show()"
     ],
     "language": "python",
     "metadata": {},
     "outputs": []
    },
    {
     "cell_type": "code",
     "collapsed": false,
     "input": [
      "fig, ax = plt.subplots()\n",
      "ax.plot(d10.index, d10['Field Goal'], label = \"Field Goal\")\n",
      "ax.plot(d10.index, d10['Go For It'], label = \"Go For It\")\n",
      "ax.plot(d10.index, d10['Punt'], label = \"Punt\")\n",
      "xlabel(\"Yards To Go\")\n",
      "ylabel(\"Expected Number of Points Given Decision\")\n",
      "title(\"Expected Number of Points Given Decision from 60 Yard Line [1,2,2,1]\")\n",
      "legend = ax.legend(loc=(.8, .02), fontsize = 1, frameon = True, borderpad = 10)\n",
      "for label in legend.get_texts():\n",
      "    label.set_fontsize('small')\n",
      "\n",
      "for label in legend.get_lines():\n",
      "    label.set_linewidth(1.5)  # the legend line width\n",
      "    \n",
      "savefig('EP501221.pdf')\n",
      "plt.show()"
     ],
     "language": "python",
     "metadata": {},
     "outputs": []
    },
    {
     "cell_type": "code",
     "collapsed": false,
     "input": [
      "fig, ax = plt.subplots()\n",
      "ax.plot(d11.index, d11['Field Goal'], label = \"Field Goal\")\n",
      "ax.plot(d11.index, d11['Go For It'], label = \"Go For It\")\n",
      "ax.plot(d11.index, d11['Punt'], label = \"Punt\")\n",
      "xlabel(\"Yards To Go\")\n",
      "ylabel(\"Expected Number of Points Given Decision\")\n",
      "title(\"Expected Number of Points Given Decision from 40 Yard Line [1,2,2,1]\")\n",
      "legend = ax.legend(loc=(.8, .02), fontsize = 1, frameon = True, borderpad = 10)\n",
      "for label in legend.get_texts():\n",
      "    label.set_fontsize('small')\n",
      "\n",
      "for label in legend.get_lines():\n",
      "    label.set_linewidth(1.5)  # the legend line width\n",
      "    \n",
      "savefig('EP501221.pdf')\n",
      "plt.show()"
     ],
     "language": "python",
     "metadata": {},
     "outputs": []
    },
    {
     "cell_type": "code",
     "collapsed": false,
     "input": [
      "fig, ax = plt.subplots()\n",
      "ax.plot(d12.index, d12['Field Goal'], label = \"Field Goal\")\n",
      "ax.plot(d12.index, d12['Go For It'], label = \"Go For It\")\n",
      "ax.plot(d12.index, d12['Punt'], label = \"Punt\")\n",
      "xlabel(\"Yards To Go\")\n",
      "ylabel(\"Expected Number of Points Given Decision\")\n",
      "title(\"Expected Number of Points Given Decision from 20 Yard Line [1,2,2,1]\")\n",
      "legend = ax.legend(loc=(.8, .02), fontsize = 1, frameon = True, borderpad = 10)\n",
      "for label in legend.get_texts():\n",
      "    label.set_fontsize('small')\n",
      "\n",
      "for label in legend.get_lines():\n",
      "    label.set_linewidth(1.5)  # the legend line width\n",
      "    \n",
      "savefig('EP501221.pdf')\n",
      "plt.show()"
     ],
     "language": "python",
     "metadata": {},
     "outputs": []
    },
    {
     "cell_type": "code",
     "collapsed": false,
     "input": [
      "[max(decision(50, k, 20, 1, 1, 1), key = decision(50, k, 20, 1, 1, 1).get) for k in x]"
     ],
     "language": "python",
     "metadata": {},
     "outputs": [
      {
       "metadata": {},
       "output_type": "pyout",
       "prompt_number": 33,
       "text": [
        "['Punt', 'Punt', 'Punt', 'Punt', 'Punt']"
       ]
      }
     ],
     "prompt_number": 33
    },
    {
     "cell_type": "code",
     "collapsed": false,
     "input": [
      "yardbucket = range(20)\n",
      "od = 1\n",
      "oo = 1\n",
      "do = 10\n",
      "dd = 10\n",
      "final_decision = pd.DataFrame(index = yardbucket)\n",
      "for j in range(5):\n",
      "    dec = [decision((k*5 + 1), (j*2 + 1), oo, od, do, dd) for k in yardbucket]\n",
      "    final_decision[j] = pd.DataFrame([max(g, key = g.get) for g in dec])"
     ],
     "language": "python",
     "metadata": {},
     "outputs": [
      {
       "ename": "KeyboardInterrupt",
       "evalue": "",
       "output_type": "pyerr",
       "traceback": [
        "\u001b[0;31m---------------------------------------------------------------------------\u001b[0m\n\u001b[0;31mKeyboardInterrupt\u001b[0m                         Traceback (most recent call last)",
        "\u001b[0;32m<ipython-input-66-6d82136d67cd>\u001b[0m in \u001b[0;36m<module>\u001b[0;34m()\u001b[0m\n\u001b[1;32m      6\u001b[0m \u001b[0mfinal_decision\u001b[0m \u001b[0;34m=\u001b[0m \u001b[0mpd\u001b[0m\u001b[0;34m.\u001b[0m\u001b[0mDataFrame\u001b[0m\u001b[0;34m(\u001b[0m\u001b[0mindex\u001b[0m \u001b[0;34m=\u001b[0m \u001b[0myardbucket\u001b[0m\u001b[0;34m)\u001b[0m\u001b[0;34m\u001b[0m\u001b[0m\n\u001b[1;32m      7\u001b[0m \u001b[0;32mfor\u001b[0m \u001b[0mj\u001b[0m \u001b[0;32min\u001b[0m \u001b[0mrange\u001b[0m\u001b[0;34m(\u001b[0m\u001b[0;36m5\u001b[0m\u001b[0;34m)\u001b[0m\u001b[0;34m:\u001b[0m\u001b[0;34m\u001b[0m\u001b[0m\n\u001b[0;32m----> 8\u001b[0;31m     \u001b[0mdec\u001b[0m \u001b[0;34m=\u001b[0m \u001b[0;34m[\u001b[0m\u001b[0mdecision\u001b[0m\u001b[0;34m(\u001b[0m\u001b[0;34m(\u001b[0m\u001b[0mk\u001b[0m\u001b[0;34m*\u001b[0m\u001b[0;36m5\u001b[0m \u001b[0;34m+\u001b[0m \u001b[0;36m1\u001b[0m\u001b[0;34m)\u001b[0m\u001b[0;34m,\u001b[0m \u001b[0;34m(\u001b[0m\u001b[0mj\u001b[0m\u001b[0;34m*\u001b[0m\u001b[0;36m2\u001b[0m \u001b[0;34m+\u001b[0m \u001b[0;36m1\u001b[0m\u001b[0;34m)\u001b[0m\u001b[0;34m,\u001b[0m \u001b[0moo\u001b[0m\u001b[0;34m,\u001b[0m \u001b[0mod\u001b[0m\u001b[0;34m,\u001b[0m \u001b[0mdo\u001b[0m\u001b[0;34m,\u001b[0m \u001b[0mdd\u001b[0m\u001b[0;34m)\u001b[0m \u001b[0;32mfor\u001b[0m \u001b[0mk\u001b[0m \u001b[0;32min\u001b[0m \u001b[0myardbucket\u001b[0m\u001b[0;34m]\u001b[0m\u001b[0;34m\u001b[0m\u001b[0m\n\u001b[0m\u001b[1;32m      9\u001b[0m     \u001b[0mfinal_decision\u001b[0m\u001b[0;34m[\u001b[0m\u001b[0mj\u001b[0m\u001b[0;34m]\u001b[0m \u001b[0;34m=\u001b[0m \u001b[0mpd\u001b[0m\u001b[0;34m.\u001b[0m\u001b[0mDataFrame\u001b[0m\u001b[0;34m(\u001b[0m\u001b[0;34m[\u001b[0m\u001b[0mmax\u001b[0m\u001b[0;34m(\u001b[0m\u001b[0mg\u001b[0m\u001b[0;34m,\u001b[0m \u001b[0mkey\u001b[0m \u001b[0;34m=\u001b[0m \u001b[0mg\u001b[0m\u001b[0;34m.\u001b[0m\u001b[0mget\u001b[0m\u001b[0;34m)\u001b[0m \u001b[0;32mfor\u001b[0m \u001b[0mg\u001b[0m \u001b[0;32min\u001b[0m \u001b[0mdec\u001b[0m\u001b[0;34m]\u001b[0m\u001b[0;34m)\u001b[0m\u001b[0;34m\u001b[0m\u001b[0m\n",
        "\u001b[0;32m<ipython-input-28-967365474f84>\u001b[0m in \u001b[0;36mdecision\u001b[0;34m(ydline, ydtogo, oorank, odrank, ddrank, dorank)\u001b[0m\n\u001b[1;32m     13\u001b[0m     \u001b[0mvec\u001b[0m\u001b[0;34m[\u001b[0m\u001b[0morankbucket\u001b[0m\u001b[0;34m]\u001b[0m \u001b[0;34m=\u001b[0m \u001b[0;36m1\u001b[0m\u001b[0;34m\u001b[0m\u001b[0m\n\u001b[1;32m     14\u001b[0m     \u001b[0mvec\u001b[0m\u001b[0;34m[\u001b[0m\u001b[0mdrankbucket\u001b[0m\u001b[0;34m]\u001b[0m \u001b[0;34m=\u001b[0m \u001b[0;36m1\u001b[0m\u001b[0;34m\u001b[0m\u001b[0m\n\u001b[0;32m---> 15\u001b[0;31m     \u001b[0mgfis\u001b[0m \u001b[0;34m=\u001b[0m \u001b[0mknn_gfis\u001b[0m\u001b[0;34m.\u001b[0m\u001b[0mfit\u001b[0m\u001b[0;34m(\u001b[0m\u001b[0mX_gfis\u001b[0m\u001b[0;34m,\u001b[0m\u001b[0my_gfis\u001b[0m\u001b[0;34m)\u001b[0m\u001b[0;34m.\u001b[0m\u001b[0mpredict\u001b[0m\u001b[0;34m(\u001b[0m\u001b[0;34m[\u001b[0m\u001b[0mydlinebucket\u001b[0m\u001b[0;34m,\u001b[0m \u001b[0moorank\u001b[0m\u001b[0;34m,\u001b[0m \u001b[0mddrank\u001b[0m\u001b[0;34m]\u001b[0m\u001b[0;34m)\u001b[0m\u001b[0;34m\u001b[0m\u001b[0m\n\u001b[0m\u001b[1;32m     16\u001b[0m     \u001b[0mgfif\u001b[0m \u001b[0;34m=\u001b[0m \u001b[0mknn_gfif\u001b[0m\u001b[0;34m.\u001b[0m\u001b[0mfit\u001b[0m\u001b[0;34m(\u001b[0m\u001b[0mX_gfif\u001b[0m\u001b[0;34m,\u001b[0m\u001b[0my_gfif\u001b[0m\u001b[0;34m)\u001b[0m\u001b[0;34m.\u001b[0m\u001b[0mpredict\u001b[0m\u001b[0;34m(\u001b[0m\u001b[0;34m[\u001b[0m\u001b[0motherydlinebucket\u001b[0m\u001b[0;34m,\u001b[0m \u001b[0moorank\u001b[0m\u001b[0;34m,\u001b[0m \u001b[0modrank\u001b[0m\u001b[0;34m,\u001b[0m \u001b[0mdorank\u001b[0m\u001b[0;34m,\u001b[0m \u001b[0mddrank\u001b[0m\u001b[0;34m]\u001b[0m\u001b[0;34m)\u001b[0m\u001b[0;34m\u001b[0m\u001b[0m\n\u001b[1;32m     17\u001b[0m     \u001b[0mpunt\u001b[0m \u001b[0;34m=\u001b[0m \u001b[0mknn_punt\u001b[0m\u001b[0;34m.\u001b[0m\u001b[0mfit\u001b[0m\u001b[0;34m(\u001b[0m\u001b[0mX_punt\u001b[0m\u001b[0;34m,\u001b[0m\u001b[0my_punt\u001b[0m\u001b[0;34m)\u001b[0m\u001b[0;34m.\u001b[0m\u001b[0mpredict\u001b[0m\u001b[0;34m(\u001b[0m\u001b[0;34m[\u001b[0m\u001b[0mydline\u001b[0m\u001b[0;34m,\u001b[0m \u001b[0moorank\u001b[0m\u001b[0;34m,\u001b[0m \u001b[0modrank\u001b[0m\u001b[0;34m,\u001b[0m \u001b[0mdorank\u001b[0m\u001b[0;34m,\u001b[0m \u001b[0mddrank\u001b[0m\u001b[0;34m]\u001b[0m\u001b[0;34m)\u001b[0m\u001b[0;34m\u001b[0m\u001b[0m\n",
        "\u001b[0;32m//anaconda/lib/python2.7/site-packages/sklearn/neighbors/base.pyc\u001b[0m in \u001b[0;36mfit\u001b[0;34m(self, X, y)\u001b[0m\n\u001b[1;32m    587\u001b[0m             \u001b[0mX\u001b[0m\u001b[0;34m,\u001b[0m \u001b[0my\u001b[0m \u001b[0;34m=\u001b[0m \u001b[0mcheck_arrays\u001b[0m\u001b[0;34m(\u001b[0m\u001b[0mX\u001b[0m\u001b[0;34m,\u001b[0m \u001b[0my\u001b[0m\u001b[0;34m,\u001b[0m \u001b[0msparse_format\u001b[0m\u001b[0;34m=\u001b[0m\u001b[0;34m\"csr\"\u001b[0m\u001b[0;34m)\u001b[0m\u001b[0;34m\u001b[0m\u001b[0m\n\u001b[1;32m    588\u001b[0m         \u001b[0mself\u001b[0m\u001b[0;34m.\u001b[0m\u001b[0m_y\u001b[0m \u001b[0;34m=\u001b[0m \u001b[0my\u001b[0m\u001b[0;34m\u001b[0m\u001b[0m\n\u001b[0;32m--> 589\u001b[0;31m         \u001b[0;32mreturn\u001b[0m \u001b[0mself\u001b[0m\u001b[0;34m.\u001b[0m\u001b[0m_fit\u001b[0m\u001b[0;34m(\u001b[0m\u001b[0mX\u001b[0m\u001b[0;34m)\u001b[0m\u001b[0;34m\u001b[0m\u001b[0m\n\u001b[0m\u001b[1;32m    590\u001b[0m \u001b[0;34m\u001b[0m\u001b[0m\n\u001b[1;32m    591\u001b[0m \u001b[0;34m\u001b[0m\u001b[0m\n",
        "\u001b[0;32m//anaconda/lib/python2.7/site-packages/sklearn/neighbors/base.pyc\u001b[0m in \u001b[0;36m_fit\u001b[0;34m(self, X)\u001b[0m\n\u001b[1;32m    218\u001b[0m             self._tree = KDTree(X, self.leaf_size,\n\u001b[1;32m    219\u001b[0m                                 \u001b[0mmetric\u001b[0m\u001b[0;34m=\u001b[0m\u001b[0mself\u001b[0m\u001b[0;34m.\u001b[0m\u001b[0meffective_metric_\u001b[0m\u001b[0;34m,\u001b[0m\u001b[0;34m\u001b[0m\u001b[0m\n\u001b[0;32m--> 220\u001b[0;31m                                 **self.effective_metric_kwds_)\n\u001b[0m\u001b[1;32m    221\u001b[0m         \u001b[0;32melif\u001b[0m \u001b[0mself\u001b[0m\u001b[0;34m.\u001b[0m\u001b[0m_fit_method\u001b[0m \u001b[0;34m==\u001b[0m \u001b[0;34m'brute'\u001b[0m\u001b[0;34m:\u001b[0m\u001b[0;34m\u001b[0m\u001b[0m\n\u001b[1;32m    222\u001b[0m             \u001b[0mself\u001b[0m\u001b[0;34m.\u001b[0m\u001b[0m_tree\u001b[0m \u001b[0;34m=\u001b[0m \u001b[0mNone\u001b[0m\u001b[0;34m\u001b[0m\u001b[0m\n",
        "\u001b[0;31mKeyboardInterrupt\u001b[0m: "
       ]
      }
     ],
     "prompt_number": 66
    },
    {
     "cell_type": "code",
     "collapsed": false,
     "input": [
      "final_decision"
     ],
     "language": "python",
     "metadata": {},
     "outputs": [
      {
       "html": [
        "<div style=\"max-height:1000px;max-width:1500px;overflow:auto;\">\n",
        "<table border=\"1\" class=\"dataframe\">\n",
        "  <thead>\n",
        "    <tr style=\"text-align: right;\">\n",
        "      <th></th>\n",
        "      <th>0</th>\n",
        "      <th>1</th>\n",
        "      <th>2</th>\n",
        "      <th>3</th>\n",
        "      <th>4</th>\n",
        "    </tr>\n",
        "  </thead>\n",
        "  <tbody>\n",
        "    <tr>\n",
        "      <th>0 </th>\n",
        "      <td> Field Goal</td>\n",
        "      <td> Field Goal</td>\n",
        "      <td> Field Goal</td>\n",
        "      <td> Field Goal</td>\n",
        "      <td> Field Goal</td>\n",
        "    </tr>\n",
        "    <tr>\n",
        "      <th>1 </th>\n",
        "      <td> Field Goal</td>\n",
        "      <td> Field Goal</td>\n",
        "      <td> Field Goal</td>\n",
        "      <td> Field Goal</td>\n",
        "      <td> Field Goal</td>\n",
        "    </tr>\n",
        "    <tr>\n",
        "      <th>2 </th>\n",
        "      <td> Field Goal</td>\n",
        "      <td> Field Goal</td>\n",
        "      <td> Field Goal</td>\n",
        "      <td> Field Goal</td>\n",
        "      <td> Field Goal</td>\n",
        "    </tr>\n",
        "    <tr>\n",
        "      <th>3 </th>\n",
        "      <td> Field Goal</td>\n",
        "      <td> Field Goal</td>\n",
        "      <td> Field Goal</td>\n",
        "      <td> Field Goal</td>\n",
        "      <td> Field Goal</td>\n",
        "    </tr>\n",
        "    <tr>\n",
        "      <th>4 </th>\n",
        "      <td> Field Goal</td>\n",
        "      <td> Field Goal</td>\n",
        "      <td> Field Goal</td>\n",
        "      <td> Field Goal</td>\n",
        "      <td> Field Goal</td>\n",
        "    </tr>\n",
        "    <tr>\n",
        "      <th>5 </th>\n",
        "      <td> Field Goal</td>\n",
        "      <td> Field Goal</td>\n",
        "      <td> Field Goal</td>\n",
        "      <td> Field Goal</td>\n",
        "      <td> Field Goal</td>\n",
        "    </tr>\n",
        "    <tr>\n",
        "      <th>6 </th>\n",
        "      <td> Field Goal</td>\n",
        "      <td> Field Goal</td>\n",
        "      <td> Field Goal</td>\n",
        "      <td> Field Goal</td>\n",
        "      <td> Field Goal</td>\n",
        "    </tr>\n",
        "    <tr>\n",
        "      <th>7 </th>\n",
        "      <td> Field Goal</td>\n",
        "      <td> Field Goal</td>\n",
        "      <td> Field Goal</td>\n",
        "      <td> Field Goal</td>\n",
        "      <td> Field Goal</td>\n",
        "    </tr>\n",
        "    <tr>\n",
        "      <th>8 </th>\n",
        "      <td>  Go For It</td>\n",
        "      <td>       Punt</td>\n",
        "      <td>       Punt</td>\n",
        "      <td>       Punt</td>\n",
        "      <td>       Punt</td>\n",
        "    </tr>\n",
        "    <tr>\n",
        "      <th>9 </th>\n",
        "      <td>  Go For It</td>\n",
        "      <td>       Punt</td>\n",
        "      <td>       Punt</td>\n",
        "      <td>       Punt</td>\n",
        "      <td>       Punt</td>\n",
        "    </tr>\n",
        "    <tr>\n",
        "      <th>10</th>\n",
        "      <td>  Go For It</td>\n",
        "      <td>       Punt</td>\n",
        "      <td>       Punt</td>\n",
        "      <td>       Punt</td>\n",
        "      <td>       Punt</td>\n",
        "    </tr>\n",
        "    <tr>\n",
        "      <th>11</th>\n",
        "      <td>  Go For It</td>\n",
        "      <td>  Go For It</td>\n",
        "      <td>  Go For It</td>\n",
        "      <td>  Go For It</td>\n",
        "      <td>       Punt</td>\n",
        "    </tr>\n",
        "    <tr>\n",
        "      <th>12</th>\n",
        "      <td>  Go For It</td>\n",
        "      <td>       Punt</td>\n",
        "      <td>       Punt</td>\n",
        "      <td>       Punt</td>\n",
        "      <td>       Punt</td>\n",
        "    </tr>\n",
        "    <tr>\n",
        "      <th>13</th>\n",
        "      <td>       Punt</td>\n",
        "      <td>       Punt</td>\n",
        "      <td>       Punt</td>\n",
        "      <td>       Punt</td>\n",
        "      <td>       Punt</td>\n",
        "    </tr>\n",
        "    <tr>\n",
        "      <th>14</th>\n",
        "      <td>       Punt</td>\n",
        "      <td>       Punt</td>\n",
        "      <td>       Punt</td>\n",
        "      <td>       Punt</td>\n",
        "      <td>       Punt</td>\n",
        "    </tr>\n",
        "    <tr>\n",
        "      <th>15</th>\n",
        "      <td>       Punt</td>\n",
        "      <td>       Punt</td>\n",
        "      <td>       Punt</td>\n",
        "      <td>       Punt</td>\n",
        "      <td>       Punt</td>\n",
        "    </tr>\n",
        "    <tr>\n",
        "      <th>16</th>\n",
        "      <td>       Punt</td>\n",
        "      <td>       Punt</td>\n",
        "      <td>       Punt</td>\n",
        "      <td>       Punt</td>\n",
        "      <td>       Punt</td>\n",
        "    </tr>\n",
        "    <tr>\n",
        "      <th>17</th>\n",
        "      <td>       Punt</td>\n",
        "      <td>       Punt</td>\n",
        "      <td>       Punt</td>\n",
        "      <td>       Punt</td>\n",
        "      <td>       Punt</td>\n",
        "    </tr>\n",
        "    <tr>\n",
        "      <th>18</th>\n",
        "      <td>  Go For It</td>\n",
        "      <td>       Punt</td>\n",
        "      <td>       Punt</td>\n",
        "      <td>       Punt</td>\n",
        "      <td>       Punt</td>\n",
        "    </tr>\n",
        "    <tr>\n",
        "      <th>19</th>\n",
        "      <td>  Go For It</td>\n",
        "      <td>       Punt</td>\n",
        "      <td>       Punt</td>\n",
        "      <td>       Punt</td>\n",
        "      <td>       Punt</td>\n",
        "    </tr>\n",
        "  </tbody>\n",
        "</table>\n",
        "<p>20 rows \u00d7 5 columns</p>\n",
        "</div>"
       ],
       "metadata": {},
       "output_type": "pyout",
       "prompt_number": 39,
       "text": [
        "             0           1           2           3           4\n",
        "0   Field Goal  Field Goal  Field Goal  Field Goal  Field Goal\n",
        "1   Field Goal  Field Goal  Field Goal  Field Goal  Field Goal\n",
        "2   Field Goal  Field Goal  Field Goal  Field Goal  Field Goal\n",
        "3   Field Goal  Field Goal  Field Goal  Field Goal  Field Goal\n",
        "4   Field Goal  Field Goal  Field Goal  Field Goal  Field Goal\n",
        "5   Field Goal  Field Goal  Field Goal  Field Goal  Field Goal\n",
        "6   Field Goal  Field Goal  Field Goal  Field Goal  Field Goal\n",
        "7   Field Goal  Field Goal  Field Goal  Field Goal  Field Goal\n",
        "8    Go For It        Punt        Punt        Punt        Punt\n",
        "9    Go For It        Punt        Punt        Punt        Punt\n",
        "10   Go For It        Punt        Punt        Punt        Punt\n",
        "11   Go For It   Go For It   Go For It   Go For It        Punt\n",
        "12   Go For It        Punt        Punt        Punt        Punt\n",
        "13        Punt        Punt        Punt        Punt        Punt\n",
        "14        Punt        Punt        Punt        Punt        Punt\n",
        "15        Punt        Punt        Punt        Punt        Punt\n",
        "16        Punt        Punt        Punt        Punt        Punt\n",
        "17        Punt        Punt        Punt        Punt        Punt\n",
        "18   Go For It        Punt        Punt        Punt        Punt\n",
        "19   Go For It        Punt        Punt        Punt        Punt\n",
        "\n",
        "[20 rows x 5 columns]"
       ]
      }
     ],
     "prompt_number": 39
    },
    {
     "cell_type": "code",
     "collapsed": false,
     "input": [
      "dec = pd.Categorical.from_array(final_decision[0])\n",
      "final_decision[0] = dec.labels\n",
      "dec = pd.Categorical.from_array(final_decision[1])\n",
      "final_decision[1] = dec.labels\n",
      "dec = pd.Categorical.from_array(final_decision[2])\n",
      "final_decision[2] = dec.labels\n",
      "dec = pd.Categorical.from_array(final_decision[3])\n",
      "final_decision[3] = dec.labels\n",
      "dec = pd.Categorical.from_array(final_decision[4])\n",
      "final_decision[4] = dec.labels"
     ],
     "language": "python",
     "metadata": {},
     "outputs": [],
     "prompt_number": 41
    },
    {
     "cell_type": "code",
     "collapsed": false,
     "input": [
      "H = np.array([[1,2,3,4],[5,6,7,8]])\n",
      "fig = plt.figure(figsize=(6, 6))\n",
      "\n",
      "ax = fig.add_subplot(110)\n",
      "ax.set_title('colorMap')\n",
      "\n",
      "plt.imshow(final_decision)\n",
      "ax.set_aspect('equal')"
     ],
     "language": "python",
     "metadata": {},
     "outputs": [
      {
       "metadata": {},
       "output_type": "display_data",
       "png": "[encoded data removed]",
       "text": [
        "<matplotlib.figure.Figure at 0x10b193090>"
       ]
      }
     ],
     "prompt_number": 65
    },
    {
     "cell_type": "heading",
     "level": 4,
     "metadata": {},
     "source": [
      "The following graph has probabilities of converting field goals on the y-axis and the yardline the field goal is attempted from. "
     ]
    },
    {
     "cell_type": "code",
     "collapsed": false,
     "input": [
      "fg_prob = field_goal_result.predict([[1, x] for x in yard], True)"
     ],
     "language": "python",
     "metadata": {},
     "outputs": [],
     "prompt_number": 29
    },
    {
     "cell_type": "code",
     "collapsed": false,
     "input": [
      "plt.plot(yard, np.array(fg_prob))\n",
      "c1 = sns.color_palette(\"deep\", 2)\n",
      "plt.fill_between(yard, np.array(fg_prob) - .03, np.array(fg_prob) + .03, color=c1, alpha=.2)\n",
      "xlabel('Yards to Go')\n",
      "ylabel('Probability of Field Goal')\n",
      "title('Probability of making a Field Goal on the Fourth Down')\n",
      "savefig('fieldgoalprob.pdf')"
     ],
     "language": "python",
     "metadata": {},
     "outputs": [
      {
       "metadata": {},
       "output_type": "display_data",
       "png": "[encoded data removed]",
       "text": [
        "<matplotlib.figure.Figure at 0x10c5d2510>"
       ]
      }
     ],
     "prompt_number": 30
    },
    {
     "cell_type": "code",
     "collapsed": false,
     "input": [
      "x = range(6)\n",
      "y = range(6)\n",
      "z1 = np.array(convert_prob[0])\n",
      "z1 = [g*3 for g in z1]\n",
      "z2 = np.array(convert_prob[3])\n",
      "z2 = [h*3 for h in z2]\n",
      "z3 = np.array(convert_prob[6])\n",
      "z3 = [k*3 for k in z3]\n",
      "z4 = np.array(convert_prob[8])\n",
      "z4 = [l*3 for l in z4]"
     ],
     "language": "python",
     "metadata": {},
     "outputs": [],
     "prompt_number": 90
    },
    {
     "cell_type": "code",
     "collapsed": false,
     "input": [
      "from mayavi.mlab import *"
     ],
     "language": "python",
     "metadata": {},
     "outputs": [],
     "prompt_number": 91
    },
    {
     "cell_type": "code",
     "collapsed": false,
     "input": [
      "figure()\n",
      "barchart(z1, scale_factor = 1)\n",
      "text(.73, .42, \"1\", width = .01)\n",
      "text(.685, .365, \"2\", width = .01)\n",
      "text(.645, .32, \"3\", width = .01)\n",
      "text(.605, .26, \"4\", width = .01)\n",
      "text(.57, .21, \"5\", width = .01)\n",
      "text(.53, .155, \"6\", width = .01)\n",
      "text(.255, .42, \"1\", width = .01)\n",
      "text(.285, .37, \"2\", width = .01)\n",
      "text(.33, .32, \"3\", width = .01)\n",
      "text(.37, .265, \"4\", width = .01)\n",
      "text(.415, .21, \"5\", width = .01)\n",
      "text(.455, .155, \"6\", width = .01)\n",
      "text(.76, .65, \"0.758\", width = .05)\n",
      "text(.2, .6, \"0.614\", width = .05)\n",
      "text(.65, .2, \"Offense - Offensive rank\", width = .2)\n",
      "text(.15, .2, \"Defense - Defensive rank\", width = .2)\n",
      "text(.1, .7, \"Probability of 1st Down\", width = .2)\n",
      "text(.2, .9, \"Probability of Converting a First Down on the Fourth Down with 1-2 Yards to Go\", width = .6)\n",
      "text(.2, .01, \"*Note: 32 offensive and defensive ranks are binned into six groups, with 1 the best.\", width = .5)\n",
      "show()"
     ],
     "language": "python",
     "metadata": {},
     "outputs": [],
     "prompt_number": 110
    },
    {
     "cell_type": "code",
     "collapsed": false,
     "input": [
      "figure()\n",
      "barchart(z2, scale_factor = 1)\n",
      "text(.73, .42, \"1\", width = .01)\n",
      "text(.685, .365, \"2\", width = .01)\n",
      "text(.645, .32, \"3\", width = .01)\n",
      "text(.605, .26, \"4\", width = .01)\n",
      "text(.57, .21, \"5\", width = .01)\n",
      "text(.53, .155, \"6\", width = .01)\n",
      "text(.255, .42, \"1\", width = .01)\n",
      "text(.285, .37, \"2\", width = .01)\n",
      "text(.33, .32, \"3\", width = .01)\n",
      "text(.37, .265, \"4\", width = .01)\n",
      "text(.415, .21, \"5\", width = .01)\n",
      "text(.455, .155, \"6\", width = .01)\n",
      "text(.76, .6, \"0.519\", width = .05)\n",
      "text(.2, .55, \"0.354\", width = .05)\n",
      "text(.65, .2, \"Offense - Offensive rank\", width = .2)\n",
      "text(.15, .2, \"Defense - Defensive rank\", width = .2)\n",
      "text(.1, .7, \"Probability of 1st Down\", width = .2)\n",
      "text(.2, .9, \"Probability of Converting a First Down on the Fourth Down with 6-7 Yards to Go\", width = .6)\n",
      "text(.2, .01, \"*Note: 32 offensive and defensive ranks are binned into six groups, with 1 the best.\", width = .5)\n",
      "show()"
     ],
     "language": "python",
     "metadata": {},
     "outputs": [],
     "prompt_number": 111
    },
    {
     "cell_type": "code",
     "collapsed": false,
     "input": [
      "figure()\n",
      "barchart(z3, scale_factor = 1)\n",
      "text(.73, .42, \"1\", width = .01)\n",
      "text(.685, .365, \"2\", width = .01)\n",
      "text(.645, .32, \"3\", width = .01)\n",
      "text(.605, .26, \"4\", width = .01)\n",
      "text(.57, .21, \"5\", width = .01)\n",
      "text(.53, .155, \"6\", width = .01)\n",
      "text(.255, .42, \"1\", width = .01)\n",
      "text(.285, .37, \"2\", width = .01)\n",
      "text(.33, .32, \"3\", width = .01)\n",
      "text(.37, .265, \"4\", width = .01)\n",
      "text(.415, .21, \"5\", width = .01)\n",
      "text(.455, .155, \"6\", width = .01)\n",
      "text(.76, .6, \"0.357\", width = .05)\n",
      "text(.2, .55, \"0.22\", width = .05)\n",
      "text(.65, .2, \"Offense - Offensive rank\", width = .2)\n",
      "text(.15, .2, \"Defense - Defensive rank\", width = .2)\n",
      "text(.1, .7, \"Probability of 1st Down\", width = .2)\n",
      "text(.2, .9, \"Probability of Converting a First Down on the Fourth Down with 14-17 Yards to Go\", width = .6)\n",
      "text(.2, .01, \"*Note: 32 offensive and defensive ranks are binned into six groups, with 1 the best.\", width = .5)\n",
      "show()"
     ],
     "language": "python",
     "metadata": {},
     "outputs": [],
     "prompt_number": 109
    },
    {
     "cell_type": "code",
     "collapsed": false,
     "input": [
      "figure()\n",
      "barchart(z4, scale_factor = 1)\n",
      "text(.73, .42, \"1\", width = .01)\n",
      "text(.685, .365, \"2\", width = .01)\n",
      "text(.645, .32, \"3\", width = .01)\n",
      "text(.605, .26, \"4\", width = .01)\n",
      "text(.57, .21, \"5\", width = .01)\n",
      "text(.53, .155, \"6\", width = .01)\n",
      "text(.255, .42, \"1\", width = .01)\n",
      "text(.285, .37, \"2\", width = .01)\n",
      "text(.33, .32, \"3\", width = .01)\n",
      "text(.37, .265, \"4\", width = .01)\n",
      "text(.415, .21, \"5\", width = .01)\n",
      "text(.455, .155, \"6\", width = .01)\n",
      "text(.76, .55, \"0.237\", width = .05)\n",
      "text(.2, .5, \"0.136\", width = .05)\n",
      "text(.65, .2, \"Offense - Offensive rank\", width = .2)\n",
      "text(.15, .2, \"Defense - Defensive rank\", width = .2)\n",
      "text(.1, .7, \"Probability of 1st Down\", width = .2)\n",
      "text(.2, .9, \"Probability of Converting a First Down on the Fourth Down with more than 21 Yards to Go\", width = .6)\n",
      "text(.2, .01, \"*Note: 32 offensive and defensive ranks are binned into six groups, with 1 the best.\", width = .5)\n",
      "show()"
     ],
     "language": "python",
     "metadata": {},
     "outputs": [],
     "prompt_number": 112
    },
    {
     "cell_type": "code",
     "collapsed": false,
     "input": [],
     "language": "python",
     "metadata": {},
     "outputs": []
    }
   ],
   "metadata": {}
  }
 ]
}